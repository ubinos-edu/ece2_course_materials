{
 "cells": [
  {
   "cell_type": "markdown",
   "metadata": {},
   "source": [
    "# 실험 05-01 BJT의 전압-전류 특성"
   ]
  },
  {
   "cell_type": "markdown",
   "metadata": {},
   "source": [
    "## 공통 코드"
   ]
  },
  {
   "cell_type": "code",
   "execution_count": null,
   "metadata": {},
   "outputs": [],
   "source": [
    "import matplotlib.pyplot as plt\n",
    "import numpy as np\n",
    "import pandas as pd\n",
    "import re\n",
    "from scipy.signal import savgol_filter # 사비츠키-골레이(Savitzky-Golay) 필터\n",
    "from numpy import nan, inf\n",
    "\n",
    "# %matplotlib tk\n",
    "# %matplotlib inline\n",
    "\n",
    "def tangent_line(f, x):\n",
    "    h = 1e-4\n",
    "    d = (f(x+h) - f(x-h)) / (2*h)\n",
    "    return lambda t: d*t - d*x + f(x)\n",
    "\n",
    "def get_simulation_result(file_name, start=0, end=-1):\n",
    "    with open(file_name, encoding='cp1252') as data_file:\n",
    "        lines = data_file.read()\n",
    "        occurrences = lines.count('Step Information:')\n",
    "        data_file.seek(0)\n",
    "\n",
    "        line = data_file.readline()\n",
    "        labels = re.split(', | ,|\\t', line)\n",
    "        labels = [s.strip().upper() for s in labels]\n",
    "\n",
    "        data = {}\n",
    "\n",
    "        if (occurrences == 0):\n",
    "            for label in labels:\n",
    "                data[label] = []\n",
    "            \n",
    "            for line in data_file:\n",
    "                values = re.split(', | ,|\\t', line)\n",
    "                for i in range(len(values)):\n",
    "                    value = float(values[i]) * 1000\n",
    "                    data[labels[i]].append(value)\n",
    "\n",
    "        else:\n",
    "            labels_all =[]\n",
    "            \n",
    "            lines = data_file.readline() # skip first line starting with 'Step Information:'\n",
    "\n",
    "            for idx in range(occurrences):\n",
    "                labels_new = []\n",
    "                for label in labels:\n",
    "                    labels_new.append('(%s)@%d' % (label, idx+1))\n",
    "                labels_all += labels_new\n",
    "\n",
    "                for label_new in labels_new:\n",
    "                    data[label_new] = []\n",
    "\n",
    "                for line in data_file:\n",
    "                    if (line.startswith('Step Information:')):\n",
    "                        break\n",
    "                    values = re.split(', | ,|\\t', line)\n",
    "                    for i in range(len(values)):\n",
    "                        value = float(values[i]) * 1000\n",
    "                        data[labels_new[i]].append(value)\n",
    "\n",
    "            labels = labels_all\n",
    "\n",
    "        for label in labels:\n",
    "            data[label] = np.array(data[label][start:end])\n",
    "\n",
    "    # print(\"labels = \", end='')\n",
    "    # print(list(data.keys()))\n",
    "    for label in list(data.keys()):\n",
    "        print(\"data['%s'] : sample number = %d\" % (label, len(data[label])))\n",
    "\n",
    "    return data\n",
    "\n",
    "def get_oscilloscpoe_result_tektronix(file_name, start=0, end=-1):\n",
    "    df = pd.read_csv(file_name, header=None, encoding='cp1252',low_memory=False)\n",
    "\n",
    "    label_ri = df.loc[df.iloc[:,0] == 'Source', 1].index\n",
    "    ci = 0\n",
    "    data = {}\n",
    "    data['TIME'] = df.iloc[start:end, 3].to_numpy().astype(float)\n",
    "    data['TIME'] -= data['TIME'][0]\n",
    "    for idx in range(df.shape[1]//6):\n",
    "        label = df.iloc[label_ri, ci+1].item()\n",
    "        data[label] = df.iloc[start:end,ci+4].to_numpy().astype(float)\n",
    "        ci += 6\n",
    "\n",
    "    # print(\"labels = \", end='')\n",
    "    # print(list(data.keys()))\n",
    "    for label in list(data.keys()):\n",
    "        print(\"data['%s'] : sample number = %d\" % (label, len(data[label])))\n",
    "\n",
    "    return data\n",
    "\n",
    "def print_array(label, values):\n",
    "    print('%s = [' % label, end='')\n",
    "    for idx, vd in enumerate(values):\n",
    "        print('{:11.3f}'.format(vd), end='')\n",
    "        if (idx+1 != len(values)):\n",
    "            print(', ', end='')\n",
    "    print(']')\n",
    "\n",
    "def print_value(label, value):\n",
    "    print('%s = ' % label, end='')\n",
    "    print('{:11.3f}'.format(value))\n",
    "\n",
    "def draw_plot(xs, ys, label, style_idx, marker_num=16, scatter=False, scatter_s=2):\n",
    "    linestyle  = ['-',          '-',            '-',            '-',            '-', \n",
    "                  '-',          '-',            '-',            '-',            '-', \n",
    "                  '-',          '-',            '-',            '-',            '-', \n",
    "                  '-',          '-',            '-',            '-',            '-', \n",
    "                  '-',          '-',            '-',            '-',            '-']\n",
    "    colors     = ['blue',       'green',        'red',          'orange',       'purple',\n",
    "                  'cyan',       'darkseagreen', 'brown',        'goldenrod',    'darkviolet',\n",
    "                  'steelblue',  'limegreen',    'tomato',       'tan',          'deeppink',\n",
    "                  'navy',       'lightgreen',   'indianred',    'khaki',        'rebeccapurple',\n",
    "                  'slategray',  'forestgreen',  'orangered',    'wheat',        'orchid']\n",
    "    markers    = ['o',          'v',            '<',            's',            'p',\n",
    "                  'h',          '*',            'X',            'x',            '^',\n",
    "                  '>',          'P',            'D',            'H',            'd',\n",
    "                  '|',          '-',            '4'             '5',            '6',\n",
    "                  '7',          '8',            '9 ',           '10',           '+']\n",
    "\n",
    "    if (marker_num > 0):\n",
    "        markeverys = []\n",
    "        if xs[0] > xs[-1]:\n",
    "            first_idx = -1\n",
    "        else:\n",
    "            first_idx = 0\n",
    "        x_step = (xs.max() - xs.min()) / marker_num\n",
    "        for idx in range(len(markers)):\n",
    "            x_start = xs.min() + ((x_step / (len(markers) + 1)) * idx)\n",
    "            marker_list = []\n",
    "            for j in range(marker_num):\n",
    "                tmp_array = np.where(xs > (x_start + (x_step * j)))\n",
    "                if (len(tmp_array[0]) > 0):\n",
    "                    marker_list.append(tmp_array[0][first_idx])\n",
    "            markeverys.append(marker_list)\n",
    "\n",
    "        selected_markevery = markeverys[style_idx]\n",
    "        selected_marker = markers[style_idx]\n",
    "    elif (marker_num == 0):\n",
    "        selected_markevery = None\n",
    "        selected_marker = None\n",
    "    else:\n",
    "        selected_markevery = None\n",
    "        selected_marker = markers[style_idx]\n",
    "\n",
    "    if (scatter):\n",
    "        plt.scatter(xs, ys, color=colors[style_idx], marker=selected_marker, s=scatter_s, label=label)\n",
    "    else:\n",
    "        plt.plot(xs, ys, ls=linestyle[style_idx], color=colors[style_idx], marker=selected_marker, markevery=selected_markevery, label=label)\n",
    "    if (label != None):\n",
    "        plt.legend(bbox_to_anchor=(1.05, 1), loc='upper left', borderaxespad=0.)\n",
    "\n",
    "def set_plot_size(xrate, yrate):\n",
    "    if (len(set_plot_size.g_plt_figsize) == 0):\n",
    "        set_plot_size.g_plt_figsize = plt.rcParams[\"figure.figsize\"]\n",
    "    size = []\n",
    "    size.append(set_plot_size.g_plt_figsize[0] * xrate)\n",
    "    size.append(set_plot_size.g_plt_figsize[1] * yrate)\n",
    "    plt.figure(figsize=size)\n",
    "\n",
    "set_plot_size.g_plt_figsize = []"
   ]
  },
  {
   "cell_type": "markdown",
   "metadata": {},
   "source": [
    "*******************************************************************************\n",
    "## 실험 1-1 결과 분석 (실험 과정 5)"
   ]
  },
  {
   "cell_type": "markdown",
   "metadata": {},
   "source": [
    "### 회로도\n",
    "\n",
    "* 사용한 소자\n",
    "    + resistor: 100 kOhm, 10 Ohm\n",
    "    + NPN형 BJT: Q2N3904\n",
    "\n",
    "![Markdown-mark](../experiment/circuit_01_01_01.jpeg)\n",
    "![Markdown-mark](../experiment/circuit_01_01_02.jpeg)"
   ]
  },
  {
   "cell_type": "markdown",
   "metadata": {},
   "source": [
    "### 1. 실험 결과를 가져온다."
   ]
  },
  {
   "cell_type": "code",
   "execution_count": null,
   "metadata": {},
   "outputs": [],
   "source": [
    "data = []\n",
    "\n",
    "data.append(get_oscilloscpoe_result_tektronix('../experiment/m_01_01.csv'))\n",
    "data.append(get_oscilloscpoe_result_tektronix('../experiment/m_01_02.csv'))\n",
    "data.append(get_oscilloscpoe_result_tektronix('../experiment/m_01_03.csv'))\n",
    "data.append(get_oscilloscpoe_result_tektronix('../experiment/m_01_04.csv'))\n",
    "data.append(get_oscilloscpoe_result_tektronix('../experiment/m_01_05.csv'))\n",
    "data.append(get_oscilloscpoe_result_tektronix('../experiment/m_01_06.csv'))"
   ]
  },
  {
   "cell_type": "markdown",
   "metadata": {},
   "source": [
    "### 2. 실험 결과에서 $V_C$, $V_E$를 가져온다.\n",
    "\n",
    "측정치를 가져올 때 1000을 곱해 단위를 밀리로 변환한다."
   ]
  },
  {
   "cell_type": "code",
   "execution_count": null,
   "metadata": {},
   "outputs": [],
   "source": [
    "timesl = []\n",
    "vcsl = []\n",
    "vesl = []\n",
    "labels = [500., 1000., 2000., 3000., 4000., 5000.] # VBB_mV\n",
    "\n",
    "for idx in range(len(labels)):\n",
    "    vcsl.append(data[idx]['Sample CH1'] * 1000)\n",
    "    vesl.append(data[idx]['Sample CH2'] * 1000)\n",
    "    vcsl[-1] = savgol_filter(vcsl[-1], 100, 2)\n",
    "    vesl[-1] = savgol_filter(vesl[-1], 100, 2)\n"
   ]
  },
  {
   "cell_type": "markdown",
   "metadata": {},
   "source": [
    "### 3. $V_C$를 x축, $V_E$를 y축으로 하는 그래프를 그린다."
   ]
  },
  {
   "cell_type": "code",
   "execution_count": null,
   "metadata": {},
   "outputs": [],
   "source": [
    "plt.xlabel('VC_mV')\n",
    "plt.ylabel('VE_mA')\n",
    "plt.axhline(0, color='black')\n",
    "plt.axvline(0, color='black')\n",
    "for idx in range(len(labels)):\n",
    "    draw_plot(vcsl[idx], vesl[idx], 'IC (VBB=%dmV)' % labels[idx], idx, scatter=True)\n",
    "plt.show()"
   ]
  },
  {
   "cell_type": "markdown",
   "metadata": {},
   "source": [
    "*******************************************************************************\n",
    "## 실험 1-2 결과 분석 (실험 과정 6)"
   ]
  },
  {
   "cell_type": "markdown",
   "metadata": {},
   "source": [
    "### 회로도\n",
    "\n",
    "![Markdown-mark](../experiment/circuit_01_02_01.jpeg)\n",
    "![Markdown-mark](../experiment/circuit_01_02_02.jpeg)"
   ]
  },
  {
   "cell_type": "markdown",
   "metadata": {},
   "source": [
    "### 1. 실험 결과를 가져온다."
   ]
  },
  {
   "cell_type": "code",
   "execution_count": null,
   "metadata": {},
   "outputs": [],
   "source": [
    "labels = [500., 1000., 2000., 3000., 4000., 5000.]\n",
    "\n",
    "icsl = []\n",
    "\n",
    "vces =      np.array([    100.000,     400.000,     800.000,    2000.000])\n",
    "icsl.append(np.array([          ?,           ?,           ?,           ?])) # VBB =   500.000\n",
    "icsl.append(np.array([          ?,           ?,           ?,           ?])) # VBB =  1000.000\n",
    "icsl.append(np.array([          ?,           ?,           ?,           ?])) # VBB =  2000.000\n",
    "icsl.append(np.array([          ?,           ?,           ?,           ?])) # VBB =  3000.000\n",
    "icsl.append(np.array([          ?,           ?,           ?,           ?])) # VBB =  4000.000\n",
    "icsl.append(np.array([          ?,           ?,           ?,           ?])) # VBB =  5000.000\n",
    "\n",
    "print_array('                     VCE_mV', vces)\n",
    "for idx in range(len(labels)):\n",
    "    print_array('VBB_mV = {:11.3f}: IB_mA'.format(labels[idx]), icsl[idx])"
   ]
  },
  {
   "cell_type": "markdown",
   "metadata": {},
   "source": [
    "### 2. $V_{CE}$을 x축, $I_C$를 y축으로 하는 그래프를 그린다."
   ]
  },
  {
   "cell_type": "code",
   "execution_count": null,
   "metadata": {},
   "outputs": [],
   "source": [
    "plt.xlabel('VCE_mV')\n",
    "plt.ylabel('I_mA')\n",
    "plt.axhline(0, color='black')\n",
    "plt.axvline(0, color='black')\n",
    "for idx in range(len(labels)):\n",
    "    draw_plot(vces, icsl[idx], 'IC (VBB=%d)' % labels[idx], idx, marker_num=-1)\n",
    "plt.show()"
   ]
  },
  {
   "cell_type": "markdown",
   "metadata": {},
   "source": [
    "*******************************************************************************\n",
    "## 실험 2-1 결과 분석 (실험 과정 5)"
   ]
  },
  {
   "cell_type": "markdown",
   "metadata": {},
   "source": [
    "### 회로도\n",
    "\n",
    "![Markdown-mark](../experiment/circuit_02_01_01.jpeg)\n",
    "![Markdown-mark](../experiment/circuit_02_01_02.jpeg)"
   ]
  },
  {
   "cell_type": "markdown",
   "metadata": {},
   "source": [
    "### 1. 실험 결과를 가져온다."
   ]
  },
  {
   "cell_type": "code",
   "execution_count": null,
   "metadata": {},
   "outputs": [],
   "source": [
    "RB = 100.*1000\n",
    "\n",
    "vbbs =      np.array([    200.000,     400.000,     600.000,     800.000,    1000.000,    2000.000,    3000.000,    4000.000])\n",
    "vbes =      np.array([          ?,           ?,           ?,           ?,           ?,           ?,           ?,           ?])\n",
    "ics  =      np.array([          ?,           ?,           ?,           ?,           ?,           ?,           ?,           ?])\n",
    "ies  =      np.array([          ?,           ?,           ?,           ?,           ?,           ?,           ?,           ?])\n",
    "\n",
    "ibs  = (vbbs - vbes) / RB\n",
    "\n",
    "print_array('VBB_mV', vbbs)\n",
    "print_array('VBE_mA', vbes)\n",
    "print_array('IB_mA ', ibs)\n",
    "print_array('IC_mA ', ics)\n",
    "print_array('IE_mA ', ies)"
   ]
  },
  {
   "cell_type": "code",
   "execution_count": null,
   "metadata": {},
   "outputs": [],
   "source": [
    "beta_dcs = np.concatenate([np.array([nan, nan, nan,]), np.array(ics[3:])/np.array(ibs[3:])])\n",
    "print_array('Beta_DC ', beta_dcs)\n",
    "\n",
    "alpha_dcs = np.concatenate([np.array([nan, nan,]), np.array(ics[2:])/np.array(ies[2:])])\n",
    "print_array('Alpha_DC', alpha_dcs)"
   ]
  },
  {
   "cell_type": "markdown",
   "metadata": {},
   "source": [
    "### 2. $V_{BB}$를 x축, $I_B$를 y축으로 하는 그래프를 그린다."
   ]
  },
  {
   "cell_type": "code",
   "execution_count": null,
   "metadata": {},
   "outputs": [],
   "source": [
    "plt.xlabel('VBB_mV')\n",
    "plt.ylabel('I_mA')\n",
    "plt.axhline(0, color='black')\n",
    "plt.axvline(0, color='black')\n",
    "draw_plot(vbes, ibs, 'IB (VCE=%d)' % 4000, 0, marker_num=-1)\n",
    "plt.show()"
   ]
  },
  {
   "cell_type": "markdown",
   "metadata": {},
   "source": [
    "### 2. $V_{BB}$를 x축, $I_C$, $I_E$를 y축으로 하는 그래프를 그린다."
   ]
  },
  {
   "cell_type": "code",
   "execution_count": null,
   "metadata": {},
   "outputs": [],
   "source": [
    "plt.xlabel('VBB_mV')\n",
    "plt.ylabel('I_mA')\n",
    "plt.axhline(0, color='black')\n",
    "plt.axvline(0, color='black')\n",
    "draw_plot(vbes, ics, 'IC (VCE=%d)' % 4000, 0, marker_num=-1)\n",
    "draw_plot(vbes, ies, 'IE (VCE=%d)' % 4000, 1, marker_num=-1)\n",
    "plt.show()"
   ]
  },
  {
   "cell_type": "code",
   "execution_count": null,
   "metadata": {},
   "outputs": [],
   "source": [
    "plt.xlabel('VBB_mV')\n",
    "plt.ylabel('I_mA')\n",
    "plt.axhline(0, color='black')\n",
    "plt.axvline(0, color='black')\n",
    "draw_plot(vbes, ics, 'IC (VCE=%d)' % 4000, 0, marker_num=-1)\n",
    "draw_plot(vbes, ies, 'IE (VCE=%d)' % 4000, 1, marker_num=-1)\n",
    "ax = plt.gca()\n",
    "ax.set_xlim([722, 726])\n",
    "ax.set_ylim([6.0, 7.0])\n",
    "plt.show()\n",
    "\n",
    "# ax.set_xlim([716, 720])\n",
    "# ax.set_ylim([4.8, 5.4])\n"
   ]
  },
  {
   "cell_type": "markdown",
   "metadata": {},
   "source": [
    "*******************************************************************************\n",
    "## 실험 3-1 결과 분석 (실험 과정 5)"
   ]
  },
  {
   "cell_type": "markdown",
   "metadata": {},
   "source": [
    "### 회로도\n",
    "\n",
    "* 사용한 소자\n",
    "    + resistor: 100 kOhm, 10 Ohm\n",
    "    + PNP형 BJT: Q2N3905\n",
    "\n",
    "![Markdown-mark](../experiment/circuit_03_01_01.jpeg)\n",
    "![Markdown-mark](../experiment/circuit_03_01_02.jpeg)"
   ]
  },
  {
   "cell_type": "markdown",
   "metadata": {},
   "source": [
    "### 1. 실험 결과를 가져온다."
   ]
  },
  {
   "cell_type": "code",
   "execution_count": null,
   "metadata": {},
   "outputs": [],
   "source": [
    "data = []\n",
    "\n",
    "data.append(get_oscilloscpoe_result_tektronix('../experiment/m_02_01.csv'))\n",
    "data.append(get_oscilloscpoe_result_tektronix('../experiment/m_02_02.csv'))\n",
    "data.append(get_oscilloscpoe_result_tektronix('../experiment/m_02_03.csv'))\n",
    "data.append(get_oscilloscpoe_result_tektronix('../experiment/m_02_04.csv'))\n",
    "data.append(get_oscilloscpoe_result_tektronix('../experiment/m_02_05.csv'))\n",
    "data.append(get_oscilloscpoe_result_tektronix('../experiment/m_02_06.csv'))"
   ]
  },
  {
   "cell_type": "markdown",
   "metadata": {},
   "source": [
    "### 2. 실험 결과에서 $V_C$, $V_E$를 가져온다.\n",
    "\n",
    "측정치를 가져올 때 1000을 곱해 단위를 밀리로 변환한다."
   ]
  },
  {
   "cell_type": "code",
   "execution_count": null,
   "metadata": {},
   "outputs": [],
   "source": [
    "vcsl = []\n",
    "vesl = []\n",
    "labels = [-500., -1000., -2000., -3000., -4000., -5000.]\n",
    "\n",
    "for idx in range(len(labels)):\n",
    "    vcsl.append(data[idx]['Sample CH1'] * 1000)\n",
    "    vesl.append(data[idx]['Sample CH2'] * 1000)\n",
    "    vcsl[-1] = savgol_filter(vcsl[-1], 100, 2)\n",
    "    vesl[-1] = savgol_filter(vesl[-1], 100, 2)\n"
   ]
  },
  {
   "cell_type": "markdown",
   "metadata": {},
   "source": [
    "### 3. $V_C$를 x축, $V_E$를 y축으로 하는 그래프를 그린다."
   ]
  },
  {
   "cell_type": "code",
   "execution_count": null,
   "metadata": {},
   "outputs": [],
   "source": [
    "plt.xlabel('VC_mV')\n",
    "plt.ylabel('VE_mA')\n",
    "plt.axhline(0, color='black')\n",
    "plt.axvline(0, color='black')\n",
    "for idx in range(len(labels)):\n",
    "    draw_plot(vcsl[idx], vesl[idx], 'IC (VBB=%dmV)' % labels[idx], idx, scatter=True)\n",
    "plt.show()"
   ]
  },
  {
   "cell_type": "markdown",
   "metadata": {},
   "source": [
    "*******************************************************************************\n",
    "## 실험 3-2 결과 분석 (실험 과정 6)"
   ]
  },
  {
   "cell_type": "markdown",
   "metadata": {},
   "source": [
    "### 회로도\n",
    "\n",
    "![Markdown-mark](../experiment/circuit_03_02_01.jpeg)\n",
    "![Markdown-mark](../experiment/circuit_03_02_02.jpeg)"
   ]
  },
  {
   "cell_type": "markdown",
   "metadata": {},
   "source": [
    "### 1. 실험 결과를 가져온다."
   ]
  },
  {
   "cell_type": "code",
   "execution_count": null,
   "metadata": {},
   "outputs": [],
   "source": [
    "labels = [-500., -1000., -2000., -3000., -4000., -5000.]\n",
    "\n",
    "icsl = []\n",
    "\n",
    "vces =      np.array([   -100.000,    -400.000,    -800.000,   -2000.000])\n",
    "icsl.append(np.array([          ?,           ?,           ?,           ?])) # VBB =   -500.000\n",
    "icsl.append(np.array([          ?,           ?,           ?,           ?])) # VBB =  -1000.000\n",
    "icsl.append(np.array([          ?,           ?,           ?,           ?])) # VBB =  -2000.000\n",
    "icsl.append(np.array([          ?,           ?,           ?,           ?])) # VBB =  -3000.000\n",
    "icsl.append(np.array([          ?,           ?,           ?,           ?])) # VBB =  -4000.000\n",
    "icsl.append(np.array([          ?,           ?,           ?,           ?])) # VBB =  -5000.000\n",
    "\n",
    "print_array('                     VCE_mV', vces)\n",
    "for idx in range(len(labels)):\n",
    "    print_array('VBB_mV = {:11.3f}: IB_mA'.format(labels[idx]), icsl[idx])"
   ]
  },
  {
   "cell_type": "markdown",
   "metadata": {},
   "source": [
    "### 2. $V_{CE}$을 x축, $I_C$를 y축으로 하는 그래프를 그린다."
   ]
  },
  {
   "cell_type": "code",
   "execution_count": null,
   "metadata": {},
   "outputs": [],
   "source": [
    "plt.xlabel('VCE_mV')\n",
    "plt.ylabel('I_mA')\n",
    "plt.axhline(0, color='black')\n",
    "plt.axvline(0, color='black')\n",
    "for idx in range(len(labels)):\n",
    "    draw_plot(vces, icsl[idx], 'IC (VBB=%d)' % labels[idx], idx, marker_num=-1)\n",
    "plt.show()"
   ]
  },
  {
   "cell_type": "markdown",
   "metadata": {},
   "source": [
    "*******************************************************************************\n",
    "## 실험 4-1 결과 분석 (실험 과정 5)"
   ]
  },
  {
   "cell_type": "markdown",
   "metadata": {},
   "source": [
    "### 회로도\n",
    "\n",
    "![Markdown-mark](../experiment/circuit_04_01_01.jpeg)\n",
    "![Markdown-mark](../experiment/circuit_04_01_02.jpeg)"
   ]
  },
  {
   "cell_type": "markdown",
   "metadata": {},
   "source": [
    "### 1. 실험 결과를 가져온다."
   ]
  },
  {
   "cell_type": "code",
   "execution_count": null,
   "metadata": {},
   "outputs": [],
   "source": [
    "RB = 100.*1000\n",
    "\n",
    "vbbs =      np.array([   -200.000,    -400.000,    -600.000,    -800.000,   -1000.000,   -2000.000,   -3000.000,   -4000.000])\n",
    "vbes =      np.array([          ?,           ?,           ?,           ?,           ?,           ?,           ?,           ?])\n",
    "ics  =      np.array([          ?,           ?,           ?,           ?,           ?,           ?,           ?,           ?])\n",
    "ies  =      np.array([          ?,           ?,           ?,           ?,           ?,           ?,           ?,           ?])\n",
    "\n",
    "ibs  = (vbbs - vbes) / RB\n",
    "\n",
    "print_array('VBB_mV', vbbs)\n",
    "print_array('VBE_mA', vbes)\n",
    "print_array('IB_mA ', ibs)\n",
    "print_array('IC_mA ', ics)\n",
    "print_array('IE_mA ', ies)"
   ]
  },
  {
   "cell_type": "code",
   "execution_count": null,
   "metadata": {},
   "outputs": [],
   "source": [
    "beta_dcs = np.concatenate([np.array([nan, nan, nan,]), np.array(ics[3:])/np.array(ibs[3:])])\n",
    "print_array('Beta_DC ', beta_dcs)\n",
    "\n",
    "alpha_dcs = np.concatenate([np.array([nan, nan,]), np.array(ics[2:])/np.array(ies[2:])])\n",
    "print_array('Alpha_DC', alpha_dcs)"
   ]
  },
  {
   "cell_type": "markdown",
   "metadata": {},
   "source": [
    "### 2. $V_{BB}$를 x축, $I_B$를 y축으로 하는 그래프를 그린다."
   ]
  },
  {
   "cell_type": "code",
   "execution_count": null,
   "metadata": {},
   "outputs": [],
   "source": [
    "plt.xlabel('VBB_mV')\n",
    "plt.ylabel('I_mA')\n",
    "plt.axhline(0, color='black')\n",
    "plt.axvline(0, color='black')\n",
    "draw_plot(vbes, ibs, 'IB (VCE=%d)' % 4000, 0, marker_num=-1)\n",
    "plt.show()"
   ]
  },
  {
   "cell_type": "markdown",
   "metadata": {},
   "source": [
    "### 2. $V_{BB}$를 x축, $I_C$, $I_E$를 y축으로 하는 그래프를 그린다."
   ]
  },
  {
   "cell_type": "code",
   "execution_count": null,
   "metadata": {},
   "outputs": [],
   "source": [
    "plt.xlabel('VBB_mV')\n",
    "plt.ylabel('I_mA')\n",
    "plt.axhline(0, color='black')\n",
    "plt.axvline(0, color='black')\n",
    "draw_plot(vbes, ics, 'IC (VCE=%d)' % 4000, 0, marker_num=-1)\n",
    "draw_plot(vbes, ies, 'IE (VCE=%d)' % 4000, 1, marker_num=-1)\n",
    "plt.show()"
   ]
  },
  {
   "cell_type": "code",
   "execution_count": null,
   "metadata": {},
   "outputs": [],
   "source": [
    "plt.xlabel('VBB_mV')\n",
    "plt.ylabel('I_mA')\n",
    "plt.axhline(0, color='black')\n",
    "plt.axvline(0, color='black')\n",
    "draw_plot(vbes, ics, 'IC (VCE=%d)' % 4000, 0, marker_num=-1)\n",
    "draw_plot(vbes, ies, 'IE (VCE=%d)' % 4000, 1, marker_num=-1)\n",
    "ax = plt.gca()\n",
    "ax.set_xlim([-720, -716])\n",
    "ax.set_ylim([-5.4, -4.8])\n",
    "plt.show()\n",
    "plt.show()"
   ]
  }
 ],
 "metadata": {
  "kernelspec": {
   "display_name": "Python 3.10.6 64-bit",
   "language": "python",
   "name": "python3"
  },
  "language_info": {
   "codemirror_mode": {
    "name": "ipython",
    "version": 3
   },
   "file_extension": ".py",
   "mimetype": "text/x-python",
   "name": "python",
   "nbconvert_exporter": "python",
   "pygments_lexer": "ipython3",
   "version": "3.10.6"
  },
  "orig_nbformat": 4,
  "vscode": {
   "interpreter": {
    "hash": "45d5ea1a628b116fc37336f3e2703270bd779ac9277507a8bf46eb41278a50a9"
   }
  }
 },
 "nbformat": 4,
 "nbformat_minor": 2
}
