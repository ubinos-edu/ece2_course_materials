{
 "cells": [
  {
   "cell_type": "markdown",
   "metadata": {},
   "source": [
    "# 실험 06-01 BJT 바이어스 회로 시뮬레이션"
   ]
  },
  {
   "cell_type": "markdown",
   "metadata": {},
   "source": [
    "## 공통 코드"
   ]
  },
  {
   "cell_type": "code",
   "execution_count": null,
   "metadata": {},
   "outputs": [],
   "source": [
    "import matplotlib.pyplot as plt\n",
    "import numpy as np\n",
    "import pandas as pd\n",
    "import re\n",
    "import io\n",
    "from scipy.signal import savgol_filter # 사비츠키-골레이(Savitzky-Golay) 필터\n",
    "from numpy import nan, inf\n",
    "\n",
    "# %matplotlib tk\n",
    "# %matplotlib inline\n",
    "\n",
    "def tangent_line(f, x):\n",
    "    h = 1e-4\n",
    "    d = (f(x+h) - f(x-h)) / (2*h)\n",
    "    return lambda t: d*t - d*x + f(x)\n",
    "\n",
    "def derivative(f, x):\n",
    "    h = 1e-4\n",
    "    d = (f(x+h) - f(x-h)) / (2*h)\n",
    "    return d\n",
    "\n",
    "def get_simulation_result(file_name, start=0, end=-1):\n",
    "    if end == -1:\n",
    "        end = None\n",
    "    else:\n",
    "        end += 1\n",
    "    \n",
    "    with open(file_name, encoding='cp1252') as data_file:\n",
    "        lines = data_file.read()\n",
    "        occurrences = lines.count('Step Information:')\n",
    "        data_file.seek(0)\n",
    "\n",
    "        line = data_file.readline()\n",
    "        labels = re.split(', | ,|\\t', line)\n",
    "        labels = [s.strip().upper() for s in labels]\n",
    "\n",
    "        data = {}\n",
    "\n",
    "        if (occurrences == 0):\n",
    "            for label in labels:\n",
    "                data[label] = []\n",
    "            \n",
    "            for line in data_file:\n",
    "                values = re.split(', | ,|\\t', line)\n",
    "                for i in range(len(values)):\n",
    "                    value = float(values[i]) * 1000\n",
    "                    data[labels[i]].append(value)\n",
    "\n",
    "        else:\n",
    "            labels_all =[]\n",
    "            \n",
    "            lines = data_file.readline() # skip first line starting with 'Step Information:'\n",
    "\n",
    "            for idx in range(occurrences):\n",
    "                labels_new = []\n",
    "                for label in labels:\n",
    "                    labels_new.append('(%s)@%d' % (label, idx+1))\n",
    "                labels_all += labels_new\n",
    "\n",
    "                for label_new in labels_new:\n",
    "                    data[label_new] = []\n",
    "\n",
    "                for line in data_file:\n",
    "                    if (line.startswith('Step Information:')):\n",
    "                        break\n",
    "                    values = re.split(', | ,|\\t', line)\n",
    "                    for i in range(len(values)):\n",
    "                        value = float(values[i]) * 1000\n",
    "                        data[labels_new[i]].append(value)\n",
    "\n",
    "            labels = labels_all\n",
    "\n",
    "        for label in labels:\n",
    "            data[label] = np.array(data[label][start:end])\n",
    "\n",
    "    # print(\"labels = \", end='')\n",
    "    # print(list(data.keys()))\n",
    "    for label in list(data.keys()):\n",
    "        print(\"data['%s'] : sample number = %d\" % (label, len(data[label])))\n",
    "\n",
    "    return data\n",
    "\n",
    "def get_oscilloscpoe_result_tektronix(file_name, start=0, end=-1):\n",
    "    if end == -1:\n",
    "        end = None\n",
    "    else:\n",
    "        end += 1\n",
    "\n",
    "    df = pd.read_csv(file_name, header=None, encoding='cp1252',low_memory=False)\n",
    "\n",
    "    label_ri = df.loc[df.iloc[:,0] == 'Source', 1].index\n",
    "    ci = 0\n",
    "    data = {}\n",
    "    data['TIME'] = df.iloc[start:end, 3].to_numpy().astype(float)\n",
    "    data['TIME'] -= data['TIME'][0]\n",
    "    for idx in range(df.shape[1]//6):\n",
    "        label = df.iloc[label_ri, ci+1].item()\n",
    "        data[label] = df.iloc[start:end,ci+4].to_numpy().astype(float)\n",
    "        ci += 6\n",
    "\n",
    "    # print(\"labels = \", end='')\n",
    "    # print(list(data.keys()))\n",
    "    for label in list(data.keys()):\n",
    "        print(\"data['%s'] : sample number = %d\" % (label, len(data[label])))\n",
    "\n",
    "    return data\n",
    "\n",
    "def print_array(label, values):\n",
    "    print('%s = [' % label, end='')\n",
    "    for idx, vd in enumerate(values):\n",
    "        print('{:11.3f}'.format(vd), end='')\n",
    "        if (idx+1 != len(values)):\n",
    "            print(', ', end='')\n",
    "    print(']')\n",
    "\n",
    "def print_value(label, value):\n",
    "    print('%s = ' % label, end='')\n",
    "    print('{:11.3f}'.format(value))\n",
    "\n",
    "def print_value_to_string(label, value):\n",
    "    output = io.StringIO()\n",
    "    print('%s = ' % label, end='', file=output)\n",
    "    print('{:11.3f}'.format(value), file=output)\n",
    "    captured = output.getvalue()\n",
    "    return captured\n",
    "\n",
    "def draw_plot(xs, ys, label, style_idx, color_idx=-1, marker_num=16, scatter=False, scatter_s=2):\n",
    "    linestyle  = ['-',          '-',            '-',            '-',            '-', \n",
    "                  '-',          '-',            '-',            '-',            '-', \n",
    "                  '-',          '-',            '-',            '-',            '-', \n",
    "                  '-',          '-',            '-',            '-',            '-', \n",
    "                  '-',          '-',            '-',            '-',            '-']\n",
    "    colors     = ['blue',       'green',        'red',          'orange',       'purple',\n",
    "                  'cyan',       'darkseagreen', 'brown',        'goldenrod',    'darkviolet',\n",
    "                  'steelblue',  'limegreen',    'tomato',       'tan',          'deeppink',\n",
    "                  'navy',       'lightgreen',   'indianred',    'khaki',        'rebeccapurple',\n",
    "                  'slategray',  'forestgreen',  'orangered',    'wheat',        'orchid']\n",
    "    markers    = ['o',          'v',            '<',            's',            'p',\n",
    "                  'h',          '*',            'X',            'x',            '^',\n",
    "                  '>',          'P',            'D',            'H',            'd',\n",
    "                  '|',          '-',            '4'             '5',            '6',\n",
    "                  '7',          '8',            '9 ',           '10',           '+']\n",
    "\n",
    "    if color_idx < 0:\n",
    "        color_idx = style_idx\n",
    "\n",
    "    if isinstance(xs, list):\n",
    "        xs = np.array(xs)\n",
    "    if isinstance(ys, list):\n",
    "        ys = np.array(ys)\n",
    "\n",
    "    if (marker_num == 0):\n",
    "        selected_markevery = None\n",
    "        selected_marker = None\n",
    "    elif not isinstance(xs, np.ndarray):\n",
    "        selected_markevery = None\n",
    "        selected_marker = markers[style_idx]\n",
    "    elif (marker_num > 0):\n",
    "        markeverys = []\n",
    "        if xs[0] > xs[-1]:\n",
    "            first_idx = -1\n",
    "        else:\n",
    "            first_idx = 0\n",
    "        x_step = (xs.max() - xs.min()) / marker_num\n",
    "        for idx in range(len(markers)):\n",
    "            x_start = xs.min() + ((x_step / (len(markers) + 1)) * idx)\n",
    "            marker_list = []\n",
    "            for j in range(marker_num):\n",
    "                tmp_array = np.where(xs > (x_start + (x_step * j)))\n",
    "                if (len(tmp_array[0]) > 0):\n",
    "                    marker_list.append(tmp_array[0][first_idx])\n",
    "            markeverys.append(marker_list)\n",
    "\n",
    "        selected_markevery = markeverys[style_idx]\n",
    "        selected_marker = markers[style_idx]\n",
    "    else:\n",
    "        selected_markevery = None\n",
    "        selected_marker = markers[style_idx]\n",
    "\n",
    "    if (scatter):\n",
    "        plt.scatter(xs, ys, color=colors[color_idx], marker=selected_marker, s=scatter_s, label=label)\n",
    "    else:\n",
    "        plt.plot(xs, ys, ls=linestyle[style_idx], color=colors[color_idx], marker=selected_marker, markevery=selected_markevery, label=label)\n",
    "    if (label != None):\n",
    "        plt.legend(bbox_to_anchor=(1.05, 1), loc='upper left', borderaxespad=0.)\n",
    "\n",
    "def set_plot_size(xrate, yrate):\n",
    "    if (len(set_plot_size.g_plt_figsize) == 0):\n",
    "        set_plot_size.g_plt_figsize = plt.rcParams[\"figure.figsize\"]\n",
    "    size = []\n",
    "    size.append(set_plot_size.g_plt_figsize[0] * xrate)\n",
    "    size.append(set_plot_size.g_plt_figsize[1] * yrate)\n",
    "    plt.figure(figsize=size)\n",
    "\n",
    "set_plot_size.g_plt_figsize = []"
   ]
  },
  {
   "cell_type": "markdown",
   "metadata": {},
   "source": [
    "## LTspice 명령"
   ]
  },
  {
   "cell_type": "markdown",
   "metadata": {},
   "source": [
    "* 컴포넌트 추가 명령\n",
    "    + Voltage source: Draft -> Component -> voltage (V)\n",
    "    + Resister: Draft -> Component -> res (R)\n",
    "    + Diode: Draft -> Component -> diode (D)\n",
    "    + Capacitor: Draft -> Component -> cap (C)\n",
    "    + Zener diode: Draft -> Component -> zenor\n",
    "    + Bipolar NPN transistor: Draft -> Component -> npn\n",
    "    + Bipolar PNP transistor: Draft -> Component -> pnp\n",
    "    + N-Channel MOSFET transistor: Draft -> Component -> nmos\n",
    "    + Ground: (G)\n",
    "    + SPICE 시뮬레이션 설정 명령: Draft -> SPICE directive (S)\n",
    "    + Net name: Draft ->  Net Name (F4)\n",
    "    + Comment text: Draft -> Comment Text (T)\n",
    "\n",
    "&nbsp;\n",
    "\n",
    "* SPICE 시뮬레이션 설정 명령\n",
    "    * DC Sweep analysis (start and stop value)\n",
    "        + Compute the DC operating point over swept independent source(s).\n",
    "        + Syntax: .dc \\<source1\\> \\<start1\\> \\<stop1\\> [\\<increment1\\>] [\\<source2\\> ...]\n",
    "            + source: source name\n",
    "            + start: start value\n",
    "            + stop: stop value\n",
    "            + increment: increment value\n",
    "    * DC Sweep analysis (list)\n",
    "        + Compute the DC operating point over swept independent source(s).\n",
    "        + Syntax: .dc \\<source1\\> list \\<value1\\> [\\<value2\\> [\\<value3\\> [...]]] [\\<source2\\> ...]\n",
    "            + source: source name\n",
    "    * Transient analysis\n",
    "        + Performa time-domain analysis\n",
    "        + Syntax: .tran \\<Tprint\\> \\<Tstop\\> [\\<Tstart\\> [\\<Tmaxstep\\>]]\n",
    "            - Tprint: printing increment (Use 0 in LTspice)\n",
    "            - Tstop: stop time\n",
    "            - Tstart: time to start saving waveform data\n",
    "            - Tmaxstep: maximum timestep size\n",
    "    * Parametric analysis (start and stop value)\n",
    "        + Performs a parametric sweep for all of the analysis\n",
    "        + Syntax: .step param \\<name\\> \\<start\\> \\<stop\\> \\<step\\>\n",
    "            - name: name of parameter to step\n",
    "            - start: start value\n",
    "            - stop: stop value\n",
    "            - step: value step\n",
    "    * Parametric analysis (list)\n",
    "        + Performs a parametric sweep for all of the analysis\n",
    "        + Syntax: .step param \\<name\\> list \\<value1\\> [\\<value2\\> [\\<value3\\> [...]]]\n",
    "            - name: name of parameter to step\n",
    "    + DC Bias Point  analysis\n",
    "        + Performa DC bias point analysis\n",
    "        + Syntax: .op\n",
    "\n",
    "&nbsp;\n",
    "\n",
    "* 기타 명령\n",
    "    + 회전 (Control + R)\n",
    "    + Wire (F3)\n",
    "    + Move (F7)\n",
    "    + Drag (F8)\n",
    "    + Delete (F5)\n",
    "    + Duplicate (F6)\n"
   ]
  },
  {
   "cell_type": "markdown",
   "metadata": {},
   "source": [
    "*******************************************************************************\n",
    "## 시뮬레이션 1-1 결과 분석"
   ]
  },
  {
   "cell_type": "markdown",
   "metadata": {},
   "source": [
    "## 회로도\n",
    "\n",
    "* 사용한 컴포넌트\n",
    "    + Voltage source: VCC\n",
    "    + Ground\n",
    "    + Resister: R1, R2, RC\n",
    "    + Bipolar NPN transistor : Q1\n",
    "    + Net Name: VB, VC\n",
    "\n",
    "![Markdown-mark](../ltspice/simulation_01_01.png)"
   ]
  },
  {
   "cell_type": "markdown",
   "metadata": {},
   "source": [
    "### 1. 시뮬레이션 결과 파일을 읽는다."
   ]
  },
  {
   "cell_type": "code",
   "execution_count": null,
   "metadata": {},
   "outputs": [],
   "source": [
    "data = get_simulation_result('../ltspice/simulation_01_01.txt')"
   ]
  },
  {
   "cell_type": "markdown",
   "metadata": {},
   "source": [
    "### 2. 시뮬레이션 결과에서 $I_B$, $I_C$, $\\beta_{DC}$, $V_B$, $V_C$, $V_{BE}$, $V_{CE}$, $V_{CB}$를 가져온다."
   ]
  },
  {
   "cell_type": "code",
   "execution_count": null,
   "metadata": {},
   "outputs": [],
   "source": [
    "R_C_kOhm = data['RCVAR'] / 1000000.\n",
    "I_B_mA   = data['IB(Q1)']\n",
    "I_C_mA   = data['IC(Q1)']\n",
    "V_B_V    = data['V(VB)'] / 1000.\n",
    "V_C_V    = data['V(VC)'] / 1000.\n",
    "\n",
    "Beta_DC  = I_C_mA / I_B_mA\n",
    "V_BE_V   = V_B_V\n",
    "V_CE_V   = V_C_V\n",
    "V_CB_V   = V_C_V - V_B_V\n",
    "\n",
    "VCC_V = 10.\n",
    "\n",
    "print_array('R_C_kOhm', R_C_kOhm)\n",
    "print_array('I_B_mA  ', I_B_mA)\n",
    "print_array('I_C_mA  ', I_C_mA)\n",
    "print_array('Beta_DC ', Beta_DC)\n",
    "print_array('V_BE_V  ', V_BE_V)\n",
    "print_array('V_CE_V  ', V_CE_V)\n",
    "print_array('V_CB_V  ', V_CB_V)"
   ]
  },
  {
   "cell_type": "markdown",
   "metadata": {},
   "source": [
    "### 3. $V_{CE}$ - $I_C$ 그래프를 그린다."
   ]
  },
  {
   "cell_type": "code",
   "execution_count": null,
   "metadata": {},
   "outputs": [],
   "source": [
    "plt.xlabel('V_CE_V')\n",
    "plt.ylabel('I_C_mA')\n",
    "plt.axhline(0, color='black')\n",
    "plt.axvline(0, color='black')\n",
    "plt.xlim([-0.5, 10.5])\n",
    "plt.ylim([-1, 22])\n",
    "for idx in range(len(R_C_kOhm)):\n",
    "    draw_plot(V_CE_V[idx], I_C_mA[idx], '(R_C=%1.3fkOhm)' % R_C_kOhm[idx], idx, scatter=True, scatter_s=20)\n",
    "plt.show()"
   ]
  },
  {
   "cell_type": "markdown",
   "metadata": {},
   "source": [
    "### 4. 부하선을 그린다."
   ]
  },
  {
   "cell_type": "code",
   "execution_count": null,
   "metadata": {},
   "outputs": [],
   "source": [
    "plt.xlabel('V_CE_V')\n",
    "plt.ylabel('I_C_mA')\n",
    "plt.axhline(0, color='black')\n",
    "plt.axvline(0, color='black')\n",
    "plt.xlim([-0.5, 10.5])\n",
    "plt.ylim([-1, 22])\n",
    "for idx in range(len(R_C_kOhm)):\n",
    "    draw_plot([0, VCC_V], [VCC_V/R_C_kOhm[idx], 0], None, idx, marker_num = 0)\n",
    "    draw_plot(V_CE_V[idx], I_C_mA[idx], '(R_C=%1.3fkOhm)' % R_C_kOhm[idx], idx, scatter=True, scatter_s=20)\n",
    "plt.show()"
   ]
  },
  {
   "cell_type": "markdown",
   "metadata": {},
   "source": [
    "*******************************************************************************\n",
    "## 시뮬레이션 1-2 결과 분석"
   ]
  },
  {
   "cell_type": "markdown",
   "metadata": {},
   "source": [
    "## 회로도\n",
    "\n",
    "* 사용한 컴포넌트\n",
    "    + Voltage source: VBE, VCE\n",
    "    + Ground\n",
    "    + Bipolar NPN transistor : Q1\n",
    "    + Net Name: VB, VC\n",
    "\n",
    "![Markdown-mark](../ltspice/simulation_01_02.png)"
   ]
  },
  {
   "cell_type": "markdown",
   "metadata": {},
   "source": [
    "### 1. 시뮬레이션 결과 파일을 읽는다."
   ]
  },
  {
   "cell_type": "code",
   "execution_count": null,
   "metadata": {},
   "outputs": [],
   "source": [
    "data = get_simulation_result('../ltspice/simulation_01_02.txt')"
   ]
  },
  {
   "cell_type": "markdown",
   "metadata": {},
   "source": [
    "### 2. 시뮬레이션 결과에서 $I_C$, $V_{CE}$를 가져온다."
   ]
  },
  {
   "cell_type": "code",
   "execution_count": null,
   "metadata": {},
   "outputs": [],
   "source": [
    "I_C_mA_dc_sweep = []\n",
    "V_CE_V_dc_sweep = []\n",
    "labels = [0.712, 0.712, 0.712, 0.711, 0.706, 0.701] # VBE\n",
    "\n",
    "for idx in range(len(labels)):\n",
    "    I_C_mA_dc_sweep.append(data['(IC(Q1))@%d' % (idx+1)])\n",
    "    V_CE_V_dc_sweep.append(data['(V(VC))@%d' % (idx+1)] / 1000.)"
   ]
  },
  {
   "cell_type": "markdown",
   "metadata": {},
   "source": [
    "### 3. $V_{CE}$ - $I_C$ 그래프를 그린다."
   ]
  },
  {
   "cell_type": "code",
   "execution_count": null,
   "metadata": {},
   "outputs": [],
   "source": [
    "plt.xlabel('V_CE_V')\n",
    "plt.ylabel('I_C_mA')\n",
    "plt.axhline(0, color='black')\n",
    "plt.axvline(0, color='black')\n",
    "plt.xlim([-0.5, 6.5])\n",
    "plt.ylim([-0.5, 7.5])\n",
    "for idx in range(len(labels)):\n",
    "    draw_plot(V_CE_V_dc_sweep[idx], I_C_mA_dc_sweep[idx], '(V_BE=%1.3fV)' % labels[idx], idx, marker_num=0)\n",
    "plt.show()"
   ]
  },
  {
   "cell_type": "markdown",
   "metadata": {},
   "source": [
    "### 4. 시뮬레이션 1-1의 결과와 비교한다."
   ]
  },
  {
   "cell_type": "code",
   "execution_count": null,
   "metadata": {},
   "outputs": [],
   "source": [
    "plt.xlabel('V_CE_V')\n",
    "plt.ylabel('I_C_mA')\n",
    "plt.axhline(0, color='black')\n",
    "plt.axvline(0, color='black')\n",
    "plt.xlim([-0.5, 10.5])\n",
    "plt.ylim([-1, 7])\n",
    "for idx in range(len(R_C_kOhm)):\n",
    "    draw_plot([0, VCC_V], [VCC_V/R_C_kOhm[idx], 0], None, idx, marker_num = 0)\n",
    "    draw_plot(V_CE_V[idx], I_C_mA[idx], '(R_C=%1.3fkOhm)' % R_C_kOhm[idx], idx, scatter=True, scatter_s=20)\n",
    "for idx in range(len(labels)):\n",
    "    draw_plot(V_CE_V_dc_sweep[idx], I_C_mA_dc_sweep[idx], '(V_BE=%1.3fV)' % labels[idx], idx+0, marker_num=0)\n",
    "plt.show()"
   ]
  },
  {
   "cell_type": "markdown",
   "metadata": {},
   "source": [
    "*******************************************************************************\n",
    "## 시뮬레이션 2-1 결과 분석"
   ]
  },
  {
   "cell_type": "markdown",
   "metadata": {},
   "source": [
    "## 회로도\n",
    "\n",
    "* 사용한 컴포넌트\n",
    "    + Voltage source: VCC\n",
    "    + Ground\n",
    "    + Resister: R1, R2, RC\n",
    "    + Bipolar PNP transistor : Q1\n",
    "    + Net Name: VB, VC\n",
    "\n",
    "![Markdown-mark](../ltspice/simulation_02_01.png)"
   ]
  },
  {
   "cell_type": "markdown",
   "metadata": {},
   "source": [
    "### 1. 시뮬레이션 결과 파일을 읽는다."
   ]
  },
  {
   "cell_type": "code",
   "execution_count": null,
   "metadata": {},
   "outputs": [],
   "source": [
    "data = get_simulation_result('../ltspice/simulation_02_01.txt')"
   ]
  },
  {
   "cell_type": "markdown",
   "metadata": {},
   "source": [
    "### 2. 시뮬레이션 결과에서 $I_B$, $I_C$, $V_B$, $V_C$, $\\beta_{DC}$, $V_{BE}$, $V_{CE}$, $V_{CB}$를 가져온다."
   ]
  },
  {
   "cell_type": "code",
   "execution_count": null,
   "metadata": {},
   "outputs": [],
   "source": [
    "R_C_kOhm = data['RCVAR'] / 1000000.\n",
    "I_B_mA   = data['IB(Q1)']\n",
    "I_C_mA   = data['IC(Q1)']\n",
    "V_B_V    = data['V(VB)'] / 1000.\n",
    "V_C_V    = data['V(VC)'] / 1000.\n",
    "\n",
    "Beta_DC  = I_C_mA / I_B_mA\n",
    "V_BE_V   = V_B_V\n",
    "V_CE_V   = V_C_V\n",
    "V_CB_V   = V_C_V - V_B_V\n",
    "\n",
    "VCC_V = -10.\n",
    "\n",
    "print_array('R_C_kOhm', R_C_kOhm)\n",
    "print_array('I_B_mA  ', I_B_mA)\n",
    "print_array('I_C_mA  ', I_C_mA)\n",
    "print_array('Beta_DC ', Beta_DC)\n",
    "print_array('V_BE_V  ', V_BE_V)\n",
    "print_array('V_CE_V  ', V_CE_V)\n",
    "print_array('V_CB_V  ', V_CB_V)"
   ]
  },
  {
   "cell_type": "markdown",
   "metadata": {},
   "source": [
    "### 3. $V_{CE}$ - $I_C$ 그래프를 그린다."
   ]
  },
  {
   "cell_type": "code",
   "execution_count": null,
   "metadata": {},
   "outputs": [],
   "source": [
    "plt.xlabel('V_CE_V')\n",
    "plt.ylabel('I_C_mA')\n",
    "plt.axhline(0, color='black')\n",
    "plt.axvline(0, color='black')\n",
    "plt.xlim([-10.5, 0.5])\n",
    "plt.ylim([-22, 1])\n",
    "for idx in range(len(R_C_kOhm)):\n",
    "    draw_plot(V_CE_V[idx], I_C_mA[idx], '(R_C=%1.3fkOhm)' % R_C_kOhm[idx], idx, scatter=True, scatter_s=20)\n",
    "plt.show()"
   ]
  },
  {
   "cell_type": "markdown",
   "metadata": {},
   "source": [
    "### 4. 부하선을 그린다."
   ]
  },
  {
   "cell_type": "code",
   "execution_count": null,
   "metadata": {},
   "outputs": [],
   "source": [
    "plt.xlabel('V_CE_V')\n",
    "plt.ylabel('I_C_mA')\n",
    "plt.axhline(0, color='black')\n",
    "plt.axvline(0, color='black')\n",
    "plt.xlim([-10.5, 0.5])\n",
    "plt.ylim([-22, 1])\n",
    "for idx in range(len(R_C_kOhm)):\n",
    "    draw_plot([VCC_V, 0], [0, VCC_V/R_C_kOhm[idx]], None, idx, marker_num = 0)\n",
    "    draw_plot(V_CE_V[idx], I_C_mA[idx], '(R_C=%1.3fkOhm)' % R_C_kOhm[idx], idx, scatter=True, scatter_s=20)\n",
    "plt.show()"
   ]
  },
  {
   "cell_type": "markdown",
   "metadata": {},
   "source": [
    "*******************************************************************************\n",
    "## 시뮬레이션 2-2 결과 분석"
   ]
  },
  {
   "cell_type": "markdown",
   "metadata": {},
   "source": [
    "## 회로도\n",
    "\n",
    "* 사용한 컴포넌트\n",
    "    + Voltage source: VBE, VCE\n",
    "    + Ground\n",
    "    + Bipolar PNP transistor : Q1\n",
    "    + Net Name: VB, VC\n",
    "\n",
    "![Markdown-mark](../ltspice/simulation_02_02.png)"
   ]
  },
  {
   "cell_type": "markdown",
   "metadata": {},
   "source": [
    "### 1. 시뮬레이션 결과 파일을 읽는다."
   ]
  },
  {
   "cell_type": "code",
   "execution_count": null,
   "metadata": {},
   "outputs": [],
   "source": [
    "data = get_simulation_result('../ltspice/simulation_02_02.txt')"
   ]
  },
  {
   "cell_type": "markdown",
   "metadata": {},
   "source": [
    "### 2. 시뮬레이션 결과에서 $I_C$, $V_{CE}$를 가져온다."
   ]
  },
  {
   "cell_type": "code",
   "execution_count": null,
   "metadata": {},
   "outputs": [],
   "source": [
    "I_C_mA_dc_sweep = []\n",
    "V_CE_V_dc_sweep = []\n",
    "labels = [-0.711, -0.711, -0.710, -0.701, -0.696, -0.691] # VBE\n",
    "\n",
    "for idx in range(len(labels)):\n",
    "    I_C_mA_dc_sweep.append(data['(IC(Q1))@%d' % (idx+1)])\n",
    "    V_CE_V_dc_sweep.append(data['(V(VC))@%d' % (idx+1)] / 1000.)"
   ]
  },
  {
   "cell_type": "markdown",
   "metadata": {},
   "source": [
    "### 3. $V_{CE}$ - $I_C$ 그래프를 그린다."
   ]
  },
  {
   "cell_type": "code",
   "execution_count": null,
   "metadata": {},
   "outputs": [],
   "source": [
    "plt.xlabel('V_CE_V')\n",
    "plt.ylabel('I_C_mA')\n",
    "plt.axhline(0, color='black')\n",
    "plt.axvline(0, color='black')\n",
    "plt.xlim([-6.5, 0.5])\n",
    "plt.ylim([-9.5, 0.5])\n",
    "for idx in range(len(labels)):\n",
    "    draw_plot(V_CE_V_dc_sweep[idx], I_C_mA_dc_sweep[idx], '(V_BE=%1.3fV)' % labels[idx], idx, marker_num=0)\n",
    "plt.show()"
   ]
  },
  {
   "cell_type": "markdown",
   "metadata": {},
   "source": [
    "### 4. 시뮬레이션 2-1의 결과와 비교한다."
   ]
  },
  {
   "cell_type": "code",
   "execution_count": null,
   "metadata": {},
   "outputs": [],
   "source": [
    "plt.xlabel('V_CE_V')\n",
    "plt.ylabel('I_C_mA')\n",
    "plt.axhline(0, color='black')\n",
    "plt.axvline(0, color='black')\n",
    "plt.xlim([-10.5, 0.5])\n",
    "plt.ylim([-10, 1])\n",
    "for idx in range(len(R_C_kOhm)):\n",
    "    draw_plot([VCC_V, 0], [0, VCC_V/R_C_kOhm[idx]], None, idx, marker_num = 0)\n",
    "    draw_plot(V_CE_V[idx], I_C_mA[idx], '(R_C=%1.3fkOhm)' % R_C_kOhm[idx], idx, scatter=True, scatter_s=20)\n",
    "for idx in range(len(labels)):\n",
    "    draw_plot(V_CE_V_dc_sweep[idx], I_C_mA_dc_sweep[idx], '(V_BE=%1.3fV)' % labels[idx], idx, marker_num=0)\n",
    "plt.show()"
   ]
  },
  {
   "cell_type": "markdown",
   "metadata": {},
   "source": [
    "*******************************************************************************\n",
    "## 시뮬레이션 3-1 결과 분석"
   ]
  },
  {
   "cell_type": "markdown",
   "metadata": {},
   "source": [
    "## 회로도\n",
    "\n",
    "* 사용한 컴포넌트\n",
    "    + Voltage source: VCC\n",
    "    + Ground\n",
    "    + Resister: R1, R2, RC, RE\n",
    "    + Bipolar NPN transistor : Q1\n",
    "    + Net Name: VB, VC\n",
    "\n",
    "![Markdown-mark](../ltspice/simulation_03_01.png)"
   ]
  },
  {
   "cell_type": "markdown",
   "metadata": {},
   "source": [
    "### 1. 시뮬레이션 결과 파일을 읽는다."
   ]
  },
  {
   "cell_type": "code",
   "execution_count": null,
   "metadata": {},
   "outputs": [],
   "source": [
    "data = get_simulation_result('../ltspice/simulation_03_01.txt')"
   ]
  },
  {
   "cell_type": "markdown",
   "metadata": {},
   "source": [
    "### 2. 시뮬레이션 결과에서 $I_B$, $I_C$, $\\beta_{DC}$, $V_B$, $V_E$, $V_C$, $V_{BE}$, $V_{CE}$, $V_{CB}$를 가져온다."
   ]
  },
  {
   "cell_type": "code",
   "execution_count": null,
   "metadata": {},
   "outputs": [],
   "source": [
    "R_E_kOhm = data['REVAR'] / 1000000.\n",
    "I_B_mA   = data['IB(Q1)']\n",
    "I_C_mA   = data['IC(Q1)']\n",
    "V_B_V    = data['V(VB)'] / 1000.\n",
    "V_C_V    = data['V(VC)'] / 1000.\n",
    "V_E_V    = data['V(VE)'] / 1000.\n",
    "\n",
    "Beta_DC  = I_C_mA / I_B_mA\n",
    "V_BE_V   = V_B_V - V_E_V\n",
    "V_CE_V   = V_C_V - V_E_V\n",
    "V_CB_V   = V_C_V - V_B_V\n",
    "\n",
    "VCC_V = 10.\n",
    "R_C_kOhm = 1.8\n",
    "\n",
    "print_array('R_E_kOhm', R_E_kOhm)\n",
    "print_array('I_B_mA  ', I_B_mA)\n",
    "print_array('I_C_mA  ', I_C_mA)\n",
    "print_array('Beta_DC ', Beta_DC)\n",
    "print_array('V_B_V   ', V_B_V)\n",
    "print_array('V_E_V   ', V_E_V)\n",
    "print_array('V_C_V   ', V_C_V)\n",
    "print_array('V_BE_V  ', V_BE_V)\n",
    "print_array('V_CE_V  ', V_CE_V)\n",
    "print_array('V_CB_V  ', V_CB_V)"
   ]
  },
  {
   "cell_type": "markdown",
   "metadata": {},
   "source": [
    "### 3. $V_{CE}$ - $I_C$ 그래프를 그린다."
   ]
  },
  {
   "cell_type": "code",
   "execution_count": null,
   "metadata": {},
   "outputs": [],
   "source": [
    "plt.xlabel('V_CE_V')\n",
    "plt.ylabel('I_C_mA')\n",
    "plt.axhline(0, color='black')\n",
    "plt.axvline(0, color='black')\n",
    "plt.xlim([-0.5, 10.5])\n",
    "plt.ylim([-1, 6])\n",
    "for idx in range(len(R_E_kOhm)):\n",
    "    draw_plot(V_CE_V[idx], I_C_mA[idx], '(R_E=%1.3fkOhm)' % R_E_kOhm[idx], idx, scatter=True, scatter_s=20)\n",
    "plt.show()"
   ]
  },
  {
   "cell_type": "markdown",
   "metadata": {},
   "source": [
    "### 4. 부하선을 그린다."
   ]
  },
  {
   "cell_type": "code",
   "execution_count": null,
   "metadata": {},
   "outputs": [],
   "source": [
    "plt.xlabel('V_CE_V')\n",
    "plt.ylabel('I_C_mA')\n",
    "plt.axhline(0, color='black')\n",
    "plt.axvline(0, color='black')\n",
    "plt.xlim([-0.5, 10.5])\n",
    "plt.ylim([-1, 6])\n",
    "for idx in range(len(R_E_kOhm)):\n",
    "    draw_plot([VCC_V, 0], [0, VCC_V/(R_C_kOhm + R_E_kOhm[idx])], None, idx, marker_num = 0)\n",
    "    draw_plot(V_CE_V[idx], I_C_mA[idx], '(R_E=%1.3fkOhm)' % R_E_kOhm[idx], idx, scatter=True, scatter_s=20)\n",
    "plt.show()"
   ]
  },
  {
   "cell_type": "markdown",
   "metadata": {},
   "source": [
    "*******************************************************************************\n",
    "## 시뮬레이션 3-2 결과 분석"
   ]
  },
  {
   "cell_type": "markdown",
   "metadata": {},
   "source": [
    "## 회로도\n",
    "\n",
    "* 사용한 컴포넌트\n",
    "    + Voltage source: VBE, VCE\n",
    "    + Ground\n",
    "    + Bipolar NPN transistor : Q1\n",
    "    + Net Name: VB, VC\n",
    "\n",
    "![Markdown-mark](../ltspice/simulation_03_02.png)"
   ]
  },
  {
   "cell_type": "markdown",
   "metadata": {},
   "source": [
    "### 1. 시뮬레이션 결과 파일을 읽는다."
   ]
  },
  {
   "cell_type": "code",
   "execution_count": null,
   "metadata": {},
   "outputs": [],
   "source": [
    "data = get_simulation_result('../ltspice/simulation_03_02.txt')"
   ]
  },
  {
   "cell_type": "markdown",
   "metadata": {},
   "source": [
    "### 2. 시뮬레이션 결과에서 $I_C$, $V_{CE}$를 가져온다."
   ]
  },
  {
   "cell_type": "code",
   "execution_count": null,
   "metadata": {},
   "outputs": [],
   "source": [
    "V_BE_V_dc_sweep = np.array([0.709, 0.695, 0.686, 0.677, 0.667, 0.662])\n",
    "V_CE_V_dc_sweep = []\n",
    "I_C_mA_dc_sweep = []\n",
    "\n",
    "for idx in range(len(V_BE_V_dc_sweep)):\n",
    "    V_CE_V_dc_sweep.append(data['(V(VC))@%d' % (idx+1)] / 1000.)\n",
    "    I_C_mA_dc_sweep.append(data['(IC(Q1))@%d' % (idx+1)])"
   ]
  },
  {
   "cell_type": "markdown",
   "metadata": {},
   "source": [
    "### 3. $V_{CE}$ - $I_C$ 그래프를 그린다."
   ]
  },
  {
   "cell_type": "code",
   "execution_count": null,
   "metadata": {},
   "outputs": [],
   "source": [
    "plt.xlabel('V_CE_V')\n",
    "plt.ylabel('I_C_mA')\n",
    "plt.axhline(0, color='black')\n",
    "plt.axvline(0, color='black')\n",
    "plt.xlim([-0.5, 10.5])\n",
    "plt.ylim([-1, 6])\n",
    "for idx in range(len(V_BE_V_dc_sweep)):\n",
    "    draw_plot(V_CE_V_dc_sweep[idx], I_C_mA_dc_sweep[idx], '(V_BE=%1.3fV)' % V_BE_V_dc_sweep[idx], idx, marker_num=0)\n",
    "plt.show()"
   ]
  },
  {
   "cell_type": "markdown",
   "metadata": {},
   "source": [
    "### 4. 시뮬레이션 3-1의 결과와 비교한다."
   ]
  },
  {
   "cell_type": "code",
   "execution_count": null,
   "metadata": {},
   "outputs": [],
   "source": [
    "plt.xlabel('V_CE_V')\n",
    "plt.ylabel('I_C_mA')\n",
    "plt.axhline(0, color='black')\n",
    "plt.axvline(0, color='black')\n",
    "plt.xlim([-0.5, 10.5])\n",
    "plt.ylim([-1, 6])\n",
    "for idx in range(len(R_E_kOhm)):\n",
    "    draw_plot([VCC_V, 0], [0, VCC_V/(R_C_kOhm + R_E_kOhm[idx])], None, idx, marker_num = 0)\n",
    "    draw_plot(V_CE_V[idx], I_C_mA[idx], '(R_E=%1.3fkOhm)' % R_E_kOhm[idx], idx, scatter=True, scatter_s=20)\n",
    "for idx in range(len(V_BE_V_dc_sweep)):\n",
    "    draw_plot(V_CE_V_dc_sweep[idx], I_C_mA_dc_sweep[idx], '(V_BE=%1.3fV)' % V_BE_V_dc_sweep[idx], idx, marker_num=0)\n",
    "plt.show()"
   ]
  },
  {
   "cell_type": "markdown",
   "metadata": {},
   "source": [
    "*******************************************************************************\n",
    "## 시뮬레이션 4-1 결과 분석"
   ]
  },
  {
   "cell_type": "markdown",
   "metadata": {},
   "source": [
    "## 회로도\n",
    "\n",
    "* 사용한 컴포넌트\n",
    "    + Voltage source: VCC\n",
    "    + Ground\n",
    "    + Resister: R1, R2, RC, RE\n",
    "    + Bipolar PNO transistor : Q1\n",
    "    + Net Name: VB, VC\n",
    "\n",
    "![Markdown-mark](../ltspice/simulation_04_01.png)"
   ]
  },
  {
   "cell_type": "markdown",
   "metadata": {},
   "source": [
    "### 1. 시뮬레이션 결과 파일을 읽는다."
   ]
  },
  {
   "cell_type": "code",
   "execution_count": null,
   "metadata": {},
   "outputs": [],
   "source": [
    "data = get_simulation_result('../ltspice/simulation_04_01.txt')"
   ]
  },
  {
   "cell_type": "markdown",
   "metadata": {},
   "source": [
    "### 2. 시뮬레이션 결과에서 $I_B$, $I_C$, $\\beta_{DC}$, $V_B$, $V_E$, $V_C$, $V_{BE}$, $V_{CE}$, $V_{CB}$를 가져온다."
   ]
  },
  {
   "cell_type": "code",
   "execution_count": null,
   "metadata": {},
   "outputs": [],
   "source": [
    "R_E_kOhm = data['REVAR'] / 1000000.\n",
    "I_B_mA   = data['IB(Q1)']\n",
    "I_C_mA   = data['IC(Q1)']\n",
    "V_B_V    = data['V(VB)'] / 1000.\n",
    "V_C_V    = data['V(VC)'] / 1000.\n",
    "V_E_V    = data['V(VE)'] / 1000.\n",
    "\n",
    "Beta_DC  = I_C_mA / I_B_mA\n",
    "V_BE_V   = V_B_V - V_E_V\n",
    "V_CE_V   = V_C_V - V_E_V\n",
    "V_CB_V   = V_C_V - V_B_V\n",
    "\n",
    "VCC_V = -10.\n",
    "R_C_kOhm = 1.8\n",
    "\n",
    "print_array('R_E_kOhm', R_E_kOhm)\n",
    "print_array('I_B_mA  ', I_B_mA)\n",
    "print_array('I_C_mA  ', I_C_mA)\n",
    "print_array('Beta_DC ', Beta_DC)\n",
    "print_array('V_B_V   ', V_B_V)\n",
    "print_array('V_E_V   ', V_E_V)\n",
    "print_array('V_C_V   ', V_C_V)\n",
    "print_array('V_BE_V  ', V_BE_V)\n",
    "print_array('V_CE_V  ', V_CE_V)\n",
    "print_array('V_CB_V  ', V_CB_V)"
   ]
  },
  {
   "cell_type": "markdown",
   "metadata": {},
   "source": [
    "### 3. $V_{CE}$ - $I_C$ 그래프를 그린다."
   ]
  },
  {
   "cell_type": "code",
   "execution_count": null,
   "metadata": {},
   "outputs": [],
   "source": [
    "plt.xlabel('V_CE_V')\n",
    "plt.ylabel('I_C_mA')\n",
    "plt.axhline(0, color='black')\n",
    "plt.axvline(0, color='black')\n",
    "plt.xlim([-10.5, 0.5])\n",
    "plt.ylim([-6, 1])\n",
    "for idx in range(len(R_E_kOhm)):\n",
    "    draw_plot(V_CE_V[idx], I_C_mA[idx], '(R_E=%1.3fkOhm)' % R_E_kOhm[idx], idx, scatter=True, scatter_s=20)\n",
    "plt.show()"
   ]
  },
  {
   "cell_type": "markdown",
   "metadata": {},
   "source": [
    "### 4. 부하선을 그린다."
   ]
  },
  {
   "cell_type": "code",
   "execution_count": null,
   "metadata": {},
   "outputs": [],
   "source": [
    "plt.xlabel('V_CE_V')\n",
    "plt.ylabel('I_C_mA')\n",
    "plt.axhline(0, color='black')\n",
    "plt.axvline(0, color='black')\n",
    "plt.xlim([-10.5, 0.5])\n",
    "plt.ylim([-6, 1])\n",
    "for idx in range(len(R_E_kOhm)):\n",
    "    draw_plot([VCC_V, 0], [0, VCC_V/(R_C_kOhm + R_E_kOhm[idx])], None, idx, marker_num = 0)\n",
    "    draw_plot(V_CE_V[idx], I_C_mA[idx], '(R_E=%1.3fkOhm)' % R_E_kOhm[idx], idx, scatter=True, scatter_s=20)\n",
    "plt.show()"
   ]
  },
  {
   "cell_type": "markdown",
   "metadata": {},
   "source": [
    "*******************************************************************************\n",
    "## 시뮬레이션 4-2 결과 분석"
   ]
  },
  {
   "cell_type": "markdown",
   "metadata": {},
   "source": [
    "## 회로도\n",
    "\n",
    "* 사용한 컴포넌트\n",
    "    + Voltage source: VBE, VCE\n",
    "    + Ground\n",
    "    + Bipolar PNP transistor : Q1\n",
    "    + Net Name: VB, VC\n",
    "\n",
    "![Markdown-mark](../ltspice/simulation_04_02.png)"
   ]
  },
  {
   "cell_type": "markdown",
   "metadata": {},
   "source": [
    "### 1. 시뮬레이션 결과 파일을 읽는다."
   ]
  },
  {
   "cell_type": "code",
   "execution_count": null,
   "metadata": {},
   "outputs": [],
   "source": [
    "data = get_simulation_result('../ltspice/simulation_04_02.txt')"
   ]
  },
  {
   "cell_type": "markdown",
   "metadata": {},
   "source": [
    "### 2. 시뮬레이션 결과에서 $I_C$, $V_{CE}$를 가져온다."
   ]
  },
  {
   "cell_type": "code",
   "execution_count": null,
   "metadata": {},
   "outputs": [],
   "source": [
    "V_BE_V_dc_sweep = np.array([-0.696, -0.680, -0.672, -0.664, -0.654, -0.650])\n",
    "\n",
    "V_CE_V_dc_sweep = []\n",
    "I_C_mA_dc_sweep = []\n",
    "\n",
    "for idx in range(len(V_BE_V_dc_sweep)):\n",
    "    V_CE_V_dc_sweep.append(data['(V(VC))@%d' % (idx+1)] / 1000.)\n",
    "    I_C_mA_dc_sweep.append(data['(IC(Q1))@%d' % (idx+1)])"
   ]
  },
  {
   "cell_type": "markdown",
   "metadata": {},
   "source": [
    "### 3. $V_{CE}$ - $I_C$ 그래프를 그린다."
   ]
  },
  {
   "cell_type": "code",
   "execution_count": null,
   "metadata": {},
   "outputs": [],
   "source": [
    "plt.xlabel('V_CE_V')\n",
    "plt.ylabel('I_C_mA')\n",
    "plt.axhline(0, color='black')\n",
    "plt.axvline(0, color='black')\n",
    "plt.xlim([-10.5, 0.5])\n",
    "plt.ylim([-6, 1])\n",
    "for idx in range(len(V_BE_V_dc_sweep)):\n",
    "    draw_plot(V_CE_V_dc_sweep[idx], I_C_mA_dc_sweep[idx], '(V_BE=%1.3fV)' % V_BE_V_dc_sweep[idx], idx, marker_num=0)\n",
    "plt.show()"
   ]
  },
  {
   "cell_type": "markdown",
   "metadata": {},
   "source": [
    "### 4. 시뮬레이션 3-1의 결과와 비교한다."
   ]
  },
  {
   "cell_type": "code",
   "execution_count": null,
   "metadata": {},
   "outputs": [],
   "source": [
    "plt.xlabel('V_CE_V')\n",
    "plt.ylabel('I_C_mA')\n",
    "plt.axhline(0, color='black')\n",
    "plt.axvline(0, color='black')\n",
    "plt.xlim([-10.5, 0.5])\n",
    "plt.ylim([-6, 1])\n",
    "for idx in range(len(R_E_kOhm)):\n",
    "    draw_plot([VCC_V, 0], [0, VCC_V/(R_C_kOhm + R_E_kOhm[idx])], None, idx, marker_num = 0)\n",
    "    draw_plot(V_CE_V[idx], I_C_mA[idx], '(R_E=%1.3fkOhm)' % R_E_kOhm[idx], idx, scatter=True, scatter_s=20)\n",
    "for idx in range(len(V_BE_V_dc_sweep)):\n",
    "    draw_plot(V_CE_V_dc_sweep[idx], I_C_mA_dc_sweep[idx], '(V_BE=%1.3fV)' % V_BE_V_dc_sweep[idx], idx, marker_num=0)\n",
    "plt.show()"
   ]
  }
 ],
 "metadata": {
  "kernelspec": {
   "display_name": "Python 3.10.6 64-bit",
   "language": "python",
   "name": "python3"
  },
  "language_info": {
   "codemirror_mode": {
    "name": "ipython",
    "version": 3
   },
   "file_extension": ".py",
   "mimetype": "text/x-python",
   "name": "python",
   "nbconvert_exporter": "python",
   "pygments_lexer": "ipython3",
   "version": "3.10.12"
  },
  "orig_nbformat": 4,
  "vscode": {
   "interpreter": {
    "hash": "45d5ea1a628b116fc37336f3e2703270bd779ac9277507a8bf46eb41278a50a9"
   }
  }
 },
 "nbformat": 4,
 "nbformat_minor": 2
}
