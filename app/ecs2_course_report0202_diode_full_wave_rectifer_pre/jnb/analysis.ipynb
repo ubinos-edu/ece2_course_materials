{
 "cells": [
  {
   "cell_type": "markdown",
   "metadata": {},
   "source": [
    "# 실험 02-02 다이오드 전파 정류회로"
   ]
  },
  {
   "cell_type": "markdown",
   "metadata": {},
   "source": [
    "## 공통 코드"
   ]
  },
  {
   "cell_type": "code",
   "execution_count": null,
   "metadata": {},
   "outputs": [],
   "source": [
    "import matplotlib.pyplot as plt\n",
    "import numpy as np\n",
    "import pandas as pd\n",
    "import re\n",
    "\n",
    "# %matplotlib tk\n",
    "# %matplotlib inline\n",
    "\n",
    "def tangent_line(f, x):\n",
    "    h = 1e-4\n",
    "    d = (f(x+h) - f(x-h)) / (2*h)\n",
    "    return lambda t: d*t - d*x + f(x)\n",
    "\n",
    "def get_simulation_result(file_name, start=0, end=-1):\n",
    "    with open(file_name, encoding='cp1252') as data_file:\n",
    "        lines = data_file.read()\n",
    "        occurrences = lines.count('Step Information:')\n",
    "        data_file.seek(0)\n",
    "\n",
    "        line = data_file.readline()\n",
    "        labels = re.split(', | ,|\\t', line)\n",
    "        labels = [s.strip().upper() for s in labels]\n",
    "\n",
    "        data = {}\n",
    "\n",
    "        if (occurrences == 0):\n",
    "            for label in labels:\n",
    "                data[label] = []\n",
    "            \n",
    "            for line in data_file:\n",
    "                values = re.split(', | ,|\\t', line)\n",
    "                for i in range(len(values)):\n",
    "                    value = float(values[i]) * 1000\n",
    "                    data[labels[i]].append(value)\n",
    "\n",
    "        else:\n",
    "            labels_all =[]\n",
    "            \n",
    "            lines = data_file.readline() # skip first line starting with 'Step Information:'\n",
    "\n",
    "            for idx in range(occurrences):\n",
    "                labels_new = []\n",
    "                for label in labels:\n",
    "                    labels_new.append('(%s)@%d' % (label, idx+1))\n",
    "                labels_all += labels_new\n",
    "\n",
    "                for label_new in labels_new:\n",
    "                    data[label_new] = []\n",
    "\n",
    "                for line in data_file:\n",
    "                    if (line.startswith('Step Information:')):\n",
    "                        break\n",
    "                    values = re.split(', | ,|\\t', line)\n",
    "                    for i in range(len(values)):\n",
    "                        value = float(values[i]) * 1000\n",
    "                        data[labels_new[i]].append(value)\n",
    "\n",
    "            labels = labels_all\n",
    "\n",
    "        for label in labels:\n",
    "            data[label] = np.array(data[label][start:end])\n",
    "\n",
    "    # print(\"labels = \", end='')\n",
    "    # print(list(data.keys()))\n",
    "    for label in list(data.keys()):\n",
    "        print(\"data['%s'] : sample number = %d\" % (label, len(data[label])))\n",
    "\n",
    "    return data\n",
    "\n",
    "def get_oscilloscpoe_result_tektronix(file_name, start=0, end=-1):\n",
    "    df = pd.read_csv(file_name, header=None, encoding='cp1252',low_memory=False)\n",
    "\n",
    "    label_ri = df.loc[df.iloc[:,0] == 'Source', 1].index\n",
    "    ci = 0\n",
    "    data = {}\n",
    "    data['TIME'] = df.iloc[start:end, 3].to_numpy().astype(float)\n",
    "    data['TIME'] -= data['TIME'][0]\n",
    "    for idx in range(df.shape[1]//6):\n",
    "        label = df.iloc[label_ri, ci+1].item()\n",
    "        data[label] = df.iloc[start:end,ci+4].to_numpy().astype(float)\n",
    "        ci += 6\n",
    "\n",
    "    # print(\"labels = \", end='')\n",
    "    # print(list(data.keys()))\n",
    "    for label in list(data.keys()):\n",
    "        print(\"data['%s'] : sample number = %d\" % (label, len(data[label])))\n",
    "\n",
    "    return data\n",
    "\n",
    "def print_array(label, values):\n",
    "    print('%s = [' % label, end='')\n",
    "    for idx, vd in enumerate(values):\n",
    "        print('{:7.3f}'.format(vd), end='')\n",
    "        if (idx+1 != len(values)):\n",
    "            print(', ', end='')\n",
    "    print(']')\n",
    "\n",
    "def print_value(label, value):\n",
    "    print('%s = ' % label, end='')\n",
    "    print('{:7.3f}'.format(value))\n",
    "\n",
    "def draw_plot(xs, ys, label, style_idx, marker_num=16):\n",
    "    linestyle  = ['-', '-', '-', '-', '-', '-', '-', '-']\n",
    "    colors     = ['b', 'g', 'r', 'c', 'm', 'y', 'k', 'w']\n",
    "    markers    = ['o', 'v', 's', 'p', '*', 'h', 'x', 'd']\n",
    "\n",
    "    markeverys = []\n",
    "    x_step = (xs.max() - xs.min()) / marker_num\n",
    "    for idx in range(len(markers)):\n",
    "        x_start = xs.min() + ((x_step / (len(markers) + 1)) * idx)\n",
    "        marker_list = []\n",
    "        for j in range(marker_num):\n",
    "            tmp_array = np.where(xs > (x_start + (x_step * j)))\n",
    "            if (len(tmp_array[0]) > 0):\n",
    "                marker_list.append(tmp_array[0][0])\n",
    "        markeverys.append(marker_list)\n",
    "\n",
    "    plt.plot(xs, ys, ls=linestyle[style_idx], color=colors[style_idx], marker=markers[style_idx], markevery=markeverys[style_idx], label=label)\n",
    "    plt.legend(bbox_to_anchor=(1.05, 1), loc='upper left', borderaxespad=0.)\n",
    "\n",
    "def set_plot_size(xrate, yrate):\n",
    "    if (len(set_plot_size.g_plt_figsize) == 0):\n",
    "        set_plot_size.g_plt_figsize = plt.rcParams[\"figure.figsize\"]\n",
    "    size = []\n",
    "    size.append(set_plot_size.g_plt_figsize[0] * xrate)\n",
    "    size.append(set_plot_size.g_plt_figsize[1] * yrate)\n",
    "    plt.figure(figsize=size)\n",
    "\n",
    "set_plot_size.g_plt_figsize = []"
   ]
  },
  {
   "cell_type": "markdown",
   "metadata": {},
   "source": [
    "*******************************************************************************\n",
    "## 시뮬레이션 1 결과 분석"
   ]
  },
  {
   "cell_type": "markdown",
   "metadata": {},
   "source": [
    "## 회로도\n",
    "\n",
    "* 사용한 컴포넌트\n",
    "    + voltage (V): V1\n",
    "    + res (R): R1\n",
    "    + diode (D): D1\n",
    "    + ground (G): Ground\n",
    "    + Net Name (F4): VA, VB, VOUT\n",
    "* 시뮬레이션 설정\n",
    "    + SPICE directive (S)\n",
    "        - .tran 0 100m 0 1u\n",
    "* 기타 명령\n",
    "    + 회전 (Control + R)\n",
    "    + Wire (F3)\n",
    "    + Move (F7)\n",
    "    + Drag (F8)\n",
    "    + Delete (F5)\n",
    "    + Duplicate (F6)\n",
    "\n",
    "    ![Markdown-mark](../ltspice/simulation_01.png)"
   ]
  },
  {
   "cell_type": "markdown",
   "metadata": {},
   "source": [
    "### 1. 시뮬레이션 결과 파일을 읽는다."
   ]
  },
  {
   "cell_type": "code",
   "execution_count": null,
   "metadata": {},
   "outputs": [],
   "source": [
    "data = get_simulation_result('../ltspice/simulation_01.txt')"
   ]
  },
  {
   "cell_type": "markdown",
   "metadata": {},
   "source": [
    "### 2. 시뮬레이션 결과에서 시간, VA, VB, 입력 전압(VA와 VB로 계산), 출력 전압 전압을 가져온다."
   ]
  },
  {
   "cell_type": "code",
   "execution_count": null,
   "metadata": {},
   "outputs": [],
   "source": [
    "times = data['TIME']\n",
    "vas = data['V(VA)']\n",
    "vbs = data['V(VB)']\n",
    "vins = vas - vbs\n",
    "vouts = data['V(VOUT)']"
   ]
  },
  {
   "cell_type": "markdown",
   "metadata": {},
   "source": [
    "### 3. 시간을 x축, 전압들을 y축으로 하는 그래프를 그린다."
   ]
  },
  {
   "cell_type": "code",
   "execution_count": null,
   "metadata": {},
   "outputs": [],
   "source": [
    "plt.xlabel('TIME_ms')\n",
    "plt.ylabel('V_mV')\n",
    "plt.axhline(0, color='black')\n",
    "plt.axvline(0, color='black')\n",
    "draw_plot(times, vins, 'V(IN)', 0)\n",
    "draw_plot(times, vas, 'V(VA)', 1)\n",
    "draw_plot(times, vbs, 'V(VB)', 2)\n",
    "draw_plot(times, vouts, 'V(OUT)', 3)\n",
    "plt.show()"
   ]
  },
  {
   "cell_type": "markdown",
   "metadata": {},
   "source": [
    "### 4. VA, VB, 출력 전압의 첨두값, 다이오드의 cut-in 전압을 구한다."
   ]
  },
  {
   "cell_type": "code",
   "execution_count": null,
   "metadata": {},
   "outputs": [],
   "source": [
    "V_A_peak_mV = vas.max()\n",
    "V_B_peak_mV = vbs.max()\n",
    "V_OUT_peak_mV = vouts.max()\n",
    "\n",
    "print_value(\"V_A_peak_mV\", V_A_peak_mV)\n",
    "print_value(\"V_B_peak_mV\", V_B_peak_mV)\n",
    "print_value(\"V_OUT_peak_mV\", V_OUT_peak_mV)"
   ]
  },
  {
   "cell_type": "code",
   "execution_count": null,
   "metadata": {},
   "outputs": [],
   "source": [
    "vd1s = vas - vouts\n",
    "vd2s = vbs - vouts\n",
    "\n",
    "plt.xlabel('TIME_ms')\n",
    "plt.ylabel('V_mV')\n",
    "plt.axhline(0, color='black')\n",
    "plt.axvline(0, color='black')\n",
    "draw_plot(times, vd1s, 'V(D1)', 4)\n",
    "draw_plot(times, vd2s, 'V(D2)', 5)\n",
    "plt.show()"
   ]
  },
  {
   "cell_type": "code",
   "execution_count": null,
   "metadata": {},
   "outputs": [],
   "source": [
    "V_D_cut_in_mV = max(vd1s.max(), vd2s.max())\n",
    "\n",
    "print_value(\"V_D_cut_in_mV\", V_D_cut_in_mV)"
   ]
  },
  {
   "cell_type": "markdown",
   "metadata": {},
   "source": [
    "### 5. 시간을 x축으로 하고, 입력 전압, VA와 VB의 전압, 출력 전압을 y축으로 하는 그래프를 각각 그린다."
   ]
  },
  {
   "cell_type": "code",
   "execution_count": null,
   "metadata": {},
   "outputs": [],
   "source": [
    "plt.xlabel('TIME_ms')\n",
    "plt.ylabel('V_mV')\n",
    "plt.axhline(0, color='black')\n",
    "plt.axvline(0, color='black')\n",
    "draw_plot(times, vins, 'V(IN)', 0)\n",
    "plt.show()"
   ]
  },
  {
   "cell_type": "code",
   "execution_count": null,
   "metadata": {},
   "outputs": [],
   "source": [
    "plt.xlabel('TIME_ms')\n",
    "plt.ylabel('V_mV')\n",
    "plt.axhline(0, color='black')\n",
    "plt.axvline(0, color='black')\n",
    "draw_plot(times, vas, 'V(VA)', 1)\n",
    "draw_plot(times, vbs, 'V(VB)', 2)\n",
    "plt.show()"
   ]
  },
  {
   "cell_type": "code",
   "execution_count": null,
   "metadata": {},
   "outputs": [],
   "source": [
    "plt.xlabel('TIME_ms')\n",
    "plt.ylabel('V_mV')\n",
    "plt.axhline(0, color='black')\n",
    "plt.axvline(0, color='black')\n",
    "draw_plot(times, vouts, 'V(OUT)', 3)\n",
    "plt.show()"
   ]
  },
  {
   "cell_type": "markdown",
   "metadata": {},
   "source": [
    "### 6. 출력 전압의 첨두값, 역방향 첨두값, 리플값을 구한다."
   ]
  },
  {
   "cell_type": "code",
   "execution_count": null,
   "metadata": {},
   "outputs": [],
   "source": [
    "idx_start = np.argmax(times > 20)\n",
    "idx_end = np.argmin(times < 50)\n",
    "\n",
    "vmax = vouts[idx_start:idx_end].max()\n",
    "vmin = vouts[idx_start:idx_end].min()\n",
    "V_OUT_peak_mV = vmax\n",
    "V_OUT_reverse_peak_mV = -vmin\n",
    "V_OUT_ripple_mV = vmax - vmin\n",
    "\n",
    "print_value(\"V_OUT_peak_mV\", V_OUT_peak_mV)\n",
    "print_value(\"V_OUT_reverse_peak_mV\", V_OUT_reverse_peak_mV)\n",
    "print_value(\"V_OUT_ripple_mV\", V_OUT_ripple_mV)"
   ]
  },
  {
   "cell_type": "markdown",
   "metadata": {},
   "source": [
    "*******************************************************************************\n",
    "## 시뮬레이션 2 결과 분석"
   ]
  },
  {
   "cell_type": "markdown",
   "metadata": {},
   "source": [
    "* 회로\n",
    "    + voltage (v): V1\n",
    "    + res (r): R1\n",
    "    + diode (d): D1\n",
    "    + cap (c): C1\n",
    "    + ground (g): Ground\n",
    "    + Net Name (F4): VA, VB, VOUT\n",
    "* 시뮬레이션 설정\n",
    "    + SPICE directive (S)\n",
    "        - .tran 0 100m 0 1u\n",
    "        - .step param Cvar list 10uF, 22uF, 33uF, 47uF, 56uF\n",
    "* 기타 명령\n",
    "    + 회전 (Control + R)\n",
    "    + Wire (F3)\n",
    "    + Move (F7)\n",
    "    + Drag (F8)\n",
    "    + Delete (F5)\n",
    "    + Duplicate (F6)\n",
    "\n",
    "![Markdown-mark](../ltspice/simulation_02_sweep_c.png)"
   ]
  },
  {
   "cell_type": "markdown",
   "metadata": {},
   "source": [
    "### 1. 시뮬레이션 결과 파일을 읽는다."
   ]
  },
  {
   "cell_type": "code",
   "execution_count": null,
   "metadata": {},
   "outputs": [],
   "source": [
    "data = get_simulation_result('../ltspice/simulation_02_sweep_c.txt')"
   ]
  },
  {
   "cell_type": "markdown",
   "metadata": {},
   "source": [
    "### 2. 시뮬레이션 결과에서 시간, VA, VB, 입력 전압(VA와 VB로 계산), 출력 전압 전압을 가져온다."
   ]
  },
  {
   "cell_type": "code",
   "execution_count": null,
   "metadata": {},
   "outputs": [],
   "source": [
    "times = []\n",
    "vas = []\n",
    "vbs = []\n",
    "vins = []\n",
    "vouts = []\n",
    "labels = ['10uF', '22uF', '33uF', '47uF', '56uF']\n",
    "\n",
    "for idx in range(1, len(labels)+1):\n",
    "    times.append(data['(TIME)@%d' % idx])\n",
    "    vas.append(data['(V(VA))@%d' % idx])\n",
    "    vbs.append(data['(V(VB))@%d' % idx])\n",
    "    vins.append(vas[idx-1] - vbs[idx-1])\n",
    "    vouts.append(data['(V(VOUT))@%d' % idx])"
   ]
  },
  {
   "cell_type": "markdown",
   "metadata": {},
   "source": [
    "### 3. 시간을 x축, 전압들을 y축으로 하는 그래프를 그린다."
   ]
  },
  {
   "cell_type": "code",
   "execution_count": null,
   "metadata": {},
   "outputs": [],
   "source": [
    "plt.xlabel('TIME_ms')\n",
    "plt.ylabel('V_mV')\n",
    "plt.axhline(0, color='black')\n",
    "plt.axvline(0, color='black')\n",
    "for idx in range(len(labels)):\n",
    "    draw_plot(times[idx], vins[idx], 'V(IN)@%d' % idx, 0)\n",
    "    draw_plot(times[idx], vas[idx], 'V(VA)%d' % idx, 1)\n",
    "    draw_plot(times[idx], vbs[idx], 'V(VB)%d' % idx, 2)\n",
    "    draw_plot(times[idx], vouts[idx], 'V(OUT)%d' % idx, 3)\n",
    "plt.show()"
   ]
  },
  {
   "cell_type": "code",
   "execution_count": null,
   "metadata": {},
   "outputs": [],
   "source": [
    "idx = 0\n",
    "print(\"C = %s\" % labels[idx])\n",
    "\n",
    "plt.xlabel('TIME_ms')\n",
    "plt.ylabel('V_mV')\n",
    "plt.axhline(0, color='black')\n",
    "plt.axvline(0, color='black')\n",
    "draw_plot(times[idx], vins[idx], 'V(IN)', 0)\n",
    "draw_plot(times[idx], vas[idx], 'V(VA)', 1)\n",
    "draw_plot(times[idx], vbs[idx], 'V(VB)', 2)\n",
    "draw_plot(times[idx], vouts[idx], 'V(OUT)', 3)\n",
    "plt.show()"
   ]
  },
  {
   "cell_type": "markdown",
   "metadata": {},
   "source": [
    "### 4. VA, VB, 출력 전압의 첨두값을 구한다."
   ]
  },
  {
   "cell_type": "code",
   "execution_count": null,
   "metadata": {},
   "outputs": [],
   "source": [
    "idx = 0\n",
    "print(\"C = %s\" % labels[idx])\n",
    "\n",
    "V_A_peak_mV = vas[idx].max()\n",
    "V_B_peak_mV = vbs[idx].max()\n",
    "V_OUT_peak_mV = vouts[idx].max()\n",
    "\n",
    "print_value(\"V_A_peak_mV\", V_A_peak_mV)\n",
    "print_value(\"V_B_peak_mV\", V_B_peak_mV)\n",
    "print_value(\"V_OUT_peak_mV\", V_OUT_peak_mV)"
   ]
  },
  {
   "cell_type": "markdown",
   "metadata": {},
   "source": [
    "### 5. 시간을 x축으로 하고, 입력 전압, VA의 전압, VB의 전압, 출력 전압을 y축으로 하는 그래프를 각각 그린다."
   ]
  },
  {
   "cell_type": "code",
   "execution_count": null,
   "metadata": {},
   "outputs": [],
   "source": [
    "plt.xlabel('TIME_ms')\n",
    "plt.ylabel('V_IN_mV')\n",
    "plt.axhline(0, color='black')\n",
    "plt.axvline(0, color='black')\n",
    "for idx in range(len(labels)):\n",
    "    draw_plot(times[idx], vins[idx], labels[idx], idx)\n",
    "plt.show()"
   ]
  },
  {
   "cell_type": "code",
   "execution_count": null,
   "metadata": {},
   "outputs": [],
   "source": [
    "plt.xlabel('TIME_ms')\n",
    "plt.ylabel('V_A_mV')\n",
    "plt.axhline(0, color='black')\n",
    "plt.axvline(0, color='black')\n",
    "for idx in range(len(labels)):\n",
    "    draw_plot(times[idx], vas[idx], labels[idx], idx)\n",
    "plt.show()"
   ]
  },
  {
   "cell_type": "code",
   "execution_count": null,
   "metadata": {},
   "outputs": [],
   "source": [
    "plt.xlabel('TIME_ms')\n",
    "plt.ylabel('V_B_mV')\n",
    "plt.axhline(0, color='black')\n",
    "plt.axvline(0, color='black')\n",
    "for idx in range(len(labels)):\n",
    "    draw_plot(times[idx], vbs[idx], labels[idx], idx)\n",
    "plt.show()"
   ]
  },
  {
   "cell_type": "code",
   "execution_count": null,
   "metadata": {},
   "outputs": [],
   "source": [
    "plt.xlabel('TIME_ms')\n",
    "plt.ylabel('V_OUT_mV')\n",
    "plt.axhline(0, color='black')\n",
    "plt.axvline(0, color='black')\n",
    "for idx in range(len(labels)):\n",
    "    draw_plot(times[idx], vouts[idx], labels[idx], idx)\n",
    "plt.show()"
   ]
  },
  {
   "cell_type": "code",
   "execution_count": null,
   "metadata": {},
   "outputs": [],
   "source": [
    "plt.xlabel('TIME_ms')\n",
    "plt.ylabel('V_OUT_mV')\n",
    "plt.axhline(0, color='black')\n",
    "plt.axvline(0, color='black')\n",
    "for idx in range(len(labels)):\n",
    "    draw_plot(times[idx], vouts[idx], labels[idx], idx)\n",
    "\n",
    "ax = plt.gca()\n",
    "ax.set_xlim([25, 60])\n",
    "ax.set_ylim([2000, 4000])\n",
    "\n",
    "plt.show()"
   ]
  },
  {
   "cell_type": "markdown",
   "metadata": {},
   "source": [
    "### 6. 출력 전압의 첨두값, 역방향 첨두값, 리플값을 구한다."
   ]
  },
  {
   "cell_type": "code",
   "execution_count": null,
   "metadata": {},
   "outputs": [],
   "source": [
    "V_OUT_peak_mV = []\n",
    "V_OUT_r_peak_mV = []\n",
    "V_OUT_ripple_mV = []\n",
    "for idx in range(len(labels)):\n",
    "    idx_start = np.argmax(times[idx] > 20)\n",
    "    idx_end = np.argmin(times[idx] < 50)\n",
    "\n",
    "    vmax = vouts[idx][idx_start:idx_end].max()\n",
    "    vmin = vouts[idx][idx_start:idx_end].min()\n",
    "\n",
    "    V_OUT_peak_mV.append(vmax)\n",
    "    V_OUT_r_peak_mV.append(vmin)\n",
    "    V_OUT_ripple_mV.append(vmax - vmin)\n",
    "\n",
    "print(\"C = \", end='')\n",
    "print(labels)\n",
    "print_array(\"V_OUT_peak_mV\", V_OUT_peak_mV)\n",
    "print_array(\"V_OUT_r_peak_mV\", V_OUT_r_peak_mV)\n",
    "print_array(\"V_OUT_ripple_mV\", V_OUT_ripple_mV)"
   ]
  }
 ],
 "metadata": {
  "kernelspec": {
   "display_name": "Python 3.10.6 64-bit",
   "language": "python",
   "name": "python3"
  },
  "language_info": {
   "codemirror_mode": {
    "name": "ipython",
    "version": 3
   },
   "file_extension": ".py",
   "mimetype": "text/x-python",
   "name": "python",
   "nbconvert_exporter": "python",
   "pygments_lexer": "ipython3",
   "version": "3.10.6"
  },
  "orig_nbformat": 4,
  "vscode": {
   "interpreter": {
    "hash": "45d5ea1a628b116fc37336f3e2703270bd779ac9277507a8bf46eb41278a50a9"
   }
  }
 },
 "nbformat": 4,
 "nbformat_minor": 2
}
