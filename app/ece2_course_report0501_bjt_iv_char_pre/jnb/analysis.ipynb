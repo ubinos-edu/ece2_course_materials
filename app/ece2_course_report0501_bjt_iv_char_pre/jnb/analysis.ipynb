{
 "cells": [
  {
   "cell_type": "markdown",
   "metadata": {},
   "source": [
    "# 실험 05-01 BJT의 전압-전류 특성"
   ]
  },
  {
   "cell_type": "markdown",
   "metadata": {},
   "source": [
    "## 공통 코드"
   ]
  },
  {
   "cell_type": "code",
   "execution_count": null,
   "metadata": {},
   "outputs": [],
   "source": [
    "import matplotlib.pyplot as plt\n",
    "import numpy as np\n",
    "import pandas as pd\n",
    "import re\n",
    "from scipy.signal import savgol_filter # 사비츠키-골레이(Savitzky-Golay) 필터\n",
    "from numpy import nan, inf\n",
    "\n",
    "# %matplotlib tk\n",
    "# %matplotlib inline\n",
    "\n",
    "def tangent_line(f, x):\n",
    "    h = 1e-4\n",
    "    d = (f(x+h) - f(x-h)) / (2*h)\n",
    "    return lambda t: d*t - d*x + f(x)\n",
    "\n",
    "def get_simulation_result(file_name, start=0, end=-1):\n",
    "    with open(file_name, encoding='cp1252') as data_file:\n",
    "        lines = data_file.read()\n",
    "        occurrences = lines.count('Step Information:')\n",
    "        data_file.seek(0)\n",
    "\n",
    "        line = data_file.readline()\n",
    "        labels = re.split(', | ,|\\t', line)\n",
    "        labels = [s.strip().upper() for s in labels]\n",
    "\n",
    "        data = {}\n",
    "\n",
    "        if (occurrences == 0):\n",
    "            for label in labels:\n",
    "                data[label] = []\n",
    "            \n",
    "            for line in data_file:\n",
    "                values = re.split(', | ,|\\t', line)\n",
    "                for i in range(len(values)):\n",
    "                    value = float(values[i]) * 1000\n",
    "                    data[labels[i]].append(value)\n",
    "\n",
    "        else:\n",
    "            labels_all =[]\n",
    "            \n",
    "            lines = data_file.readline() # skip first line starting with 'Step Information:'\n",
    "\n",
    "            for idx in range(occurrences):\n",
    "                labels_new = []\n",
    "                for label in labels:\n",
    "                    labels_new.append('(%s)@%d' % (label, idx+1))\n",
    "                labels_all += labels_new\n",
    "\n",
    "                for label_new in labels_new:\n",
    "                    data[label_new] = []\n",
    "\n",
    "                for line in data_file:\n",
    "                    if (line.startswith('Step Information:')):\n",
    "                        break\n",
    "                    values = re.split(', | ,|\\t', line)\n",
    "                    for i in range(len(values)):\n",
    "                        value = float(values[i]) * 1000\n",
    "                        data[labels_new[i]].append(value)\n",
    "\n",
    "            labels = labels_all\n",
    "\n",
    "        for label in labels:\n",
    "            data[label] = np.array(data[label][start:end])\n",
    "\n",
    "    # print(\"labels = \", end='')\n",
    "    # print(list(data.keys()))\n",
    "    for label in list(data.keys()):\n",
    "        print(\"data['%s'] : sample number = %d\" % (label, len(data[label])))\n",
    "\n",
    "    return data\n",
    "\n",
    "def get_oscilloscpoe_result_tektronix(file_name, start=0, end=-1):\n",
    "    df = pd.read_csv(file_name, header=None, encoding='cp1252',low_memory=False)\n",
    "\n",
    "    label_ri = df.loc[df.iloc[:,0] == 'Source', 1].index\n",
    "    ci = 0\n",
    "    data = {}\n",
    "    data['TIME'] = df.iloc[start:end, 3].to_numpy().astype(float)\n",
    "    data['TIME'] -= data['TIME'][0]\n",
    "    for idx in range(df.shape[1]//6):\n",
    "        label = df.iloc[label_ri, ci+1].item()\n",
    "        data[label] = df.iloc[start:end,ci+4].to_numpy().astype(float)\n",
    "        ci += 6\n",
    "\n",
    "    # print(\"labels = \", end='')\n",
    "    # print(list(data.keys()))\n",
    "    for label in list(data.keys()):\n",
    "        print(\"data['%s'] : sample number = %d\" % (label, len(data[label])))\n",
    "\n",
    "    return data\n",
    "\n",
    "def print_array(label, values):\n",
    "    print('%s = [' % label, end='')\n",
    "    for idx, vd in enumerate(values):\n",
    "        print('{:11.3f}'.format(vd), end='')\n",
    "        if (idx+1 != len(values)):\n",
    "            print(', ', end='')\n",
    "    print(']')\n",
    "\n",
    "def print_value(label, value):\n",
    "    print('%s = ' % label, end='')\n",
    "    print('{:11.3f}'.format(value))\n",
    "\n",
    "def draw_plot(xs, ys, label, style_idx, marker_num=16, scatter=False, scatter_s=2):\n",
    "    linestyle  = ['-',          '-',            '-',            '-',            '-', \n",
    "                  '-',          '-',            '-',            '-',            '-', \n",
    "                  '-',          '-',            '-',            '-',            '-', \n",
    "                  '-',          '-',            '-',            '-',            '-', \n",
    "                  '-',          '-',            '-',            '-',            '-']\n",
    "    colors     = ['blue',       'green',        'red',          'orange',       'purple',\n",
    "                  'cyan',       'darkseagreen', 'brown',        'goldenrod',    'darkviolet',\n",
    "                  'steelblue',  'limegreen',    'tomato',       'tan',          'deeppink',\n",
    "                  'navy',       'lightgreen',   'indianred',    'khaki',        'rebeccapurple',\n",
    "                  'slategray',  'forestgreen',  'orangered',    'wheat',        'orchid']\n",
    "    markers    = ['o',          'v',            '<',            's',            'p',\n",
    "                  'h',          '*',            'X',            'x',            '^',\n",
    "                  '>',          'P',            'D',            'H',            'd',\n",
    "                  '|',          '-',            '4'             '5',            '6',\n",
    "                  '7',          '8',            '9 ',           '10',           '+']\n",
    "\n",
    "    if (marker_num > 0):\n",
    "        markeverys = []\n",
    "        if xs[0] > xs[-1]:\n",
    "            first_idx = -1\n",
    "        else:\n",
    "            first_idx = 0\n",
    "        x_step = (xs.max() - xs.min()) / marker_num\n",
    "        for idx in range(len(markers)):\n",
    "            x_start = xs.min() + ((x_step / (len(markers) + 1)) * idx)\n",
    "            marker_list = []\n",
    "            for j in range(marker_num):\n",
    "                tmp_array = np.where(xs > (x_start + (x_step * j)))\n",
    "                if (len(tmp_array[0]) > 0):\n",
    "                    marker_list.append(tmp_array[0][first_idx])\n",
    "            markeverys.append(marker_list)\n",
    "\n",
    "        selected_markevery = markeverys[style_idx]\n",
    "        selected_marker = markers[style_idx]\n",
    "    elif (marker_num == 0):\n",
    "        selected_markevery = None\n",
    "        selected_marker = None\n",
    "    else:\n",
    "        selected_markevery = None\n",
    "        selected_marker = markers[style_idx]\n",
    "\n",
    "    if (scatter):\n",
    "        plt.scatter(xs, ys, color=colors[style_idx], marker=selected_marker, s=scatter_s, label=label)\n",
    "    else:\n",
    "        plt.plot(xs, ys, ls=linestyle[style_idx], color=colors[style_idx], marker=selected_marker, markevery=selected_markevery, label=label)\n",
    "    if (label != None):\n",
    "        plt.legend(bbox_to_anchor=(1.05, 1), loc='upper left', borderaxespad=0.)\n",
    "\n",
    "def set_plot_size(xrate, yrate):\n",
    "    if (len(set_plot_size.g_plt_figsize) == 0):\n",
    "        set_plot_size.g_plt_figsize = plt.rcParams[\"figure.figsize\"]\n",
    "    size = []\n",
    "    size.append(set_plot_size.g_plt_figsize[0] * xrate)\n",
    "    size.append(set_plot_size.g_plt_figsize[1] * yrate)\n",
    "    plt.figure(figsize=size)\n",
    "\n",
    "set_plot_size.g_plt_figsize = []"
   ]
  },
  {
   "cell_type": "markdown",
   "metadata": {},
   "source": [
    "*******************************************************************************\n",
    "## 시뮬레이션 1 결과 분석"
   ]
  },
  {
   "cell_type": "markdown",
   "metadata": {},
   "source": [
    "## 회로도\n",
    "\n",
    "* 사용한 컴포넌트\n",
    "    + voltage (V): VBB, VCE\n",
    "    + res (R): RB\n",
    "    + Bipolar NPN transistor (Component -> npn) : Q1\n",
    "    + ground (G): Ground\n",
    "    + Net Name (F4): VB, VBB, VCE\n",
    "\n",
    "![Markdown-mark](../ltspice/simulation_01.png)"
   ]
  },
  {
   "cell_type": "markdown",
   "metadata": {},
   "source": [
    "### 1. 시뮬레이션 결과 파일을 읽는다."
   ]
  },
  {
   "cell_type": "code",
   "execution_count": null,
   "metadata": {},
   "outputs": [],
   "source": [
    "data = get_simulation_result('../ltspice/simulation_01.txt')"
   ]
  },
  {
   "cell_type": "markdown",
   "metadata": {},
   "source": [
    "### 2. 시뮬레이션 결과에서 VCE, IC, IE를 가져온다."
   ]
  },
  {
   "cell_type": "code",
   "execution_count": null,
   "metadata": {},
   "outputs": [],
   "source": [
    "vcesl = []\n",
    "icsl = []\n",
    "iesl = []\n",
    "labels = [1000., 2000., 3000., 4000., 5000.] # VBB\n",
    "\n",
    "for idx in range(len(labels)):\n",
    "    vcesl.append(data['(V(VCE))@%d' % (idx+1)])\n",
    "    icsl.append(data['(IC(Q1))@%d' % (idx+1)])\n",
    "    iesl.append(-data['(IE(Q1))@%d' % (idx+1)])\n",
    "\n",
    "vce_list = [100., 400., 800., 2000., 4000., 6000.]\n",
    "print_array(\"                VCE_mV\", vce_list)\n",
    "for idx in range(len(labels)):\n",
    "    ic_list = []\n",
    "    for vce in vce_list:\n",
    "        ic_list.append(np.interp(vce, vcesl[idx], icsl[idx]))\n",
    "    label = \"VBB = {:9.3f}: IC_mA\".format(labels[idx])\n",
    "    print_array(label, ic_list)"
   ]
  },
  {
   "cell_type": "markdown",
   "metadata": {},
   "source": [
    "### 3. VCE - IC 그래프를 그린다."
   ]
  },
  {
   "cell_type": "code",
   "execution_count": null,
   "metadata": {},
   "outputs": [],
   "source": [
    "plt.xlabel('VCE_mV')\n",
    "plt.ylabel('I_mA')\n",
    "plt.axhline(0, color='black')\n",
    "plt.axvline(0, color='black')\n",
    "for idx in range(len(labels)):\n",
    "    draw_plot(vcesl[idx], icsl[idx], 'IC(VBB=%dmV)' % labels[idx], idx)\n",
    "plt.show()"
   ]
  },
  {
   "cell_type": "markdown",
   "metadata": {},
   "source": [
    "### 3. VBB각 5000mV일때 VCE - IC IE 그래프를 그린다."
   ]
  },
  {
   "cell_type": "code",
   "execution_count": null,
   "metadata": {},
   "outputs": [],
   "source": [
    "plt.xlabel('VCE_mV')\n",
    "plt.ylabel('I_mA')\n",
    "plt.axhline(0, color='black')\n",
    "plt.axvline(0, color='black')\n",
    "idx = 4\n",
    "draw_plot(vcesl[idx], icsl[idx], 'IC(VBB=%dmV)' % labels[idx], 0)\n",
    "draw_plot(vcesl[idx], iesl[idx], 'IE(VBB=%dmV)' % labels[idx], 1)\n",
    "plt.show()"
   ]
  },
  {
   "cell_type": "code",
   "execution_count": null,
   "metadata": {},
   "outputs": [],
   "source": [
    "plt.xlabel('VCE_mV')\n",
    "plt.ylabel('I_mA')\n",
    "plt.axhline(0, color='black')\n",
    "plt.axvline(0, color='black')\n",
    "idx = 4\n",
    "draw_plot(vcesl[idx], icsl[idx], 'IC(VBB=%dmV)' % labels[idx], 0)\n",
    "draw_plot(vcesl[idx], iesl[idx], 'IE(VBB=%dmV)' % labels[idx], 1)\n",
    "ax = plt.gca()\n",
    "ax.set_xlim([5000, 6000])\n",
    "ax.set_ylim([6.5, 7.5])\n",
    "plt.show()"
   ]
  },
  {
   "cell_type": "markdown",
   "metadata": {},
   "source": [
    "*******************************************************************************\n",
    "## 시뮬레이션 2 결과 분석"
   ]
  },
  {
   "cell_type": "markdown",
   "metadata": {},
   "source": [
    "## 회로도\n",
    "\n",
    "![Markdown-mark](../ltspice/simulation_02.png)"
   ]
  },
  {
   "cell_type": "markdown",
   "metadata": {},
   "source": [
    "### 1. 시뮬레이션 결과 파일을 읽는다."
   ]
  },
  {
   "cell_type": "code",
   "execution_count": null,
   "metadata": {},
   "outputs": [],
   "source": [
    "data = get_simulation_result('../ltspice/simulation_02.txt')"
   ]
  },
  {
   "cell_type": "markdown",
   "metadata": {},
   "source": [
    "### 2. 시뮬레이션 결과에서 VBB, VB, IC, IE, IB를 가져온다."
   ]
  },
  {
   "cell_type": "code",
   "execution_count": null,
   "metadata": {},
   "outputs": [],
   "source": [
    "vbbs = data['V(VBB)']\n",
    "vbs = data['V(VB)']\n",
    "ibs = data['IB(Q1)']\n",
    "ics = data['IC(Q1)']\n",
    "ies = -data['IE(Q1)']"
   ]
  },
  {
   "cell_type": "code",
   "execution_count": null,
   "metadata": {},
   "outputs": [],
   "source": [
    "vb_list = []\n",
    "ib_list = []\n",
    "ic_list = []\n",
    "ie_list = []\n",
    "\n",
    "vbb_list = [200., 400., 600., 800., 1000., 2000., 3000., 4000.]\n",
    "print_array(\"VBB_mV  \", vbb_list)\n",
    "\n",
    "for vbb in vbb_list:\n",
    "    vb_list.append(np.interp(vbb, vbbs, vbs))\n",
    "    ib_list.append(np.interp(vbb, vbbs, ibs))\n",
    "    ic_list.append(np.interp(vbb, vbbs, ics))\n",
    "    ie_list.append(np.interp(vbb, vbbs, ies))\n",
    "print_array('VBE_mV  ', vb_list)\n",
    "print_array('IB_mA   ', ib_list)\n",
    "print_array('IC_mA   ', ic_list)\n",
    "print_array('IE_mA   ', ie_list)"
   ]
  },
  {
   "cell_type": "code",
   "execution_count": null,
   "metadata": {},
   "outputs": [],
   "source": [
    "beta_dc_list = np.concatenate([np.array([nan, nan, nan,]), np.array(ic_list[3:])/np.array(ib_list[3:])])\n",
    "print_array('Beta_DC ', beta_dc_list)\n",
    "\n",
    "alpha_dc_list = np.concatenate([np.array([nan, nan,]), np.array(ic_list[2:])/np.array(ie_list[2:])])\n",
    "print_array('Alpha_DC', alpha_dc_list)"
   ]
  },
  {
   "cell_type": "markdown",
   "metadata": {},
   "source": [
    "### 3. VBE - IC 그래프를 그린다."
   ]
  },
  {
   "cell_type": "code",
   "execution_count": null,
   "metadata": {},
   "outputs": [],
   "source": [
    "plt.xlabel('VBE_mV')\n",
    "plt.ylabel('I_mA')\n",
    "plt.axhline(0, color='black')\n",
    "plt.axvline(0, color='black')\n",
    "draw_plot(vbs, ics, 'IC_mA', 0)\n",
    "plt.show()"
   ]
  },
  {
   "cell_type": "markdown",
   "metadata": {},
   "source": [
    "### 4. VBE - IC IE, VBE - IB 그래프를 그린다."
   ]
  },
  {
   "cell_type": "code",
   "execution_count": null,
   "metadata": {},
   "outputs": [],
   "source": [
    "plt.xlabel('VBE_mV')\n",
    "plt.ylabel('I_mA')\n",
    "plt.axhline(0, color='black')\n",
    "plt.axvline(0, color='black')\n",
    "draw_plot(vbs, ics, 'IC_mA', 0)\n",
    "draw_plot(vbs, ies, 'IE_mA', 1)\n",
    "plt.show()"
   ]
  },
  {
   "cell_type": "code",
   "execution_count": null,
   "metadata": {},
   "outputs": [],
   "source": [
    "plt.xlabel('VBE_mV')\n",
    "plt.ylabel('I_mA')\n",
    "plt.axhline(0, color='black')\n",
    "plt.axvline(0, color='black')\n",
    "draw_plot(vbs, ics, 'IC_mA', 0)\n",
    "draw_plot(vbs, ies, 'IE_mA', 1)\n",
    "ax = plt.gca()\n",
    "ax.set_xlim([710, 720])\n",
    "ax.set_ylim([6, 7])\n",
    "plt.show()"
   ]
  },
  {
   "cell_type": "code",
   "execution_count": null,
   "metadata": {},
   "outputs": [],
   "source": [
    "plt.xlabel('VBE_mV')\n",
    "plt.ylabel('I_mA')\n",
    "plt.axhline(0, color='black')\n",
    "plt.axvline(0, color='black')\n",
    "draw_plot(vbs, ibs, 'IB_mA', 2)\n",
    "plt.show()"
   ]
  },
  {
   "cell_type": "markdown",
   "metadata": {},
   "source": [
    "*******************************************************************************\n",
    "## 시뮬레이션 3 결과 분석"
   ]
  },
  {
   "cell_type": "markdown",
   "metadata": {},
   "source": [
    "## 회로도\n",
    "\n",
    "* 사용한 컴포넌트\n",
    "    + voltage (V): VBB, VCE\n",
    "    + res (R): RB\n",
    "    + Bipolar PNP transistor (Component -> pnp) : Q1\n",
    "    + ground (G): Ground\n",
    "    + Net Name (F4): VB, VBB, VCE\n",
    "\n",
    "![Markdown-mark](../ltspice/simulation_03.png)"
   ]
  },
  {
   "cell_type": "markdown",
   "metadata": {},
   "source": [
    "### 1. 시뮬레이션 결과 파일을 읽는다."
   ]
  },
  {
   "cell_type": "code",
   "execution_count": null,
   "metadata": {},
   "outputs": [],
   "source": [
    "data = get_simulation_result('../ltspice/simulation_03.txt')"
   ]
  },
  {
   "cell_type": "markdown",
   "metadata": {},
   "source": [
    "### 2. 시뮬레이션 결과에서 VCE, IC, IE를 가져온다."
   ]
  },
  {
   "cell_type": "code",
   "execution_count": null,
   "metadata": {},
   "outputs": [],
   "source": [
    "vcesl = []\n",
    "icsl = []\n",
    "iesl = []\n",
    "labels = [-1000., -2000., -3000., -4000., -5000.] # VBB\n",
    "\n",
    "for idx in range(len(labels)):\n",
    "    vcesl.append(data['(V(VCE))@%d' % (idx+1)])\n",
    "    icsl.append(data['(IC(Q1))@%d' % (idx+1)])\n",
    "    iesl.append(-data['(IE(Q1))@%d' % (idx+1)])\n",
    "\n",
    "vce_list = [-100., -400., -800., -2000., -4000., -5000.]\n",
    "print_array(\"                VCE_mV\", vce_list)\n",
    "for idx in range(len(labels)):\n",
    "    ic_list = []\n",
    "    for vce in vce_list:\n",
    "        ic_list.append(np.interp(-vce, -vcesl[idx], icsl[idx])) # x축의 기울기가 음수이기 때문에 -를 붙여서 양수로 바꿈\n",
    "    label = \"VBB = {:9.3f}: IC_mA\".format(labels[idx])\n",
    "    print_array(label, ic_list)"
   ]
  },
  {
   "cell_type": "markdown",
   "metadata": {},
   "source": [
    "### 3. VCE - IC 그래프를 그린다."
   ]
  },
  {
   "cell_type": "code",
   "execution_count": null,
   "metadata": {},
   "outputs": [],
   "source": [
    "plt.xlabel('VCE_mV')\n",
    "plt.ylabel('I_mA')\n",
    "plt.axhline(0, color='black')\n",
    "plt.axvline(0, color='black')\n",
    "for idx in range(len(labels)):\n",
    "    draw_plot(vcesl[idx], icsl[idx], 'IC(VBB=%dmV)' % labels[idx], idx)\n",
    "plt.show()"
   ]
  },
  {
   "cell_type": "markdown",
   "metadata": {},
   "source": [
    "### 3. VBB각 5000mV일때 VCE - IC IE 그래프를 그린다."
   ]
  },
  {
   "cell_type": "code",
   "execution_count": null,
   "metadata": {},
   "outputs": [],
   "source": [
    "plt.xlabel('VCE_mV')\n",
    "plt.ylabel('I_mA')\n",
    "plt.axhline(0, color='black')\n",
    "plt.axvline(0, color='black')\n",
    "idx = 4\n",
    "draw_plot(vcesl[idx], icsl[idx], 'IC(VBB=%dmV)' % labels[idx], 0)\n",
    "draw_plot(vcesl[idx], iesl[idx], 'IE(VBB=%dmV)' % labels[idx], 1)\n",
    "plt.show()"
   ]
  },
  {
   "cell_type": "code",
   "execution_count": null,
   "metadata": {},
   "outputs": [],
   "source": [
    "plt.xlabel('VCE_mV')\n",
    "plt.ylabel('I_mA')\n",
    "plt.axhline(0, color='black')\n",
    "plt.axvline(0, color='black')\n",
    "idx = 4\n",
    "draw_plot(vcesl[idx], icsl[idx], 'IC(VBB=%dmV)' % labels[idx], 0)\n",
    "draw_plot(vcesl[idx], iesl[idx], 'IE(VBB=%dmV)' % labels[idx], 1)\n",
    "ax = plt.gca()\n",
    "ax.set_xlim([-6000, -5000])\n",
    "ax.set_ylim([-5., -4.])\n",
    "plt.show()"
   ]
  },
  {
   "cell_type": "markdown",
   "metadata": {},
   "source": [
    "*******************************************************************************\n",
    "## 시뮬레이션 4 결과 분석"
   ]
  },
  {
   "cell_type": "markdown",
   "metadata": {},
   "source": [
    "## 회로도\n",
    "\n",
    "![Markdown-mark](../ltspice/simulation_04.png)"
   ]
  },
  {
   "cell_type": "markdown",
   "metadata": {},
   "source": [
    "### 1. 시뮬레이션 결과 파일을 읽는다."
   ]
  },
  {
   "cell_type": "code",
   "execution_count": null,
   "metadata": {},
   "outputs": [],
   "source": [
    "data = get_simulation_result('../ltspice/simulation_04.txt')"
   ]
  },
  {
   "cell_type": "markdown",
   "metadata": {},
   "source": [
    "### 2. 시뮬레이션 결과에서 VBB, VB, IC, IE, IB를 가져온다."
   ]
  },
  {
   "cell_type": "code",
   "execution_count": null,
   "metadata": {},
   "outputs": [],
   "source": [
    "vbbs = data['V(VBB)']\n",
    "vbs = data['V(VB)']\n",
    "ibs = data['IB(Q1)']\n",
    "ics = data['IC(Q1)']\n",
    "ies = -data['IE(Q1)']"
   ]
  },
  {
   "cell_type": "code",
   "execution_count": null,
   "metadata": {},
   "outputs": [],
   "source": [
    "vb_list = []\n",
    "ib_list = []\n",
    "ic_list = []\n",
    "ie_list = []\n",
    "\n",
    "vbb_list = [-200., -400., -600., -800., -1000., -2000., -3000., -4000.]\n",
    "print_array(\"VBB_mV \", vbb_list)\n",
    "for vbb in vbb_list:\n",
    "    vb_list.append(np.interp(-vbb, -vbbs, vbs)) # x축의 기울기가 음수이기 때문에 -를 붙여서 양수로 바꿈\n",
    "    ib_list.append(np.interp(-vbb, -vbbs, ibs))\n",
    "    ic_list.append(np.interp(-vbb, -vbbs, ics))\n",
    "    ie_list.append(np.interp(-vbb, -vbbs, ies))\n",
    "print_array('VBE_mV ', vb_list)\n",
    "print_array('IB_mA  ', ib_list)\n",
    "print_array('IC_mA  ', ic_list)\n",
    "print_array('IE_mA  ', ie_list)"
   ]
  },
  {
   "cell_type": "code",
   "execution_count": null,
   "metadata": {},
   "outputs": [],
   "source": [
    "beta_dc_list = np.concatenate([np.array([nan, nan, nan,]), np.array(ic_list[3:])/np.array(ib_list[3:])])\n",
    "print_array('Beta_DC ', beta_dc_list)\n",
    "\n",
    "alpha_dc_list = np.concatenate([np.array([nan, nan,]), np.array(ic_list[2:])/np.array(ie_list[2:])])\n",
    "print_array('Alpha_DC', alpha_dc_list)"
   ]
  },
  {
   "cell_type": "markdown",
   "metadata": {},
   "source": [
    "### 3. VBE - IC 그래프를 그린다."
   ]
  },
  {
   "cell_type": "code",
   "execution_count": null,
   "metadata": {},
   "outputs": [],
   "source": [
    "plt.xlabel('VBE_mV')\n",
    "plt.ylabel('I_mA')\n",
    "plt.axhline(0, color='black')\n",
    "plt.axvline(0, color='black')\n",
    "draw_plot(vbs, ics, 'IC_mA', 0)\n",
    "plt.show()"
   ]
  },
  {
   "cell_type": "markdown",
   "metadata": {},
   "source": [
    "### 4. VBE - IC IE, VBE - IB 그래프를 그린다."
   ]
  },
  {
   "cell_type": "code",
   "execution_count": null,
   "metadata": {},
   "outputs": [],
   "source": [
    "plt.xlabel('VBE_mV')\n",
    "plt.ylabel('I_mA')\n",
    "plt.axhline(0, color='black')\n",
    "plt.axvline(0, color='black')\n",
    "draw_plot(vbs, ics, 'IC_mA', 0)\n",
    "draw_plot(vbs, ies, 'IE_mA', 1)\n",
    "plt.show()"
   ]
  },
  {
   "cell_type": "code",
   "execution_count": null,
   "metadata": {},
   "outputs": [],
   "source": [
    "plt.xlabel('VBE_mV')\n",
    "plt.ylabel('I_mA')\n",
    "plt.axhline(0, color='black')\n",
    "plt.axvline(0, color='black')\n",
    "draw_plot(vbs, ics, 'IC_mA', 0)\n",
    "draw_plot(vbs, ies, 'IE_mA', 1)\n",
    "ax = plt.gca()\n",
    "ax.set_xlim([-743, -733])\n",
    "ax.set_ylim([-4.5, -3.5])\n",
    "plt.show()"
   ]
  },
  {
   "cell_type": "code",
   "execution_count": null,
   "metadata": {},
   "outputs": [],
   "source": [
    "plt.xlabel('VBE_mV')\n",
    "plt.ylabel('I_mA')\n",
    "plt.axhline(0, color='black')\n",
    "plt.axvline(0, color='black')\n",
    "draw_plot(vbs, ibs, 'IB_mA', 2)\n",
    "plt.show()"
   ]
  }
 ],
 "metadata": {
  "kernelspec": {
   "display_name": "Python 3.10.6 64-bit",
   "language": "python",
   "name": "python3"
  },
  "language_info": {
   "codemirror_mode": {
    "name": "ipython",
    "version": 3
   },
   "file_extension": ".py",
   "mimetype": "text/x-python",
   "name": "python",
   "nbconvert_exporter": "python",
   "pygments_lexer": "ipython3",
   "version": "3.10.6"
  },
  "orig_nbformat": 4,
  "vscode": {
   "interpreter": {
    "hash": "45d5ea1a628b116fc37336f3e2703270bd779ac9277507a8bf46eb41278a50a9"
   }
  }
 },
 "nbformat": 4,
 "nbformat_minor": 2
}
