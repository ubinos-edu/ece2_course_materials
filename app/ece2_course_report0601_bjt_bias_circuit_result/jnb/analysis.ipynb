{
 "cells": [
  {
   "cell_type": "markdown",
   "metadata": {},
   "source": [
    "# 실험 06-01 BJT 바이어스 회로 실험"
   ]
  },
  {
   "cell_type": "markdown",
   "metadata": {},
   "source": [
    "## 공통 코드"
   ]
  },
  {
   "cell_type": "code",
   "execution_count": null,
   "metadata": {},
   "outputs": [],
   "source": [
    "import matplotlib.pyplot as plt\n",
    "import numpy as np\n",
    "import pandas as pd\n",
    "import re\n",
    "import io\n",
    "from scipy.signal import savgol_filter # 사비츠키-골레이(Savitzky-Golay) 필터\n",
    "from numpy import nan, inf\n",
    "\n",
    "# %matplotlib tk\n",
    "# %matplotlib inline\n",
    "\n",
    "def tangent_line(f, x):\n",
    "    h = 1e-4\n",
    "    d = (f(x+h) - f(x-h)) / (2*h)\n",
    "    return lambda t: d*t - d*x + f(x)\n",
    "\n",
    "def derivative(f, x):\n",
    "    h = 1e-4\n",
    "    d = (f(x+h) - f(x-h)) / (2*h)\n",
    "    return d\n",
    "\n",
    "def get_simulation_result(file_name, start=0, end=-1):\n",
    "    if end == -1:\n",
    "        end = None\n",
    "    else:\n",
    "        end += 1\n",
    "    \n",
    "    with open(file_name, encoding='cp1252') as data_file:\n",
    "        lines = data_file.read()\n",
    "        occurrences = lines.count('Step Information:')\n",
    "        data_file.seek(0)\n",
    "\n",
    "        line = data_file.readline()\n",
    "        labels = re.split(', | ,|\\t', line)\n",
    "        labels = [s.strip().upper() for s in labels]\n",
    "\n",
    "        data = {}\n",
    "\n",
    "        if (occurrences == 0):\n",
    "            for label in labels:\n",
    "                data[label] = []\n",
    "            \n",
    "            for line in data_file:\n",
    "                values = re.split(', | ,|\\t', line)\n",
    "                for i in range(len(values)):\n",
    "                    value = float(values[i]) * 1000\n",
    "                    data[labels[i]].append(value)\n",
    "\n",
    "        else:\n",
    "            labels_all =[]\n",
    "            \n",
    "            lines = data_file.readline() # skip first line starting with 'Step Information:'\n",
    "\n",
    "            for idx in range(occurrences):\n",
    "                labels_new = []\n",
    "                for label in labels:\n",
    "                    labels_new.append('(%s)@%d' % (label, idx+1))\n",
    "                labels_all += labels_new\n",
    "\n",
    "                for label_new in labels_new:\n",
    "                    data[label_new] = []\n",
    "\n",
    "                for line in data_file:\n",
    "                    if (line.startswith('Step Information:')):\n",
    "                        break\n",
    "                    values = re.split(', | ,|\\t', line)\n",
    "                    for i in range(len(values)):\n",
    "                        value = float(values[i]) * 1000\n",
    "                        data[labels_new[i]].append(value)\n",
    "\n",
    "            labels = labels_all\n",
    "\n",
    "        for label in labels:\n",
    "            data[label] = np.array(data[label][start:end])\n",
    "\n",
    "    # print(\"labels = \", end='')\n",
    "    # print(list(data.keys()))\n",
    "    for label in list(data.keys()):\n",
    "        print(\"data['%s'] : sample number = %d\" % (label, len(data[label])))\n",
    "\n",
    "    return data\n",
    "\n",
    "def get_oscilloscpoe_result_tektronix(file_name, start=0, end=-1):\n",
    "    if end == -1:\n",
    "        end = None\n",
    "    else:\n",
    "        end += 1\n",
    "\n",
    "    df = pd.read_csv(file_name, header=None, encoding='cp1252',low_memory=False)\n",
    "\n",
    "    label_ri = df.loc[df.iloc[:,0] == 'Source', 1].index\n",
    "    ci = 0\n",
    "    data = {}\n",
    "    data['TIME'] = df.iloc[start:end, 3].to_numpy().astype(float)\n",
    "    data['TIME'] -= data['TIME'][0]\n",
    "    for idx in range(df.shape[1]//6):\n",
    "        label = df.iloc[label_ri, ci+1].item()\n",
    "        data[label] = df.iloc[start:end,ci+4].to_numpy().astype(float)\n",
    "        ci += 6\n",
    "\n",
    "    # print(\"labels = \", end='')\n",
    "    # print(list(data.keys()))\n",
    "    for label in list(data.keys()):\n",
    "        print(\"data['%s'] : sample number = %d\" % (label, len(data[label])))\n",
    "\n",
    "    return data\n",
    "\n",
    "def print_array(label, values):\n",
    "    print('%s = [' % label, end='')\n",
    "    for idx, vd in enumerate(values):\n",
    "        print('{:11.3f}'.format(vd), end='')\n",
    "        if (idx+1 != len(values)):\n",
    "            print(', ', end='')\n",
    "    print(']')\n",
    "\n",
    "def print_value(label, value):\n",
    "    print('%s = ' % label, end='')\n",
    "    print('{:11.3f}'.format(value))\n",
    "\n",
    "def print_value_to_string(label, value):\n",
    "    output = io.StringIO()\n",
    "    print('%s = ' % label, end='', file=output)\n",
    "    print('{:11.3f}'.format(value), file=output)\n",
    "    captured = output.getvalue()\n",
    "    return captured\n",
    "\n",
    "def draw_plot(xs, ys, label, style_idx, color_idx=-1, marker_num=16, scatter=False, scatter_s=2):\n",
    "    linestyle  = ['-',          '-',            '-',            '-',            '-', \n",
    "                  '-',          '-',            '-',            '-',            '-', \n",
    "                  '-',          '-',            '-',            '-',            '-', \n",
    "                  '-',          '-',            '-',            '-',            '-', \n",
    "                  '-',          '-',            '-',            '-',            '-']\n",
    "    colors     = ['blue',       'green',        'red',          'orange',       'purple',\n",
    "                  'cyan',       'darkseagreen', 'brown',        'goldenrod',    'darkviolet',\n",
    "                  'steelblue',  'limegreen',    'tomato',       'tan',          'deeppink',\n",
    "                  'navy',       'lightgreen',   'indianred',    'khaki',        'rebeccapurple',\n",
    "                  'slategray',  'forestgreen',  'orangered',    'wheat',        'orchid']\n",
    "    markers    = ['o',          'v',            '<',            's',            'p',\n",
    "                  'h',          '*',            'X',            'x',            '^',\n",
    "                  '>',          'P',            'D',            'H',            'd',\n",
    "                  '|',          '-',            '4'             '5',            '6',\n",
    "                  '7',          '8',            '9 ',           '10',           '+']\n",
    "\n",
    "    if color_idx < 0:\n",
    "        color_idx = style_idx\n",
    "\n",
    "    if isinstance(xs, list):\n",
    "        xs = np.array(xs)\n",
    "    if isinstance(ys, list):\n",
    "        ys = np.array(ys)\n",
    "\n",
    "    if (marker_num == 0):\n",
    "        selected_markevery = None\n",
    "        selected_marker = None\n",
    "    elif not isinstance(xs, np.ndarray):\n",
    "        selected_markevery = None\n",
    "        selected_marker = markers[style_idx]\n",
    "    elif (marker_num > 0):\n",
    "        markeverys = []\n",
    "        if xs[0] > xs[-1]:\n",
    "            first_idx = -1\n",
    "        else:\n",
    "            first_idx = 0\n",
    "        x_step = (xs.max() - xs.min()) / marker_num\n",
    "        for idx in range(len(markers)):\n",
    "            x_start = xs.min() + ((x_step / (len(markers) + 1)) * idx)\n",
    "            marker_list = []\n",
    "            for j in range(marker_num):\n",
    "                tmp_array = np.where(xs > (x_start + (x_step * j)))\n",
    "                if (len(tmp_array[0]) > 0):\n",
    "                    marker_list.append(tmp_array[0][first_idx])\n",
    "            markeverys.append(marker_list)\n",
    "\n",
    "        selected_markevery = markeverys[style_idx]\n",
    "        selected_marker = markers[style_idx]\n",
    "    else:\n",
    "        selected_markevery = None\n",
    "        selected_marker = markers[style_idx]\n",
    "\n",
    "    if (scatter):\n",
    "        plt.scatter(xs, ys, color=colors[color_idx], marker=selected_marker, s=scatter_s, label=label)\n",
    "    else:\n",
    "        plt.plot(xs, ys, ls=linestyle[style_idx], color=colors[color_idx], marker=selected_marker, markevery=selected_markevery, label=label)\n",
    "    if (label != None):\n",
    "        plt.legend(bbox_to_anchor=(1.05, 1), loc='upper left', borderaxespad=0.)\n",
    "\n",
    "def set_plot_size(xrate, yrate):\n",
    "    if (len(set_plot_size.g_plt_figsize) == 0):\n",
    "        set_plot_size.g_plt_figsize = plt.rcParams[\"figure.figsize\"]\n",
    "    size = []\n",
    "    size.append(set_plot_size.g_plt_figsize[0] * xrate)\n",
    "    size.append(set_plot_size.g_plt_figsize[1] * yrate)\n",
    "    plt.figure(figsize=size)\n",
    "\n",
    "set_plot_size.g_plt_figsize = []"
   ]
  },
  {
   "cell_type": "markdown",
   "metadata": {},
   "source": [
    "*******************************************************************************\n",
    "## 실험 1-1 결과 분석 (실험 과정 4, 5)\n",
    "\n",
    "### 회로도\n",
    "\n",
    "![Markdown-mark](../experiment/circuit_01_01_01.png)\n",
    "![Markdown-mark](../experiment/circuit_01_01_02.png)"
   ]
  },
  {
   "cell_type": "markdown",
   "metadata": {},
   "source": [
    "### 1. 실험 결과를 가져온다."
   ]
  },
  {
   "cell_type": "code",
   "execution_count": null,
   "metadata": {},
   "outputs": [],
   "source": [
    "V_CC_V      = np.array([    10.0,    10.0,    10.0,    10.0,    10.0,    10.0])\n",
    "R_C_kOhm    = np.array([    0.47,     1.0,     1.3,     1.8,     2.2,     2.7])\n",
    "\n",
    "I_B_mA      = np.array([   ?,  ?,   ?,   ?,   ?,   ?])\n",
    "V_B_V       = np.array([   ?,  ?,   ?,   ?,   ?,   ?])\n",
    "V_C_V       = np.array([   ?,  ?,   ?,   ?,   ?,   ?])\n",
    "\n",
    "V_BE_V      = V_B_V\n",
    "V_CE_V      = V_C_V\n",
    "V_CB_V      = V_C_V - V_B_V\n",
    "I_C_mA      = (V_CC_V - V_C_V) / R_C_kOhm\n",
    "Beta_DC     = I_C_mA / I_B_mA\n",
    "\n",
    "print_array('R_C_kOhm', R_C_kOhm)\n",
    "print_array('I_B_mA  ', I_B_mA)\n",
    "print_array('I_C_mA  ', I_C_mA)\n",
    "print_array('Beta_DC ', Beta_DC)\n",
    "print_array('V_BE_V  ', V_BE_V)\n",
    "print_array('V_CE_V  ', V_CE_V)\n",
    "print_array('V_CB_V  ', V_CB_V)"
   ]
  },
  {
   "cell_type": "markdown",
   "metadata": {},
   "source": [
    "### 2. $V_{CE}$ - $I_C$ 그래프를 그린다."
   ]
  },
  {
   "cell_type": "code",
   "execution_count": null,
   "metadata": {},
   "outputs": [],
   "source": [
    "plt.xlabel('V_CE_V')\n",
    "plt.ylabel('I_C_mA')\n",
    "plt.axhline(0, color='black')\n",
    "plt.axvline(0, color='black')\n",
    "plt.xlim([-0.5, 10.5])\n",
    "plt.ylim([-1, 22])\n",
    "for idx in range(len(R_C_kOhm)):\n",
    "    draw_plot(V_CE_V[idx], I_C_mA[idx], '(R_C=%1.3fkOhm)' % R_C_kOhm[idx], idx, scatter=True, scatter_s=20)\n",
    "plt.show()"
   ]
  },
  {
   "cell_type": "markdown",
   "metadata": {},
   "source": [
    "### 3. 부하선을 그린다."
   ]
  },
  {
   "cell_type": "code",
   "execution_count": null,
   "metadata": {},
   "outputs": [],
   "source": [
    "plt.xlabel('V_CE_V')\n",
    "plt.ylabel('I_C_mA')\n",
    "plt.axhline(0, color='black')\n",
    "plt.axvline(0, color='black')\n",
    "plt.xlim([-0.5, 10.5])\n",
    "plt.ylim([-1, 22])\n",
    "for idx in range(len(R_C_kOhm)):\n",
    "    draw_plot([0, V_CC_V[idx]], [V_CC_V[idx]/R_C_kOhm[idx], 0], None, idx, marker_num = 0)\n",
    "    draw_plot(V_CE_V[idx], I_C_mA[idx], '(R_C=%1.3fkOhm)' % R_C_kOhm[idx], idx, scatter=True, scatter_s=20)\n",
    "plt.show()"
   ]
  },
  {
   "cell_type": "markdown",
   "metadata": {},
   "source": [
    "### 4. 시뮬레인션 결과를 가져온다."
   ]
  },
  {
   "cell_type": "code",
   "execution_count": null,
   "metadata": {},
   "outputs": [],
   "source": [
    "I_C_mA_s   = np.array([      ?,       ?,       ?,       ?,       ?,       ?])\n",
    "V_CE_V_s   = np.array([      ?,       ?,       ?,       ?,       ?,       ?])"
   ]
  },
  {
   "cell_type": "markdown",
   "metadata": {},
   "source": [
    "### 5. 실험 결과와 시뮬레인션 결과를 비교한다."
   ]
  },
  {
   "cell_type": "code",
   "execution_count": null,
   "metadata": {},
   "outputs": [],
   "source": [
    "plt.xlabel('V_CE_V')\n",
    "plt.ylabel('I_C_mA')\n",
    "plt.axhline(0, color='black')\n",
    "plt.axvline(0, color='black')\n",
    "plt.xlim([-0.5, 10.5])\n",
    "plt.ylim([-1, 22])\n",
    "for idx in range(len(R_C_kOhm)):\n",
    "    draw_plot([0, V_CC_V[idx]], [V_CC_V[idx]/R_C_kOhm[idx], 0], None, idx, marker_num = 0)\n",
    "    draw_plot(V_CE_V[idx], I_C_mA[idx], '(M: R_C=%1.3fkOhm)' % R_C_kOhm[idx], idx, scatter=True, scatter_s=20)\n",
    "for idx in range(len(R_C_kOhm)):\n",
    "    draw_plot(V_CE_V_s[idx], I_C_mA_s[idx], '(S: R_C=%1.3fkOhm)' % R_C_kOhm[idx], idx+10, scatter=True, scatter_s=20)\n",
    "plt.show()"
   ]
  },
  {
   "cell_type": "markdown",
   "metadata": {},
   "source": [
    "*******************************************************************************\n",
    "## 실험 2-1 결과 분석 (실험 과정 4, 5)\n",
    "\n",
    "### 회로도\n",
    "\n",
    "![Markdown-mark](../experiment/circuit_02_01_01.png)\n",
    "![Markdown-mark](../experiment/circuit_02_01_02.png)"
   ]
  },
  {
   "cell_type": "markdown",
   "metadata": {},
   "source": [
    "### 1. 실험 결과를 가져온다."
   ]
  },
  {
   "cell_type": "code",
   "execution_count": null,
   "metadata": {},
   "outputs": [],
   "source": [
    "V_CC_V      = np.array([   -10.0,   -10.0,   -10.0,   -10.0,   -10.0,   -10.0])\n",
    "R_C_kOhm    = np.array([    0.47,     1.0,     1.3,     1.8,     2.2,     2.7])\n",
    "\n",
    "I_B_mA      = np.array([  ?,  ?,  ?,  ?,  ?,   ?])\n",
    "V_B_V       = np.array([  ?,  ?,  ?,  ?,  ?,  -?])\n",
    "V_C_V       = np.array([  ?,  ?,  ?,  ?,  ?,  -?])\n",
    "\n",
    "V_BE_V      = V_B_V\n",
    "V_CE_V      = V_C_V\n",
    "V_CB_V      = V_C_V - V_B_V\n",
    "I_C_mA      = (V_CC_V - V_C_V) / R_C_kOhm\n",
    "Beta_DC     = I_C_mA / I_B_mA\n",
    "\n",
    "print_array('R_C_kOhm', R_C_kOhm)\n",
    "print_array('I_B_mA  ', I_B_mA)\n",
    "print_array('I_C_mA  ', I_C_mA)\n",
    "print_array('Beta_DC ', Beta_DC)\n",
    "print_array('V_BE_V  ', V_BE_V)\n",
    "print_array('V_CE_V  ', V_CE_V)\n",
    "print_array('V_CB_V  ', V_CB_V)"
   ]
  },
  {
   "cell_type": "markdown",
   "metadata": {},
   "source": [
    "### 2. $V_{CE}$ - $I_C$ 그래프를 그린다."
   ]
  },
  {
   "cell_type": "code",
   "execution_count": null,
   "metadata": {},
   "outputs": [],
   "source": [
    "plt.xlabel('V_CE_V')\n",
    "plt.ylabel('I_C_mA')\n",
    "plt.axhline(0, color='black')\n",
    "plt.axvline(0, color='black')\n",
    "plt.xlim([-10.5, 0.5])\n",
    "plt.ylim([-22, 1])\n",
    "for idx in range(len(R_C_kOhm)):\n",
    "    draw_plot(V_CE_V[idx], I_C_mA[idx], '(R_C=%1.3fkOhm)' % R_C_kOhm[idx], idx, scatter=True, scatter_s=20)\n",
    "plt.show()"
   ]
  },
  {
   "cell_type": "markdown",
   "metadata": {},
   "source": [
    "### 3. 부하선을 그린다."
   ]
  },
  {
   "cell_type": "code",
   "execution_count": null,
   "metadata": {},
   "outputs": [],
   "source": [
    "plt.xlabel('V_CE_V')\n",
    "plt.ylabel('I_C_mA')\n",
    "plt.axhline(0, color='black')\n",
    "plt.axvline(0, color='black')\n",
    "plt.xlim([-10.5, 0.5])\n",
    "plt.ylim([-22, 1])\n",
    "for idx in range(len(R_C_kOhm)):\n",
    "    draw_plot([0, V_CC_V[idx]], [V_CC_V[idx]/R_C_kOhm[idx], 0], None, idx, marker_num = 0)\n",
    "    draw_plot(V_CE_V[idx], I_C_mA[idx], '(R_C=%1.3fkOhm)' % R_C_kOhm[idx], idx, scatter=True, scatter_s=20)\n",
    "plt.show()"
   ]
  },
  {
   "cell_type": "markdown",
   "metadata": {},
   "source": [
    "### 4. 시뮬레인션 결과를 가져온다."
   ]
  },
  {
   "cell_type": "code",
   "execution_count": null,
   "metadata": {},
   "outputs": [],
   "source": [
    "I_C_mA_s   = np.array([     ?,      ?,      ?,      ?,      ?,      ?])\n",
    "V_CE_V_s   = np.array([     ?,      ?,      ?,      ?,      ?,      ?])"
   ]
  },
  {
   "cell_type": "markdown",
   "metadata": {},
   "source": [
    "### 5. 실험 결과와 시뮬레인션 결과를 비교한다."
   ]
  },
  {
   "cell_type": "code",
   "execution_count": null,
   "metadata": {},
   "outputs": [],
   "source": [
    "plt.xlabel('V_CE_V')\n",
    "plt.ylabel('I_C_mA')\n",
    "plt.axhline(0, color='black')\n",
    "plt.axvline(0, color='black')\n",
    "plt.xlim([-10.5, 0.5])\n",
    "plt.ylim([-22, 1])\n",
    "for idx in range(len(R_C_kOhm)):\n",
    "    draw_plot([0, V_CC_V[idx]], [V_CC_V[idx]/R_C_kOhm[idx], 0], None, idx, marker_num = 0)\n",
    "    draw_plot(V_CE_V[idx], I_C_mA[idx], '(M: R_C=%1.3fkOhm)' % R_C_kOhm[idx], idx, scatter=True, scatter_s=20)\n",
    "for idx in range(len(R_C_kOhm)):\n",
    "    draw_plot(V_CE_V_s[idx], I_C_mA_s[idx], '(S: R_C=%1.3fkOhm)' % R_C_kOhm[idx], idx+10, scatter=True, scatter_s=20)\n",
    "plt.show()"
   ]
  },
  {
   "cell_type": "markdown",
   "metadata": {},
   "source": [
    "*******************************************************************************\n",
    "## 실험 3-1 결과 분석 (실험 과정 4, 5)\n",
    "\n",
    "### 회로도\n",
    "\n",
    "![Markdown-mark](../experiment/circuit_03_01_01.png)\n",
    "![Markdown-mark](../experiment/circuit_03_01_02.png)"
   ]
  },
  {
   "cell_type": "markdown",
   "metadata": {},
   "source": [
    "### 1. 실험 결과를 가져온다."
   ]
  },
  {
   "cell_type": "code",
   "execution_count": null,
   "metadata": {},
   "outputs": [],
   "source": [
    "V_CC_V      = np.array([    10.0,    10.0,    10.0,    10.0,    10.0,    10.0])\n",
    "R_C_kOhm    = 1.8\n",
    "R_E_kOhm    = np.array([     0.2,    0.47,    0.68,     1.0,     1.5,     1.8])\n",
    "\n",
    "I_B_mA      = np.array([  ?,  ?,  ?,  ?,  ?,  ?])\n",
    "V_B_V       = np.array([  ?,  ?,  ?,  ?,  ?,  ?])\n",
    "V_C_V       = np.array([  ?,  ?,  ?,  ?,  ?,  ?])\n",
    "V_E_V       = np.array([  ?,  ?,  ?,  ?,  ?,  ?])\n",
    "\n",
    "V_BE_V      = V_B_V - V_E_V\n",
    "V_CE_V      = V_C_V - V_E_V\n",
    "V_CB_V      = V_C_V - V_B_V\n",
    "I_C_mA      = (V_CC_V - V_C_V) / R_C_kOhm\n",
    "Beta_DC     = I_C_mA / I_B_mA\n",
    "\n",
    "print_array('R_E_kOhm', R_E_kOhm)\n",
    "print_array('I_B_mA  ', I_B_mA)\n",
    "print_array('I_C_mA  ', I_C_mA)\n",
    "print_array('Beta_DC ', Beta_DC)\n",
    "print_array('V_BE_V  ', V_BE_V)\n",
    "print_array('V_CE_V  ', V_CE_V)\n",
    "print_array('V_CB_V  ', V_CB_V)"
   ]
  },
  {
   "cell_type": "markdown",
   "metadata": {},
   "source": [
    "### 2. $V_{CE}$ - $I_C$ 그래프를 그린다."
   ]
  },
  {
   "cell_type": "code",
   "execution_count": null,
   "metadata": {},
   "outputs": [],
   "source": [
    "plt.xlabel('V_CE_V')\n",
    "plt.ylabel('I_C_mA')\n",
    "plt.axhline(0, color='black')\n",
    "plt.axvline(0, color='black')\n",
    "plt.xlim([-0.5, 10.5])\n",
    "plt.ylim([-0.5, 6])\n",
    "for idx in range(len(R_E_kOhm)):\n",
    "    draw_plot(V_CE_V[idx], I_C_mA[idx], '(R_E=%1.3fkOhm)' % R_E_kOhm[idx], idx, scatter=True, scatter_s=20)\n",
    "plt.show()"
   ]
  },
  {
   "cell_type": "markdown",
   "metadata": {},
   "source": [
    "### 3. 부하선을 그린다."
   ]
  },
  {
   "cell_type": "code",
   "execution_count": null,
   "metadata": {},
   "outputs": [],
   "source": [
    "plt.xlabel('V_CE_V')\n",
    "plt.ylabel('I_C_mA')\n",
    "plt.axhline(0, color='black')\n",
    "plt.axvline(0, color='black')\n",
    "plt.xlim([-0.5, 10.5])\n",
    "plt.ylim([-0.5, 6])\n",
    "for idx in range(len(R_E_kOhm)):\n",
    "    draw_plot([0, V_CC_V[idx]], [V_CC_V[idx]/(R_C_kOhm + R_E_kOhm[idx]), 0], None, idx, marker_num = 0)\n",
    "    draw_plot(V_CE_V[idx], I_C_mA[idx], '(R_E=%1.3fkOhm)' % R_E_kOhm[idx], idx, scatter=True, scatter_s=20)\n",
    "plt.show()"
   ]
  },
  {
   "cell_type": "markdown",
   "metadata": {},
   "source": [
    "### 4. 시뮬레인션 결과를 가져온다."
   ]
  },
  {
   "cell_type": "code",
   "execution_count": null,
   "metadata": {},
   "outputs": [],
   "source": [
    "I_C_mA_s   = np.array([     ?,       ?,       ?,       ?,       ?,       ? ])\n",
    "V_CE_V_s   = np.array([     ?,       ?,       ?,       ?,       ?,       ? ])"
   ]
  },
  {
   "cell_type": "markdown",
   "metadata": {},
   "source": [
    "### 5. 실험 결과와 시뮬레인션 결과를 비교한다."
   ]
  },
  {
   "cell_type": "code",
   "execution_count": null,
   "metadata": {},
   "outputs": [],
   "source": [
    "plt.xlabel('V_CE_V')\n",
    "plt.ylabel('I_C_mA')\n",
    "plt.axhline(0, color='black')\n",
    "plt.axvline(0, color='black')\n",
    "plt.xlim([-0.5, 10.5])\n",
    "plt.ylim([-0.5, 6])\n",
    "for idx in range(len(R_E_kOhm)):\n",
    "    draw_plot([0, V_CC_V[idx]], [V_CC_V[idx]/(R_C_kOhm + R_E_kOhm[idx]), 0], None, idx, marker_num = 0)\n",
    "    draw_plot(V_CE_V[idx], I_C_mA[idx], '(M: R_E=%1.3fkOhm)' % R_E_kOhm[idx], idx, scatter=True, scatter_s=20)\n",
    "for idx in range(len(R_E_kOhm)):\n",
    "    draw_plot(V_CE_V_s[idx], I_C_mA_s[idx], '(S: R_E=%1.3fkOhm)' % R_E_kOhm[idx], idx+10, scatter=True, scatter_s=20)\n",
    "plt.show()"
   ]
  },
  {
   "cell_type": "markdown",
   "metadata": {},
   "source": [
    "*******************************************************************************\n",
    "## 실험 4-1 결과 분석 (실험 과정 4, 5)\n",
    "\n",
    "### 회로도\n",
    "\n",
    "![Markdown-mark](../experiment/circuit_04_01_01.png)\n",
    "![Markdown-mark](../experiment/circuit_04_01_02.png)"
   ]
  },
  {
   "cell_type": "code",
   "execution_count": null,
   "metadata": {},
   "outputs": [],
   "source": [
    "V_CC_V      = np.array([   -10.0,   -10.0,   -10.0,   -10.0,   -10.0,   -10.0])\n",
    "R_C_kOhm    = 1.8\n",
    "R_E_kOhm    = np.array([     0.2,    0.47,    0.68,     1.0,     1.5,     1.8])\n",
    "\n",
    "I_B_mA      = np.array([ , , , , , ])\n",
    "V_B_V       = np.array([ , , , , , ])\n",
    "V_C_V       = np.array([ , , , , , ])\n",
    "V_E_V       = np.array([ , , , , , ])\n",
    "\n",
    "V_BE_V      = V_B_V - V_E_V\n",
    "V_CE_V      = V_C_V - V_E_V\n",
    "V_CB_V      = V_C_V - V_B_V\n",
    "I_C_mA      = (V_CC_V - V_C_V) / R_C_kOhm\n",
    "Beta_DC     = I_C_mA / I_B_mA\n",
    "\n",
    "print_array('R_E_kOhm', R_E_kOhm)\n",
    "print_array('I_B_mA  ', I_B_mA)\n",
    "print_array('I_C_mA  ', I_C_mA)\n",
    "print_array('Beta_DC ', Beta_DC)\n",
    "print_array('V_BE_V  ', V_BE_V)\n",
    "print_array('V_CE_V  ', V_CE_V)\n",
    "print_array('V_CB_V  ', V_CB_V)"
   ]
  },
  {
   "cell_type": "markdown",
   "metadata": {},
   "source": [
    "### 2. $V_{CE}$ - $I_C$ 그래프를 그린다."
   ]
  },
  {
   "cell_type": "code",
   "execution_count": null,
   "metadata": {},
   "outputs": [],
   "source": [
    "plt.xlabel('V_CE_V')\n",
    "plt.ylabel('I_C_mA')\n",
    "plt.axhline(0, color='black')\n",
    "plt.axvline(0, color='black')\n",
    "plt.xlim([-10.5, 0.5])\n",
    "plt.ylim([-6, 0.5])\n",
    "for idx in range(len(R_E_kOhm)):\n",
    "    draw_plot(V_CE_V[idx], I_C_mA[idx], '(R_E=%1.3fkOhm)' % R_E_kOhm[idx], idx, scatter=True, scatter_s=20)\n",
    "plt.show()"
   ]
  },
  {
   "cell_type": "markdown",
   "metadata": {},
   "source": [
    "### 3. 부하선을 그린다."
   ]
  },
  {
   "cell_type": "code",
   "execution_count": null,
   "metadata": {},
   "outputs": [],
   "source": [
    "plt.xlabel('V_CE_V')\n",
    "plt.ylabel('I_C_mA')\n",
    "plt.axhline(0, color='black')\n",
    "plt.axvline(0, color='black')\n",
    "plt.xlim([-10.5, 0.5])\n",
    "plt.ylim([-6, 0.5])\n",
    "for idx in range(len(R_E_kOhm)):\n",
    "    draw_plot([0, V_CC_V[idx]], [V_CC_V[idx]/(R_C_kOhm + R_E_kOhm[idx]), 0], None, idx, marker_num = 0)\n",
    "    draw_plot(V_CE_V[idx], I_C_mA[idx], '(R_E=%1.3fkOhm)' % R_E_kOhm[idx], idx, scatter=True, scatter_s=20)\n",
    "plt.show()"
   ]
  },
  {
   "cell_type": "markdown",
   "metadata": {},
   "source": [
    "### 4. 시뮬레인션 결과를 가져온다."
   ]
  },
  {
   "cell_type": "code",
   "execution_count": null,
   "metadata": {},
   "outputs": [],
   "source": [
    "I_C_mA_s   = np.array([     ?,      ?,      ?,      ?,      ?,      ?])\n",
    "V_CE_V_s   = np.array([     ?,      ?,      ?,      ?,      ?,      ?])"
   ]
  },
  {
   "cell_type": "markdown",
   "metadata": {},
   "source": [
    "### 5. 실험 결과와 시뮬레인션 결과를 비교한다."
   ]
  },
  {
   "cell_type": "code",
   "execution_count": null,
   "metadata": {},
   "outputs": [],
   "source": [
    "plt.xlabel('V_CE_V')\n",
    "plt.ylabel('I_C_mA')\n",
    "plt.axhline(0, color='black')\n",
    "plt.axvline(0, color='black')\n",
    "plt.xlim([-10.5, 0.5])\n",
    "plt.ylim([-6, 0.5])\n",
    "for idx in range(len(R_E_kOhm)):\n",
    "    draw_plot([0, V_CC_V[idx]], [V_CC_V[idx]/(R_C_kOhm + R_E_kOhm[idx]), 0], None, idx, marker_num = 0)\n",
    "    draw_plot(V_CE_V[idx], I_C_mA[idx], '(M: R_E=%1.3fkOhm)' % R_E_kOhm[idx], idx, scatter=True, scatter_s=20)\n",
    "for idx in range(len(R_E_kOhm)):\n",
    "    draw_plot(V_CE_V_s[idx], I_C_mA_s[idx], '(S: R_E=%1.3fkOhm)' % R_E_kOhm[idx], idx+10, scatter=True, scatter_s=20)\n",
    "plt.show()"
   ]
  }
 ],
 "metadata": {
  "kernelspec": {
   "display_name": "Python 3.10.6 64-bit",
   "language": "python",
   "name": "python3"
  },
  "language_info": {
   "codemirror_mode": {
    "name": "ipython",
    "version": 3
   },
   "file_extension": ".py",
   "mimetype": "text/x-python",
   "name": "python",
   "nbconvert_exporter": "python",
   "pygments_lexer": "ipython3",
   "version": "3.10.12"
  },
  "orig_nbformat": 4,
  "vscode": {
   "interpreter": {
    "hash": "45d5ea1a628b116fc37336f3e2703270bd779ac9277507a8bf46eb41278a50a9"
   }
  }
 },
 "nbformat": 4,
 "nbformat_minor": 2
}
