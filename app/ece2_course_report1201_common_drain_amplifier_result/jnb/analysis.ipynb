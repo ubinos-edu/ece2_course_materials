{
 "cells": [
  {
   "cell_type": "markdown",
   "metadata": {},
   "source": [
    "# 실험 12-01 공통 드레인 증폭기"
   ]
  },
  {
   "cell_type": "markdown",
   "metadata": {},
   "source": [
    "## 공통 코드"
   ]
  },
  {
   "cell_type": "code",
   "execution_count": null,
   "metadata": {},
   "outputs": [],
   "source": [
    "import matplotlib.pyplot as plt\n",
    "import numpy as np\n",
    "import pandas as pd\n",
    "import re\n",
    "from scipy.signal import savgol_filter # 사비츠키-골레이(Savitzky-Golay) 필터\n",
    "from numpy import nan, inf\n",
    "\n",
    "# %matplotlib tk\n",
    "# %matplotlib inline\n",
    "\n",
    "def tangent_line(f, x):\n",
    "    h = 1e-4\n",
    "    d = (f(x+h) - f(x-h)) / (2*h)\n",
    "    return lambda t: d*t - d*x + f(x)\n",
    "\n",
    "def derivative(f, x):\n",
    "    h = 1e-4\n",
    "    d = (f(x+h) - f(x-h)) / (2*h)\n",
    "    return d\n",
    "\n",
    "def get_simulation_result(file_name, start=0, end=-1):\n",
    "    if end == -1:\n",
    "        end = None\n",
    "    else:\n",
    "        end += 1\n",
    "    \n",
    "    with open(file_name, encoding='cp1252') as data_file:\n",
    "        lines = data_file.read()\n",
    "        occurrences = lines.count('Step Information:')\n",
    "        data_file.seek(0)\n",
    "\n",
    "        line = data_file.readline()\n",
    "        labels = re.split(', | ,|\\t', line)\n",
    "        labels = [s.strip().upper() for s in labels]\n",
    "\n",
    "        data = {}\n",
    "\n",
    "        if (occurrences == 0):\n",
    "            for label in labels:\n",
    "                data[label] = []\n",
    "            \n",
    "            for line in data_file:\n",
    "                values = re.split(', | ,|\\t', line)\n",
    "                for i in range(len(values)):\n",
    "                    value = float(values[i]) * 1000\n",
    "                    data[labels[i]].append(value)\n",
    "\n",
    "        else:\n",
    "            labels_all =[]\n",
    "            \n",
    "            lines = data_file.readline() # skip first line starting with 'Step Information:'\n",
    "\n",
    "            for idx in range(occurrences):\n",
    "                labels_new = []\n",
    "                for label in labels:\n",
    "                    labels_new.append('(%s)@%d' % (label, idx+1))\n",
    "                labels_all += labels_new\n",
    "\n",
    "                for label_new in labels_new:\n",
    "                    data[label_new] = []\n",
    "\n",
    "                for line in data_file:\n",
    "                    if (line.startswith('Step Information:')):\n",
    "                        break\n",
    "                    values = re.split(', | ,|\\t', line)\n",
    "                    for i in range(len(values)):\n",
    "                        value = float(values[i]) * 1000\n",
    "                        data[labels_new[i]].append(value)\n",
    "\n",
    "            labels = labels_all\n",
    "\n",
    "        for label in labels:\n",
    "            data[label] = np.array(data[label][start:end])\n",
    "\n",
    "    # print(\"labels = \", end='')\n",
    "    # print(list(data.keys()))\n",
    "    for label in list(data.keys()):\n",
    "        print(\"data['%s'] : sample number = %d\" % (label, len(data[label])))\n",
    "\n",
    "    return data\n",
    "\n",
    "def get_oscilloscpoe_result_tektronix(file_name, start=0, end=-1):\n",
    "    if end == -1:\n",
    "        end = None\n",
    "    else:\n",
    "        end += 1\n",
    "\n",
    "    df = pd.read_csv(file_name, header=None, encoding='cp1252',low_memory=False)\n",
    "\n",
    "    label_ri = df.loc[df.iloc[:,0] == 'Source', 1].index\n",
    "    ci = 0\n",
    "    data = {}\n",
    "    data['TIME'] = df.iloc[start:end, 3].to_numpy().astype(float)\n",
    "    data['TIME'] -= data['TIME'][0]\n",
    "    for idx in range(df.shape[1]//6):\n",
    "        label = df.iloc[label_ri, ci+1].item()\n",
    "        data[label] = df.iloc[start:end,ci+4].to_numpy().astype(float)\n",
    "        ci += 6\n",
    "\n",
    "    # print(\"labels = \", end='')\n",
    "    # print(list(data.keys()))\n",
    "    for label in list(data.keys()):\n",
    "        print(\"data['%s'] : sample number = %d\" % (label, len(data[label])))\n",
    "\n",
    "    return data\n",
    "\n",
    "def print_array(label, values):\n",
    "    print('%s = [' % label, end='')\n",
    "    for idx, vd in enumerate(values):\n",
    "        print('{:11.3f}'.format(vd), end='')\n",
    "        if (idx+1 != len(values)):\n",
    "            print(', ', end='')\n",
    "    print(']')\n",
    "\n",
    "def print_value(label, value):\n",
    "    print('%s = ' % label, end='')\n",
    "    print('{:11.3f}'.format(value))\n",
    "\n",
    "def draw_plot(xs, ys, label, style_idx, marker_num=16, scatter=False, scatter_s=2):\n",
    "    linestyle  = ['-',          '-',            '-',            '-',            '-', \n",
    "                  '-',          '-',            '-',            '-',            '-', \n",
    "                  '-',          '-',            '-',            '-',            '-', \n",
    "                  '-',          '-',            '-',            '-',            '-', \n",
    "                  '-',          '-',            '-',            '-',            '-']\n",
    "    colors     = ['blue',       'green',        'red',          'orange',       'purple',\n",
    "                  'cyan',       'darkseagreen', 'brown',        'goldenrod',    'darkviolet',\n",
    "                  'steelblue',  'limegreen',    'tomato',       'tan',          'deeppink',\n",
    "                  'navy',       'lightgreen',   'indianred',    'khaki',        'rebeccapurple',\n",
    "                  'slategray',  'forestgreen',  'orangered',    'wheat',        'orchid']\n",
    "    markers    = ['o',          'v',            '<',            's',            'p',\n",
    "                  'h',          '*',            'X',            'x',            '^',\n",
    "                  '>',          'P',            'D',            'H',            'd',\n",
    "                  '|',          '-',            '4'             '5',            '6',\n",
    "                  '7',          '8',            '9 ',           '10',           '+']\n",
    "\n",
    "    if isinstance(xs, list):\n",
    "        xs = np.array(xs)\n",
    "    if isinstance(ys, list):\n",
    "        ys = np.array(ys)\n",
    "\n",
    "    if (marker_num == 0):\n",
    "        selected_markevery = None\n",
    "        selected_marker = None\n",
    "    elif not isinstance(xs, np.ndarray):\n",
    "        selected_markevery = None\n",
    "        selected_marker = markers[style_idx]\n",
    "    elif (marker_num > 0):\n",
    "        markeverys = []\n",
    "        if xs[0] > xs[-1]:\n",
    "            first_idx = -1\n",
    "        else:\n",
    "            first_idx = 0\n",
    "        x_step = (xs.max() - xs.min()) / marker_num\n",
    "        for idx in range(len(markers)):\n",
    "            x_start = xs.min() + ((x_step / (len(markers) + 1)) * idx)\n",
    "            marker_list = []\n",
    "            for j in range(marker_num):\n",
    "                tmp_array = np.where(xs > (x_start + (x_step * j)))\n",
    "                if (len(tmp_array[0]) > 0):\n",
    "                    marker_list.append(tmp_array[0][first_idx])\n",
    "            markeverys.append(marker_list)\n",
    "\n",
    "        selected_markevery = markeverys[style_idx]\n",
    "        selected_marker = markers[style_idx]\n",
    "    else:\n",
    "        selected_markevery = None\n",
    "        selected_marker = markers[style_idx]\n",
    "\n",
    "    if (scatter):\n",
    "        plt.scatter(xs, ys, color=colors[style_idx], marker=selected_marker, s=scatter_s, label=label)\n",
    "    else:\n",
    "        plt.plot(xs, ys, ls=linestyle[style_idx], color=colors[style_idx], marker=selected_marker, markevery=selected_markevery, label=label)\n",
    "    if (label != None):\n",
    "        plt.legend(bbox_to_anchor=(1.05, 1), loc='upper left', borderaxespad=0.)\n",
    "\n",
    "def set_plot_size(xrate, yrate):\n",
    "    if (len(set_plot_size.g_plt_figsize) == 0):\n",
    "        set_plot_size.g_plt_figsize = plt.rcParams[\"figure.figsize\"]\n",
    "    size = []\n",
    "    size.append(set_plot_size.g_plt_figsize[0] * xrate)\n",
    "    size.append(set_plot_size.g_plt_figsize[1] * yrate)\n",
    "    plt.figure(figsize=size)\n",
    "\n",
    "set_plot_size.g_plt_figsize = []"
   ]
  },
  {
   "cell_type": "markdown",
   "metadata": {},
   "source": [
    "*******************************************************************************\n",
    "## 실험 1-1 결과 분석 (실험 과정 4)\n",
    "\n",
    "### 회로도\n",
    "\n",
    "* R1 = 500k Ohmn\n",
    "* R2 = 750k Ohm\n",
    "* RS = 0.15k Ohm\n",
    "* C1 = 10u F\n",
    "\n",
    "![Markdown-mark](../experiment/circuit_01_01_01.jpeg)\n",
    "![Markdown-mark](../experiment/circuit_01_01_02.jpeg)"
   ]
  },
  {
   "cell_type": "markdown",
   "metadata": {},
   "source": [
    "### 1. 실험 결과를 가져온다."
   ]
  },
  {
   "cell_type": "code",
   "execution_count": null,
   "metadata": {},
   "outputs": [],
   "source": [
    "V_DD_V      = 12\n",
    "R_S_kOhm    = 0.15\n",
    "V_Tn_V      = 1.990\n",
    "\n",
    "V_GQ_V     = ?\n",
    "V_SQ_V     = ?\n",
    "\n",
    "V_GSQ_V     = V_GQ_V - V_SQ_V\n",
    "V_DSQ_V     = V_DD_V - V_SQ_V\n",
    "\n",
    "I_DQ_mA     = V_SQ_V / R_S_kOhm\n",
    "\n",
    "g_m_mA_V    = (2 * I_DQ_mA) / (V_GSQ_V - V_Tn_V)\n",
    "\n",
    "print_value('V_GQ_V     ', V_GQ_V)\n",
    "print_value('V_SQ_V     ', V_SQ_V)\n",
    "print('')\n",
    "\n",
    "\n",
    "print_value('V_GSQ_V    ', V_GSQ_V)\n",
    "print_value('I_DQ_mA    ', I_DQ_mA)\n",
    "print_value('V_DSQ_V    ', V_DSQ_V)\n",
    "print_value('g_m_mA_V   ', g_m_mA_V)"
   ]
  },
  {
   "cell_type": "markdown",
   "metadata": {},
   "source": [
    "*******************************************************************************\n",
    "## 실험 1-2 결과 분석 (실험 과정 6)\n",
    "\n",
    "## 회로도\n",
    "\n",
    "![Markdown-mark](../experiment/circuit_01_01_01.jpeg)\n",
    "![Markdown-mark](../experiment/circuit_01_02_02.jpeg)"
   ]
  },
  {
   "cell_type": "markdown",
   "metadata": {},
   "source": [
    "### 1. 실험 결과를 가져온다."
   ]
  },
  {
   "cell_type": "code",
   "execution_count": null,
   "metadata": {},
   "outputs": [],
   "source": [
    "data = get_oscilloscpoe_result_tektronix('../experiment/m_01_02_01.csv')"
   ]
  },
  {
   "cell_type": "markdown",
   "metadata": {},
   "source": [
    "### 2. 실험 결과에서 $V_{S}$, $V_{O}$를 가져온다."
   ]
  },
  {
   "cell_type": "code",
   "execution_count": null,
   "metadata": {},
   "outputs": [],
   "source": [
    "TIME_ms_a = data['TIME'] * 1000.\n",
    "V_S_V_a = data['Sample CH1']\n",
    "V_S_V_a = savgol_filter(V_S_V_a, 100, 2)\n",
    "V_O_V_a = data['Sample CH2']\n",
    "V_O_V_a = savgol_filter(V_O_V_a, 100, 2)"
   ]
  },
  {
   "cell_type": "markdown",
   "metadata": {},
   "source": [
    "### 3. $V_{S}$와 $V_{O}$의 그래프를 그린다."
   ]
  },
  {
   "cell_type": "code",
   "execution_count": null,
   "metadata": {},
   "outputs": [],
   "source": [
    "plt.xlabel('TIME_ms')\n",
    "plt.ylabel('V_S_V')\n",
    "plt.axhline(0, color='black')\n",
    "plt.axvline(0, color='black')\n",
    "plt.xlim([-0.2, 2.0])\n",
    "plt.ylim([-1.1, 1.1])\n",
    "draw_plot(TIME_ms_a, V_S_V_a, '(R_S_kOhm=%1.3f)' % R_S_kOhm, 0, marker_num=5)\n",
    "plt.show()"
   ]
  },
  {
   "cell_type": "code",
   "execution_count": null,
   "metadata": {},
   "outputs": [],
   "source": [
    "plt.xlabel('TIME_ms')\n",
    "plt.ylabel('V_O_V')\n",
    "plt.axhline(0, color='black')\n",
    "plt.axvline(0, color='black')\n",
    "plt.xlim([-0.2, 2.0])\n",
    "plt.ylim([V_O_V_a.mean() - 1.1, V_O_V_a.mean() + 1.1])\n",
    "draw_plot(TIME_ms_a, V_O_V_a, '(R_S_kOhm=%1.3f)' % R_S_kOhm, 0, marker_num=5)\n",
    "plt.show()"
   ]
  },
  {
   "cell_type": "markdown",
   "metadata": {},
   "source": [
    "### 4. $V_{S}$와 $V_{O}$의 첨두-첨두 값을 구한다."
   ]
  },
  {
   "cell_type": "code",
   "execution_count": null,
   "metadata": {},
   "outputs": [],
   "source": [
    "V_S_V_pp = V_S_V_a.max() - V_S_V_a.min()\n",
    "V_O_V_pp = V_O_V_a.max() - V_O_V_a.min()\n",
    "\n",
    "print_value('R_S_kOhm       ', R_S_kOhm)\n",
    "print_value('V_S_V_pp       ', V_S_V_pp)\n",
    "print_value('V_O_V_pp       ', V_O_V_pp)"
   ]
  },
  {
   "cell_type": "markdown",
   "metadata": {},
   "source": [
    "### 5. 전압이득 $A_{v}$ 값을 구한다."
   ]
  },
  {
   "cell_type": "code",
   "execution_count": null,
   "metadata": {},
   "outputs": [],
   "source": [
    "A_v_meas = V_O_V_pp / V_S_V_pp\n",
    "\n",
    "print_value('R_S_kOhm       ', R_S_kOhm)\n",
    "print_value('A_v_meas       ', A_v_meas)"
   ]
  },
  {
   "cell_type": "markdown",
   "metadata": {},
   "source": [
    "### 6. 식 (12.2)을 사용하여 전압이득 $A_{v}$ 값을 구한다."
   ]
  },
  {
   "cell_type": "code",
   "execution_count": null,
   "metadata": {},
   "outputs": [],
   "source": [
    "# g_m_mA_V_sim = ?\n",
    "\n",
    "R_S_kOhm = 0.15\n",
    "g_m_mA_V_sim = 159.069\n",
    "\n",
    "A_v_cal = (g_m_mA_V_sim * R_S_kOhm) / (1 + g_m_mA_V_sim * R_S_kOhm)\n",
    "\n",
    "print_value('R_S_kOhm   ', R_S_kOhm)\n",
    "print_value('A_v_cal    ', A_v_cal)"
   ]
  }
 ],
 "metadata": {
  "kernelspec": {
   "display_name": "Python 3.10.6 64-bit",
   "language": "python",
   "name": "python3"
  },
  "language_info": {
   "codemirror_mode": {
    "name": "ipython",
    "version": 3
   },
   "file_extension": ".py",
   "mimetype": "text/x-python",
   "name": "python",
   "nbconvert_exporter": "python",
   "pygments_lexer": "ipython3",
   "version": "3.10.6"
  },
  "orig_nbformat": 4,
  "vscode": {
   "interpreter": {
    "hash": "45d5ea1a628b116fc37336f3e2703270bd779ac9277507a8bf46eb41278a50a9"
   }
  }
 },
 "nbformat": 4,
 "nbformat_minor": 2
}
