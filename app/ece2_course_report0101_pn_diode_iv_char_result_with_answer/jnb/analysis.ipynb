{
 "cells": [
  {
   "cell_type": "markdown",
   "metadata": {},
   "source": [
    "# 실험 01 PN 접합 다이오드 IV 특성"
   ]
  },
  {
   "cell_type": "markdown",
   "metadata": {},
   "source": [
    "*******************************************************************************\n",
    "## 공통 코드"
   ]
  },
  {
   "cell_type": "code",
   "execution_count": null,
   "metadata": {},
   "outputs": [],
   "source": [
    "import matplotlib.pyplot as plt\n",
    "import numpy as np\n",
    "import pandas as pd\n",
    "import re\n",
    "\n",
    "def tangent_line(f, x):\n",
    "    h = 1e-4\n",
    "    d = (f(x+h) - f(x-h)) / (2*h)\n",
    "    return lambda t: d*t - d*x + f(x)\n",
    "\n",
    "def get_simulation_result(file_name, start=0, end=-1):\n",
    "    with open(file_name, encoding='cp1252') as data_file:\n",
    "        lines = data_file.read()\n",
    "        occurrences = lines.count('Step Information:')\n",
    "        data_file.seek(0)\n",
    "\n",
    "        line = data_file.readline()\n",
    "        labels = re.split(', | ,|\\t', line)\n",
    "        labels = [s.strip().upper() for s in labels]\n",
    "\n",
    "        data = {}\n",
    "\n",
    "        if (occurrences == 0):\n",
    "            for label in labels:\n",
    "                data[label] = []\n",
    "            \n",
    "            for line in data_file:\n",
    "                values = re.split(', | ,|\\t', line)\n",
    "                for i in range(len(values)):\n",
    "                    value = float(values[i]) * 1000\n",
    "                    data[labels[i]].append(value)\n",
    "\n",
    "        else:\n",
    "            labels_all =[]\n",
    "            \n",
    "            lines = data_file.readline() # skip first line starting with 'Step Information:'\n",
    "\n",
    "            for idx in range(occurrences):\n",
    "                labels_new = []\n",
    "                for label in labels:\n",
    "                    labels_new.append('(%s)@%d' % (label, idx+1))\n",
    "                labels_all += labels_new\n",
    "\n",
    "                for label_new in labels_new:\n",
    "                    data[label_new] = []\n",
    "\n",
    "                for line in data_file:\n",
    "                    if (line.startswith('Step Information:')):\n",
    "                        break\n",
    "                    values = re.split(', | ,|\\t', line)\n",
    "                    for i in range(len(values)):\n",
    "                        value = float(values[i]) * 1000\n",
    "                        data[labels_new[i]].append(value)\n",
    "\n",
    "            labels = labels_all\n",
    "\n",
    "        for label in labels:\n",
    "            data[label] = np.array(data[label][start:end])\n",
    "\n",
    "    # print(\"labels = \", end='')\n",
    "    # print(list(data.keys()))\n",
    "    for label in list(data.keys()):\n",
    "        print(\"data['%s'] : sample number = %d\" % (label, len(data[label])))\n",
    "\n",
    "    return data\n",
    "\n",
    "def get_oscilloscpoe_result_tektronix(file_name, start=0, end=-1):\n",
    "    df = pd.read_csv(file_name, header=None, encoding='cp1252',low_memory=False)\n",
    "\n",
    "    label_ri = df.loc[df.iloc[:,0] == 'Source', 1].index\n",
    "    ci = 0\n",
    "    data = {}\n",
    "    data['TIME'] = df.iloc[start:end, 3].to_numpy().astype(float)\n",
    "    data['TIME'] -= data['TIME'][0]\n",
    "    for idx in range(df.shape[1]//6):\n",
    "        label = df.iloc[label_ri, ci+1].item()\n",
    "        data[label] = df.iloc[start:end,ci+4].to_numpy().astype(float)\n",
    "        ci += 6\n",
    "\n",
    "    # print(\"labels = \", end='')\n",
    "    # print(list(data.keys()))\n",
    "    for label in list(data.keys()):\n",
    "        print(\"data['%s'] : sample number = %d\" % (label, len(data[label])))\n",
    "\n",
    "    return data\n",
    "\n",
    "def print_array(label, values):\n",
    "    print('%s = [' % label, end='')\n",
    "    for idx, vd in enumerate(values):\n",
    "        print('{:7.3f}'.format(vd), end='')\n",
    "        if (idx+1 != len(values)):\n",
    "            print(', ', end='')\n",
    "    print(']')\n",
    "\n",
    "def print_value(label, value):\n",
    "    print('%s = ' % label, end='')\n",
    "    print('{:7.3f}'.format(value))\n",
    "\n",
    "def draw_plot(xs, ys, label, style_idx, marker_num=16):\n",
    "    linestyle  = ['-', '-', '-', '-', '-', '-', '-', '-']\n",
    "    colors     = ['b', 'g', 'r', 'c', 'm', 'y', 'k', 'w']\n",
    "    markers    = ['o', 'v', 's', 'p', '*', 'h', 'x', 'd']\n",
    "\n",
    "    markeverys = []\n",
    "    x_step = (xs.max() - xs.min()) / marker_num\n",
    "    for idx in range(len(markers)):\n",
    "        x_start = xs.min() + ((x_step / (len(markers) + 1)) * idx)\n",
    "        marker_list = []\n",
    "        for j in range(marker_num):\n",
    "            tmp_array = np.where(xs > (x_start + (x_step * j)))\n",
    "            if (len(tmp_array[0]) > 0):\n",
    "                marker_list.append(tmp_array[0][0])\n",
    "        markeverys.append(marker_list)\n",
    "\n",
    "    plt.plot(xs, ys, ls=linestyle[style_idx], color=colors[style_idx], marker=markers[style_idx], markevery=markeverys[style_idx], label=label)\n",
    "    plt.legend(bbox_to_anchor=(1.05, 1), loc='upper left', borderaxespad=0.)\n",
    "\n",
    "def set_plot_size(xrate, yrate):\n",
    "    if (len(set_plot_size.g_plt_figsize) == 0):\n",
    "        set_plot_size.g_plt_figsize = plt.rcParams[\"figure.figsize\"]\n",
    "    size = []\n",
    "    size.append(set_plot_size.g_plt_figsize[0] * xrate)\n",
    "    size.append(set_plot_size.g_plt_figsize[1] * yrate)\n",
    "    plt.figure(figsize=size)\n",
    "\n",
    "set_plot_size.g_plt_figsize = []"
   ]
  },
  {
   "cell_type": "markdown",
   "metadata": {},
   "source": [
    "*******************************************************************************\n",
    "## 실험 결과 분석 (시험 과정 4)"
   ]
  },
  {
   "cell_type": "markdown",
   "metadata": {},
   "source": [
    "### 회로도\n",
    "\n",
    "* 사용한 소자\n",
    "    + resistor: 100 Ohm\n",
    "    + diode: D1N4004\n",
    "\n",
    "![Markdown-mark](../experiment/circuit.jpeg)"
   ]
  },
  {
   "cell_type": "markdown",
   "metadata": {},
   "source": [
    "### 1. 실험을 통해 다이오드, D1에 흐르는 전류값을 구한다."
   ]
  },
  {
   "cell_type": "markdown",
   "metadata": {},
   "source": [
    "다이오드, D1에 다음 전압이 걸릴 때 저항, R1에 걸리는 전압을 측정한다.\n",
    "* 0, 100, 200, 300, 400, 500, 550, 600, 650, 700 mV\n",
    "\n",
    "실험 장비 해상도의 한계로 정확한 값의 전압을 걸 수 없을 경우 근사값 걸고 그 값을 기록한다."
   ]
  },
  {
   "cell_type": "code",
   "execution_count": null,
   "metadata": {},
   "outputs": [],
   "source": [
    "V_D_mV = [  0.000, 108.000, 200.000, 302.000, 405.000, 504.000, 552.000, 603.000, 651.000,  701.000]\n",
    "V_R_mV = [  0.000,   0.000,   0.000,   0.000,   0.000,  10.000,  50.000, 140.000, 400.000, 1180.000]"
   ]
  },
  {
   "cell_type": "markdown",
   "metadata": {},
   "source": [
    "저항 R1의 크기와, 걸리는 전압값을 사용해 다이오드, D1에 흐르는 전류값을 계산한다."
   ]
  },
  {
   "cell_type": "code",
   "execution_count": null,
   "metadata": {},
   "outputs": [],
   "source": [
    "R1_ohm = 100\n",
    "\n",
    "V_D_mV = np.array(V_D_mV)\n",
    "V_R_mV = np.array(V_R_mV)\n",
    "\n",
    "I_D_mA = V_R_mV / R1_ohm\n",
    "print_array('I_D_mA', I_D_mA)"
   ]
  },
  {
   "cell_type": "markdown",
   "metadata": {},
   "source": [
    "### 2. 실험 결과에서 다이오드, D1에 걸리는 전압과 전류를 가져온다."
   ]
  },
  {
   "cell_type": "code",
   "execution_count": null,
   "metadata": {},
   "outputs": [],
   "source": [
    "vds = V_D_mV\n",
    "ids = I_D_mA"
   ]
  },
  {
   "cell_type": "markdown",
   "metadata": {},
   "source": [
    "### 3. 다이오드의 I<sub>D</sub>-V<sub>D</sub> 특성 곡선을 그린다."
   ]
  },
  {
   "cell_type": "markdown",
   "metadata": {},
   "source": [
    "다이오드, D1에 걸리는 전압을 x축, 전류를 y축으로 하는 그래프를 그린다.\n",
    "\n",
    "이 그래프가 다이오드의 I<sub>D</sub>-V<sub>D</sub> 특성 곡선이다."
   ]
  },
  {
   "cell_type": "code",
   "execution_count": null,
   "metadata": {},
   "outputs": [],
   "source": [
    "plt.xlabel('V_D_mV')\n",
    "plt.ylabel('I_D_mA')\n",
    "plt.axhline(0, color='black')\n",
    "plt.axvline(0, color='black')\n",
    "plt.plot(vds, ids, 'b.-')\n",
    "plt.show()"
   ]
  },
  {
   "cell_type": "markdown",
   "metadata": {},
   "source": [
    "### 4. 다이오드, D1의 cut-in 전압 근사값을 구한다."
   ]
  },
  {
   "cell_type": "markdown",
   "metadata": {},
   "source": [
    "다이오드, D1에 걸리는 전압이 699 mV 지점에 접선을 그린다."
   ]
  },
  {
   "cell_type": "code",
   "execution_count": null,
   "metadata": {},
   "outputs": [],
   "source": [
    "fx = lambda x: np.interp(x, vds, ids)\n",
    "\n",
    "tf = tangent_line(fx, 699)\n",
    "tx = np.arange(600.0, 800.0, 10)\n",
    "ty = tf(tx)\n",
    "\n",
    "plt.xlabel('V_D_mV')\n",
    "plt.ylabel('I_D_mA')\n",
    "plt.axhline(0, color='black')\n",
    "plt.axvline(0, color='black')\n",
    "plt.plot(vds, ids, 'b.-')\n",
    "plt.plot(tx, ty, 'g-')\n",
    "plt.show()"
   ]
  },
  {
   "cell_type": "markdown",
   "metadata": {},
   "source": [
    "접선과 x축이 만나는 지점의 x 값을 구한다.\n",
    "\n",
    "이 값이 다이오드, D1의 cut-in 전압 근사값이다."
   ]
  },
  {
   "cell_type": "code",
   "execution_count": null,
   "metadata": {},
   "outputs": [],
   "source": [
    "V_cut_in_mV = np.interp(0.0, ty, tx)\n",
    "print_value(\"V_cut_in_mV\", V_cut_in_mV)"
   ]
  }
 ],
 "metadata": {
  "kernelspec": {
   "display_name": "Python 3.10.6 64-bit",
   "language": "python",
   "name": "python3"
  },
  "language_info": {
   "codemirror_mode": {
    "name": "ipython",
    "version": 3
   },
   "file_extension": ".py",
   "mimetype": "text/x-python",
   "name": "python",
   "nbconvert_exporter": "python",
   "pygments_lexer": "ipython3",
   "version": "3.10.6"
  },
  "orig_nbformat": 4,
  "vscode": {
   "interpreter": {
    "hash": "45d5ea1a628b116fc37336f3e2703270bd779ac9277507a8bf46eb41278a50a9"
   }
  }
 },
 "nbformat": 4,
 "nbformat_minor": 2
}
