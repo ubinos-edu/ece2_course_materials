{
 "cells": [
  {
   "cell_type": "markdown",
   "metadata": {},
   "source": [
    "# 실험 03-01 다이오드 리미터 회로 실험"
   ]
  },
  {
   "cell_type": "markdown",
   "metadata": {},
   "source": [
    "*******************************************************************************\n",
    "## 공통 코드"
   ]
  },
  {
   "cell_type": "code",
   "execution_count": null,
   "metadata": {},
   "outputs": [],
   "source": [
    "import matplotlib.pyplot as plt\n",
    "import numpy as np\n",
    "import pandas as pd\n",
    "import re\n",
    "import io\n",
    "from scipy.signal import savgol_filter # 사비츠키-골레이(Savitzky-Golay) 필터\n",
    "from numpy import nan, inf\n",
    "\n",
    "# %matplotlib tk\n",
    "# %matplotlib inline\n",
    "\n",
    "def tangent_line(f, x):\n",
    "    h = 1e-4\n",
    "    d = (f(x+h) - f(x-h)) / (2*h)\n",
    "    return lambda t: d*t - d*x + f(x)\n",
    "\n",
    "def derivative(f, x):\n",
    "    h = 1e-4\n",
    "    d = (f(x+h) - f(x-h)) / (2*h)\n",
    "    return d\n",
    "\n",
    "def get_simulation_result(file_name, start=0, end=-1):\n",
    "    if end == -1:\n",
    "        end = None\n",
    "    else:\n",
    "        end += 1\n",
    "    \n",
    "    with open(file_name, encoding='cp1252') as data_file:\n",
    "        lines = data_file.read()\n",
    "        occurrences = lines.count('Step Information:')\n",
    "        data_file.seek(0)\n",
    "\n",
    "        line = data_file.readline()\n",
    "        labels = re.split(', | ,|\\t', line)\n",
    "        labels = [s.strip().upper() for s in labels]\n",
    "\n",
    "        data = {}\n",
    "\n",
    "        if (occurrences == 0):\n",
    "            for label in labels:\n",
    "                data[label] = []\n",
    "            \n",
    "            for line in data_file:\n",
    "                values = re.split(', | ,|\\t', line)\n",
    "                for i in range(len(values)):\n",
    "                    value = float(values[i]) * 1000\n",
    "                    data[labels[i]].append(value)\n",
    "\n",
    "        else:\n",
    "            labels_all =[]\n",
    "            \n",
    "            lines = data_file.readline() # skip first line starting with 'Step Information:'\n",
    "\n",
    "            for idx in range(occurrences):\n",
    "                labels_new = []\n",
    "                for label in labels:\n",
    "                    labels_new.append('(%s)@%d' % (label, idx+1))\n",
    "                labels_all += labels_new\n",
    "\n",
    "                for label_new in labels_new:\n",
    "                    data[label_new] = []\n",
    "\n",
    "                for line in data_file:\n",
    "                    if (line.startswith('Step Information:')):\n",
    "                        break\n",
    "                    values = re.split(', | ,|\\t', line)\n",
    "                    for i in range(len(values)):\n",
    "                        value = float(values[i]) * 1000\n",
    "                        data[labels_new[i]].append(value)\n",
    "\n",
    "            labels = labels_all\n",
    "\n",
    "        for label in labels:\n",
    "            data[label] = np.array(data[label][start:end])\n",
    "\n",
    "    # print(\"labels = \", end='')\n",
    "    # print(list(data.keys()))\n",
    "    for label in list(data.keys()):\n",
    "        print(\"data['%s'] : sample number = %d\" % (label, len(data[label])))\n",
    "\n",
    "    return data\n",
    "\n",
    "def get_oscilloscpoe_result_tektronix(file_name, start=0, end=-1):\n",
    "    if end == -1:\n",
    "        end = None\n",
    "    else:\n",
    "        end += 1\n",
    "\n",
    "    df = pd.read_csv(file_name, header=None, encoding='cp1252',low_memory=False)\n",
    "\n",
    "    label_ri = df.loc[df.iloc[:,0] == 'Source', 1].index\n",
    "    ci = 0\n",
    "    data = {}\n",
    "    data['TIME'] = df.iloc[start:end, 3].to_numpy().astype(float)\n",
    "    data['TIME'] -= data['TIME'][0]\n",
    "    for idx in range(df.shape[1]//6):\n",
    "        label = df.iloc[label_ri, ci+1].item()\n",
    "        data[label] = df.iloc[start:end,ci+4].to_numpy().astype(float)\n",
    "        ci += 6\n",
    "\n",
    "    # print(\"labels = \", end='')\n",
    "    # print(list(data.keys()))\n",
    "    for label in list(data.keys()):\n",
    "        print(\"data['%s'] : sample number = %d\" % (label, len(data[label])))\n",
    "\n",
    "    return data\n",
    "\n",
    "def print_array(label, values):\n",
    "    print('%s = [' % label, end='')\n",
    "    for idx, vd in enumerate(values):\n",
    "        print('{:11.3f}'.format(vd), end='')\n",
    "        if (idx+1 != len(values)):\n",
    "            print(', ', end='')\n",
    "    print(']')\n",
    "\n",
    "def print_value(label, value):\n",
    "    print('%s = ' % label, end='')\n",
    "    print('{:11.3f}'.format(value))\n",
    "\n",
    "def print_value_to_string(label, value):\n",
    "    output = io.StringIO()\n",
    "    print('%s = ' % label, end='', file=output)\n",
    "    print('{:11.3f}'.format(value), file=output)\n",
    "    captured = output.getvalue()\n",
    "    return captured\n",
    "\n",
    "def draw_plot(xs, ys, label, style_idx, color_idx=-1, marker_num=16, scatter=False, scatter_s=2):\n",
    "    linestyle  = ['-',          '-',            '-',            '-',            '-', \n",
    "                  '-',          '-',            '-',            '-',            '-', \n",
    "                  '-',          '-',            '-',            '-',            '-', \n",
    "                  '-',          '-',            '-',            '-',            '-', \n",
    "                  '-',          '-',            '-',            '-',            '-']\n",
    "    colors     = ['blue',       'green',        'red',          'orange',       'purple',\n",
    "                  'cyan',       'darkseagreen', 'brown',        'goldenrod',    'darkviolet',\n",
    "                  'steelblue',  'limegreen',    'tomato',       'tan',          'deeppink',\n",
    "                  'navy',       'lightgreen',   'indianred',    'khaki',        'rebeccapurple',\n",
    "                  'slategray',  'forestgreen',  'orangered',    'wheat',        'orchid']\n",
    "    markers    = ['o',          'v',            '<',            's',            'p',\n",
    "                  'h',          '*',            'X',            'x',            '^',\n",
    "                  '>',          'P',            'D',            'H',            'd',\n",
    "                  '|',          '-',            '4'             '5',            '6',\n",
    "                  '7',          '8',            '9 ',           '10',           '+']\n",
    "\n",
    "    if color_idx < 0:\n",
    "        color_idx = style_idx\n",
    "\n",
    "    if isinstance(xs, list):\n",
    "        xs = np.array(xs)\n",
    "    if isinstance(ys, list):\n",
    "        ys = np.array(ys)\n",
    "\n",
    "    if (marker_num == 0):\n",
    "        selected_markevery = None\n",
    "        selected_marker = None\n",
    "    elif not isinstance(xs, np.ndarray):\n",
    "        selected_markevery = None\n",
    "        selected_marker = markers[style_idx]\n",
    "    elif (marker_num > 0):\n",
    "        markeverys = []\n",
    "        if xs[0] > xs[-1]:\n",
    "            first_idx = -1\n",
    "        else:\n",
    "            first_idx = 0\n",
    "        x_step = (xs.max() - xs.min()) / marker_num\n",
    "        for idx in range(len(markers)):\n",
    "            x_start = xs.min() + ((x_step / (len(markers) + 1)) * idx)\n",
    "            marker_list = []\n",
    "            for j in range(marker_num):\n",
    "                tmp_array = np.where(xs > (x_start + (x_step * j)))\n",
    "                if (len(tmp_array[0]) > 0):\n",
    "                    marker_list.append(tmp_array[0][first_idx])\n",
    "            markeverys.append(marker_list)\n",
    "\n",
    "        selected_markevery = markeverys[style_idx]\n",
    "        selected_marker = markers[style_idx]\n",
    "    else:\n",
    "        selected_markevery = None\n",
    "        selected_marker = markers[style_idx]\n",
    "\n",
    "    if (scatter):\n",
    "        plt.scatter(xs, ys, color=colors[color_idx], marker=selected_marker, s=scatter_s, label=label)\n",
    "    else:\n",
    "        plt.plot(xs, ys, ls=linestyle[style_idx], color=colors[color_idx], marker=selected_marker, markevery=selected_markevery, label=label)\n",
    "    if (label != None):\n",
    "        plt.legend(bbox_to_anchor=(1.05, 1), loc='upper left', borderaxespad=0.)\n",
    "\n",
    "def set_plot_size(xrate, yrate):\n",
    "    if (len(set_plot_size.g_plt_figsize) == 0):\n",
    "        set_plot_size.g_plt_figsize = plt.rcParams[\"figure.figsize\"]\n",
    "    size = []\n",
    "    size.append(set_plot_size.g_plt_figsize[0] * xrate)\n",
    "    size.append(set_plot_size.g_plt_figsize[1] * yrate)\n",
    "    plt.figure(figsize=size)\n",
    "\n",
    "set_plot_size.g_plt_figsize = []"
   ]
  },
  {
   "cell_type": "markdown",
   "metadata": {},
   "source": [
    "*******************************************************************************\n",
    "## 실험 1-1 결과 분석 (실험 과정 5, 6)"
   ]
  },
  {
   "cell_type": "markdown",
   "metadata": {},
   "source": [
    "### 회로도\n",
    "\n",
    "* 병렬형 양 리미터 \n",
    "\n",
    "* 사용한 소자\n",
    "    + resistor: 1 kOhm\n",
    "    + diode: D1N4004\n",
    "\n",
    "![Markdown-mark](../experiment/circuit_01_01_01.jpeg)\n",
    "![Markdown-mark](../experiment/circuit_01_01_02.jpeg)"
   ]
  },
  {
   "cell_type": "markdown",
   "metadata": {},
   "source": [
    "<!-- ![Markdown-mark](../experiment/m_01_01.png) -->\n",
    "<!-- ![Markdown-mark](../experiment/m_01_02.png) -->\n",
    "<!-- ![Markdown-mark](../experiment/m_01_03.png) -->"
   ]
  },
  {
   "cell_type": "markdown",
   "metadata": {},
   "source": [
    "### 1. 실험 결과 파일을 읽는다."
   ]
  },
  {
   "cell_type": "code",
   "execution_count": null,
   "metadata": {},
   "outputs": [],
   "source": [
    "data = []\n",
    "\n",
    "data.append(get_oscilloscpoe_result_tektronix('../experiment/m_01_01_01.csv'))\n",
    "data.append(get_oscilloscpoe_result_tektronix('../experiment/m_01_01_02.csv'))\n",
    "data.append(get_oscilloscpoe_result_tektronix('../experiment/m_01_01_03.csv'))\n",
    "data.append(get_oscilloscpoe_result_tektronix('../experiment/m_01_01_04.csv'))\n",
    "data.append(get_oscilloscpoe_result_tektronix('../experiment/m_01_01_05.csv'))"
   ]
  },
  {
   "cell_type": "markdown",
   "metadata": {},
   "source": [
    "### 2. 실험 결과에서 시간, 입력 전압, 출력 전압을 가져온다.\n",
    "\n",
    "측정치를 가져올 때 1000을 곱해 단위를 밀리로 변환한다."
   ]
  },
  {
   "cell_type": "code",
   "execution_count": null,
   "metadata": {},
   "outputs": [],
   "source": [
    "times = []\n",
    "vss = []\n",
    "vos = []\n",
    "labels = ['1V', '2V', '3V', '4V', '5V']\n",
    "\n",
    "for idx in range(len(labels)):\n",
    "    times.append(data[idx]['TIME'] * 1000)\n",
    "    vss.append(data[idx]['Sample CH1'] * 1000)\n",
    "    vos.append(data[idx]['Sample CH2'] * 1000)\n",
    "    vss[-1] = savgol_filter(vss[-1], 200, 2)\n",
    "    vos[-1] = savgol_filter(vos[-1], 200, 2)\n"
   ]
  },
  {
   "cell_type": "markdown",
   "metadata": {},
   "source": [
    "### 3. 시간을 x축, 전압들을 y축으로 하는 그래프를 그린다."
   ]
  },
  {
   "cell_type": "code",
   "execution_count": null,
   "metadata": {},
   "outputs": [],
   "source": [
    "plt.xlabel('TIME_ms')\n",
    "plt.ylabel('V_mV')\n",
    "plt.axhline(0, color='black')\n",
    "plt.axvline(0, color='black')\n",
    "plt.xlim(-0.4, 4)\n",
    "plt.ylim(-6000, 6000)\n",
    "for idx in range(len(labels)):\n",
    "    draw_plot(times[idx], vss[idx], 'VB=%s V(VS)' % labels[idx], idx, color_idx=0)\n",
    "for idx in range(len(labels)):\n",
    "    draw_plot(times[idx], vos[idx], 'VB=%s V(VO)' % labels[idx], idx, color_idx=1)\n",
    "plt.show()"
   ]
  },
  {
   "cell_type": "code",
   "execution_count": null,
   "metadata": {},
   "outputs": [],
   "source": [
    "plt.xlabel('TIME_ms')\n",
    "plt.ylabel('V_mV')\n",
    "plt.axhline(0, color='black')\n",
    "plt.axvline(0, color='black')\n",
    "plt.xlim(0.9, 2.1)\n",
    "plt.ylim(-6000, 6000)\n",
    "for idx in range(len(labels)):\n",
    "    draw_plot(times[idx], vss[idx], 'VB=%s V(VS)' % labels[idx], idx, color_idx=0)\n",
    "for idx in range(len(labels)):\n",
    "    draw_plot(times[idx], vos[idx], 'VB=%s V(VO)' % labels[idx], idx, color_idx=1)\n",
    "plt.show()"
   ]
  },
  {
   "cell_type": "code",
   "execution_count": null,
   "metadata": {},
   "outputs": [],
   "source": [
    "idx = 0\n",
    "\n",
    "plt.xlabel('TIME_ms')\n",
    "plt.ylabel('V_mV')\n",
    "plt.axhline(0, color='black')\n",
    "plt.axvline(0, color='black')\n",
    "plt.xlim(0.9, 2.1)\n",
    "plt.ylim(-6000, 6000)\n",
    "draw_plot(times[idx], vss[idx], 'VB=%s V(VS)' % labels[idx], 0)\n",
    "draw_plot(times[idx], vos[idx], 'VB=%s V(VO)' % labels[idx], 1)\n",
    "plt.show()"
   ]
  },
  {
   "cell_type": "code",
   "execution_count": null,
   "metadata": {},
   "outputs": [],
   "source": [
    "idx = 4\n",
    "\n",
    "plt.xlabel('TIME_ms')\n",
    "plt.ylabel('V_mV')\n",
    "plt.axhline(0, color='black')\n",
    "plt.axvline(0, color='black')\n",
    "plt.xlim(0.9, 2.1)\n",
    "plt.ylim(-6000, 6000)\n",
    "draw_plot(times[idx], vss[idx], 'VB=%s V(VS)' % labels[idx], 0)\n",
    "draw_plot(times[idx], vos[idx], 'VB=%s V(VO)' % labels[idx], 1)\n",
    "plt.show()"
   ]
  },
  {
   "cell_type": "markdown",
   "metadata": {},
   "source": [
    "### 4. 출력 전압의 리미팅 레벨을 구한다."
   ]
  },
  {
   "cell_type": "code",
   "execution_count": null,
   "metadata": {},
   "outputs": [],
   "source": [
    "V_OUT_limit_mV = []\n",
    "\n",
    "for idx in range(len(labels)):\n",
    "    V_OUT_limit_mV.append(vos[idx].max())\n",
    "\n",
    "print(\"VB = \", end='')\n",
    "print(labels)\n",
    "print_array(\"V_OUT_limit_mV\", V_OUT_limit_mV)"
   ]
  },
  {
   "cell_type": "markdown",
   "metadata": {},
   "source": [
    "### 5. 입력 전압을 x축, 출력 전압 y축으로 하는 입출력 전달 특성 그래프를 그린다."
   ]
  },
  {
   "cell_type": "code",
   "execution_count": null,
   "metadata": {},
   "outputs": [],
   "source": [
    "plt.xlabel('VS_mV')\n",
    "plt.ylabel('VO_mV')\n",
    "plt.axhline(0, color='black')\n",
    "plt.axvline(0, color='black')\n",
    "plt.xlim(-5500, 5500)\n",
    "plt.ylim(-5500, 5500)\n",
    "for idx in range(len(labels)):\n",
    "    draw_plot(vss[idx], vos[idx], 'VB=%s' % labels[idx], idx, scatter=True)\n",
    "plt.show()"
   ]
  },
  {
   "cell_type": "markdown",
   "metadata": {},
   "source": [
    "*******************************************************************************\n",
    "## 실험 1-2 결과 분석 (실험 과정 7)"
   ]
  },
  {
   "cell_type": "markdown",
   "metadata": {},
   "source": [
    "### 회로도\n",
    "\n",
    "* 병렬형 음 리미터 \n",
    "\n",
    "* 사용한 소자\n",
    "    + resistor: 1 kOhm\n",
    "    + diode: D1N4004\n",
    "\n",
    "![Markdown-mark](../experiment/circuit_01_02_01.jpeg)\n",
    "![Markdown-mark](../experiment/circuit_01_02_02.jpeg)"
   ]
  },
  {
   "cell_type": "markdown",
   "metadata": {},
   "source": [
    "### 1. 실험 결과 파일을 읽는다."
   ]
  },
  {
   "cell_type": "code",
   "execution_count": null,
   "metadata": {},
   "outputs": [],
   "source": [
    "data = []\n",
    "\n",
    "data.append(get_oscilloscpoe_result_tektronix('../experiment/m_01_02_01.csv'))\n",
    "data.append(get_oscilloscpoe_result_tektronix('../experiment/m_01_02_02.csv'))\n",
    "data.append(get_oscilloscpoe_result_tektronix('../experiment/m_01_02_03.csv'))\n",
    "data.append(get_oscilloscpoe_result_tektronix('../experiment/m_01_02_04.csv'))\n",
    "data.append(get_oscilloscpoe_result_tektronix('../experiment/m_01_02_05.csv'))"
   ]
  },
  {
   "cell_type": "markdown",
   "metadata": {},
   "source": [
    "### 2. 실험 결과에서 시간, 입력 전압, 출력 전압을 가져온다.\n",
    "\n",
    "측정치를 가져올 때 1000을 곱해 단위를 밀리로 변환한다."
   ]
  },
  {
   "cell_type": "code",
   "execution_count": null,
   "metadata": {},
   "outputs": [],
   "source": [
    "times = []\n",
    "vss = []\n",
    "vos = []\n",
    "labels = ['1V', '2V', '3V', '4V', '5V']\n",
    "\n",
    "for idx in range(len(labels)):\n",
    "    times.append(data[idx]['TIME'] * 1000)\n",
    "    vss.append(data[idx]['Sample CH1'] * 1000)\n",
    "    vos.append(data[idx]['Sample CH2'] * 1000)\n",
    "    vss[-1] = savgol_filter(vss[-1], 200, 2)\n",
    "    vos[-1] = savgol_filter(vos[-1], 200, 2)\n"
   ]
  },
  {
   "cell_type": "markdown",
   "metadata": {},
   "source": [
    "### 3. 시간을 x축, 전압들을 y축으로 하는 그래프를 그린다."
   ]
  },
  {
   "cell_type": "code",
   "execution_count": null,
   "metadata": {},
   "outputs": [],
   "source": [
    "plt.xlabel('TIME_ms')\n",
    "plt.ylabel('V_mV')\n",
    "plt.axhline(0, color='black')\n",
    "plt.axvline(0, color='black')\n",
    "plt.xlim(-0.4, 4)\n",
    "plt.ylim(-6000, 6000)\n",
    "for idx in range(len(labels)):\n",
    "    draw_plot(times[idx], vss[idx], 'VB=%s V(VS)' % labels[idx], idx, color_idx=0)\n",
    "for idx in range(len(labels)):\n",
    "    draw_plot(times[idx], vos[idx], 'VB=%s V(VO)' % labels[idx], idx, color_idx=1)\n",
    "plt.show()"
   ]
  },
  {
   "cell_type": "code",
   "execution_count": null,
   "metadata": {},
   "outputs": [],
   "source": [
    "plt.xlabel('TIME_ms')\n",
    "plt.ylabel('V_mV')\n",
    "plt.axhline(0, color='black')\n",
    "plt.axvline(0, color='black')\n",
    "plt.xlim(0.9, 2.1)\n",
    "plt.ylim(-6000, 6000)\n",
    "for idx in range(len(labels)):\n",
    "    draw_plot(times[idx], vss[idx], 'VB=%s V(VS)' % labels[idx], idx, color_idx=0)\n",
    "for idx in range(len(labels)):\n",
    "    draw_plot(times[idx], vos[idx], 'VB=%s V(VO)' % labels[idx], idx, color_idx=1)\n",
    "plt.show()"
   ]
  },
  {
   "cell_type": "code",
   "execution_count": null,
   "metadata": {},
   "outputs": [],
   "source": [
    "idx = 0\n",
    "\n",
    "plt.xlabel('TIME_ms')\n",
    "plt.ylabel('V_mV')\n",
    "plt.axhline(0, color='black')\n",
    "plt.axvline(0, color='black')\n",
    "plt.xlim(0.9, 2.1)\n",
    "plt.ylim(-6000, 6000)\n",
    "draw_plot(times[idx], vss[idx], 'VB=%s V(VS)' % labels[idx], 0)\n",
    "draw_plot(times[idx], vos[idx], 'VB=%s V(VO)' % labels[idx], 1)\n",
    "plt.show()"
   ]
  },
  {
   "cell_type": "markdown",
   "metadata": {},
   "source": [
    "### 4. 출력 전압의 리미팅 레벨을 구한다."
   ]
  },
  {
   "cell_type": "code",
   "execution_count": null,
   "metadata": {},
   "outputs": [],
   "source": [
    "V_OUT_limit_mV = []\n",
    "\n",
    "for idx in range(len(labels)):\n",
    "    V_OUT_limit_mV.append(vos[idx].min())\n",
    "\n",
    "print(\"VB = \", end='')\n",
    "print(labels)\n",
    "print_array(\"V_OUT_limit_mV\", V_OUT_limit_mV)"
   ]
  },
  {
   "cell_type": "markdown",
   "metadata": {},
   "source": [
    "### 5. 입력 전압을 x축, 출력 전압 y축으로 하는 입출력 전달 특성 그래프를 그린다."
   ]
  },
  {
   "cell_type": "code",
   "execution_count": null,
   "metadata": {},
   "outputs": [],
   "source": [
    "plt.xlabel('VS_mV')\n",
    "plt.ylabel('VO_mV')\n",
    "plt.axhline(0, color='black')\n",
    "plt.axvline(0, color='black')\n",
    "plt.xlim(-5500, 5500)\n",
    "plt.ylim(-5500, 5500)\n",
    "for idx in range(len(labels)):\n",
    "    draw_plot(vss[idx], vos[idx], 'VB=%s' % labels[idx], idx, scatter=True)\n",
    "plt.show()"
   ]
  },
  {
   "cell_type": "markdown",
   "metadata": {},
   "source": [
    "*******************************************************************************\n",
    "## 실험 2-1 결과 분석 (실험 과정 5, 6)"
   ]
  },
  {
   "cell_type": "markdown",
   "metadata": {},
   "source": [
    "### 회로도\n",
    "\n",
    "* 직렬형 양 리미터 \n",
    "\n",
    "* 사용한 소자\n",
    "    + resistor: 1 kOhm\n",
    "    + diode: D1N4004\n",
    "\n",
    "![Markdown-mark](../experiment/circuit_02_01_01.jpeg)\n",
    "![Markdown-mark](../experiment/circuit_02_01_02.jpeg)"
   ]
  },
  {
   "cell_type": "markdown",
   "metadata": {},
   "source": [
    "### 1. 실험 결과 파일을 읽는다."
   ]
  },
  {
   "cell_type": "code",
   "execution_count": null,
   "metadata": {},
   "outputs": [],
   "source": [
    "data = []\n",
    "\n",
    "data.append(get_oscilloscpoe_result_tektronix('../experiment/m_02_01_01.csv'))\n",
    "data.append(get_oscilloscpoe_result_tektronix('../experiment/m_02_01_02.csv'))\n",
    "data.append(get_oscilloscpoe_result_tektronix('../experiment/m_02_01_03.csv'))\n",
    "data.append(get_oscilloscpoe_result_tektronix('../experiment/m_02_01_04.csv'))\n",
    "data.append(get_oscilloscpoe_result_tektronix('../experiment/m_02_01_05.csv'))"
   ]
  },
  {
   "cell_type": "markdown",
   "metadata": {},
   "source": [
    "### 2. 실험 결과에서 시간, 입력 전압, 출력 전압을 가져온다.\n",
    "\n",
    "측정치를 가져올 때 1000을 곱해 단위를 밀리로 변환한다."
   ]
  },
  {
   "cell_type": "code",
   "execution_count": null,
   "metadata": {},
   "outputs": [],
   "source": [
    "times = []\n",
    "vss = []\n",
    "vos = []\n",
    "labels = ['1V', '2V', '3V', '4V', '5V']\n",
    "\n",
    "for idx in range(len(labels)):\n",
    "    times.append(data[idx]['TIME'] * 1000)\n",
    "    vss.append(data[idx]['Sample CH1'] * 1000)\n",
    "    vos.append(data[idx]['Sample CH2'] * 1000)\n",
    "    vss[-1] = savgol_filter(vss[-1], 200, 2)\n",
    "    vos[-1] = savgol_filter(vos[-1], 200, 2)\n"
   ]
  },
  {
   "cell_type": "markdown",
   "metadata": {},
   "source": [
    "### 3. 시간을 x축, 전압들을 y축으로 하는 그래프를 그린다."
   ]
  },
  {
   "cell_type": "code",
   "execution_count": null,
   "metadata": {},
   "outputs": [],
   "source": [
    "plt.xlabel('TIME_ms')\n",
    "plt.ylabel('V_mV')\n",
    "plt.axhline(0, color='black')\n",
    "plt.axvline(0, color='black')\n",
    "plt.xlim(-0.4, 4)\n",
    "plt.ylim(-6000, 6000)\n",
    "for idx in range(len(labels)):\n",
    "    draw_plot(times[idx], vss[idx], 'VB=%s V(VS)' % labels[idx], idx, color_idx=0)\n",
    "for idx in range(len(labels)):\n",
    "    draw_plot(times[idx], vos[idx], 'VB=%s V(VO)' % labels[idx], idx, color_idx=1)\n",
    "plt.show()"
   ]
  },
  {
   "cell_type": "code",
   "execution_count": null,
   "metadata": {},
   "outputs": [],
   "source": [
    "plt.xlabel('TIME_ms')\n",
    "plt.ylabel('V_mV')\n",
    "plt.axhline(0, color='black')\n",
    "plt.axvline(0, color='black')\n",
    "plt.xlim(0.9, 2.1)\n",
    "plt.ylim(-6000, 6000)\n",
    "for idx in range(len(labels)):\n",
    "    draw_plot(times[idx], vss[idx], 'VB=%s V(VS)' % labels[idx], idx, color_idx=0)\n",
    "for idx in range(len(labels)):\n",
    "    draw_plot(times[idx], vos[idx], 'VB=%s V(VO)' % labels[idx], idx, color_idx=1)\n",
    "plt.show()"
   ]
  },
  {
   "cell_type": "code",
   "execution_count": null,
   "metadata": {},
   "outputs": [],
   "source": [
    "idx = 0\n",
    "\n",
    "plt.xlabel('TIME_ms')\n",
    "plt.ylabel('V_mV')\n",
    "plt.axhline(0, color='black')\n",
    "plt.axvline(0, color='black')\n",
    "plt.xlim(0.9, 2.1)\n",
    "plt.ylim(-6000, 6000)\n",
    "draw_plot(times[idx], vss[idx], 'VB=%s V(VS)' % labels[idx], 0)\n",
    "draw_plot(times[idx], vos[idx], 'VB=%s V(VO)' % labels[idx], 1)\n",
    "plt.show()"
   ]
  },
  {
   "cell_type": "code",
   "execution_count": null,
   "metadata": {},
   "outputs": [],
   "source": [
    "idx = 4\n",
    "\n",
    "plt.xlabel('TIME_ms')\n",
    "plt.ylabel('V_mV')\n",
    "plt.axhline(0, color='black')\n",
    "plt.axvline(0, color='black')\n",
    "plt.xlim(0.9, 2.1)\n",
    "plt.ylim(-6000, 6000)\n",
    "draw_plot(times[idx], vss[idx], 'VB=%s V(VS)' % labels[idx], 0)\n",
    "draw_plot(times[idx], vos[idx], 'VB=%s V(VO)' % labels[idx], 1)\n",
    "plt.show()"
   ]
  },
  {
   "cell_type": "code",
   "execution_count": null,
   "metadata": {},
   "outputs": [],
   "source": [
    "idx = 3\n",
    "\n",
    "plt.xlabel('TIME_ms')\n",
    "plt.ylabel('V_mV')\n",
    "plt.axhline(0, color='black')\n",
    "plt.axvline(0, color='black')\n",
    "plt.xlim(0.9, 2.1)\n",
    "plt.ylim(-6000, 6000)\n",
    "draw_plot(times[idx], vss[idx], 'VB=%s V(VS)' % labels[idx], 0)\n",
    "draw_plot(times[idx], vos[idx], 'VB=%s V(VO)' % labels[idx], 1)\n",
    "vdiff = vos[idx] - vss[idx]\n",
    "draw_plot(times[idx], vdiff, 'VB=%s V(VDIFF)' % labels[idx], 2)\n",
    "plt.show()\n",
    "\n",
    "print_value('Maximum value of V(VDIFF) (mV)', vdiff.max())"
   ]
  },
  {
   "cell_type": "markdown",
   "metadata": {},
   "source": [
    "### 4. 출력 전압의 리미팅 레벨을 구한다."
   ]
  },
  {
   "cell_type": "code",
   "execution_count": null,
   "metadata": {},
   "outputs": [],
   "source": [
    "V_OUT_limit_mV = []\n",
    "\n",
    "for idx in range(len(labels)):\n",
    "    V_OUT_limit_mV.append(vos[idx].max())\n",
    "\n",
    "print(\"VB = \", end='')\n",
    "print(labels)\n",
    "print_array(\"V_OUT_limit_mV\", V_OUT_limit_mV)"
   ]
  },
  {
   "cell_type": "markdown",
   "metadata": {},
   "source": [
    "### 5. 입력 전압을 x축, 출력 전압 y축으로 하는 입출력 전달 특성 그래프를 그린다."
   ]
  },
  {
   "cell_type": "code",
   "execution_count": null,
   "metadata": {},
   "outputs": [],
   "source": [
    "plt.xlabel('VS_mV')\n",
    "plt.ylabel('VO_mV')\n",
    "plt.axhline(0, color='black')\n",
    "plt.axvline(0, color='black')\n",
    "plt.xlim(-5500, 5500)\n",
    "plt.ylim(-5500, 5500)\n",
    "for idx in range(len(labels)):\n",
    "    draw_plot(vss[idx], vos[idx], 'VB=%s' % labels[idx], idx, scatter=True)\n",
    "plt.show()"
   ]
  },
  {
   "cell_type": "markdown",
   "metadata": {},
   "source": [
    "*******************************************************************************\n",
    "## 실험 2-2 결과 분석 (실험 과정 7)"
   ]
  },
  {
   "cell_type": "markdown",
   "metadata": {},
   "source": [
    "### 회로도\n",
    "\n",
    "* 직렬형 음 리미터 \n",
    "\n",
    "* 사용한 소자\n",
    "    + resistor: 1 kOhm\n",
    "    + diode: D1N4004\n",
    "\n",
    "![Markdown-mark](../experiment/circuit_02_02_01.jpeg)\n",
    "![Markdown-mark](../experiment/circuit_02_02_02.jpeg)"
   ]
  },
  {
   "cell_type": "markdown",
   "metadata": {},
   "source": [
    "### 1. 실험 결과 파일을 읽는다."
   ]
  },
  {
   "cell_type": "code",
   "execution_count": null,
   "metadata": {},
   "outputs": [],
   "source": [
    "data = []\n",
    "\n",
    "data.append(get_oscilloscpoe_result_tektronix('../experiment/m_02_02_01.csv'))\n",
    "data.append(get_oscilloscpoe_result_tektronix('../experiment/m_02_02_02.csv'))\n",
    "data.append(get_oscilloscpoe_result_tektronix('../experiment/m_02_02_03.csv'))\n",
    "data.append(get_oscilloscpoe_result_tektronix('../experiment/m_02_02_04.csv'))\n",
    "data.append(get_oscilloscpoe_result_tektronix('../experiment/m_02_02_05.csv'))"
   ]
  },
  {
   "cell_type": "markdown",
   "metadata": {},
   "source": [
    "### 2. 실험 결과에서 시간, 입력 전압, 출력 전압을 가져온다.\n",
    "\n",
    "측정치를 가져올 때 1000을 곱해 단위를 밀리로 변환한다."
   ]
  },
  {
   "cell_type": "code",
   "execution_count": null,
   "metadata": {},
   "outputs": [],
   "source": [
    "times = []\n",
    "vss = []\n",
    "vos = []\n",
    "labels = ['1V', '2V', '3V', '4V', '5V']\n",
    "\n",
    "for idx in range(len(labels)):\n",
    "    times.append(data[idx]['TIME'] * 1000)\n",
    "    vss.append(data[idx]['Sample CH1'] * 1000)\n",
    "    vos.append(data[idx]['Sample CH2'] * 1000)\n",
    "    vss[-1] = savgol_filter(vss[-1], 200, 2)\n",
    "    vos[-1] = savgol_filter(vos[-1], 200, 2)\n"
   ]
  },
  {
   "cell_type": "markdown",
   "metadata": {},
   "source": [
    "### 3. 시간을 x축, 전압들을 y축으로 하는 그래프를 그린다."
   ]
  },
  {
   "cell_type": "code",
   "execution_count": null,
   "metadata": {},
   "outputs": [],
   "source": [
    "plt.xlabel('TIME_ms')\n",
    "plt.ylabel('V_mV')\n",
    "plt.axhline(0, color='black')\n",
    "plt.axvline(0, color='black')\n",
    "plt.xlim(-0.4, 4)\n",
    "plt.ylim(-6000, 6000)\n",
    "for idx in range(len(labels)):\n",
    "    draw_plot(times[idx], vss[idx], 'VB=%s V(VS)' % labels[idx], idx, color_idx=0)\n",
    "for idx in range(len(labels)):\n",
    "    draw_plot(times[idx], vos[idx], 'VB=%s V(VO)' % labels[idx], idx, color_idx=1)\n",
    "plt.show()"
   ]
  },
  {
   "cell_type": "code",
   "execution_count": null,
   "metadata": {},
   "outputs": [],
   "source": [
    "plt.xlabel('TIME_ms')\n",
    "plt.ylabel('V_mV')\n",
    "plt.axhline(0, color='black')\n",
    "plt.axvline(0, color='black')\n",
    "plt.xlim(0.9, 2.1)\n",
    "plt.ylim(-6000, 6000)\n",
    "for idx in range(len(labels)):\n",
    "    draw_plot(times[idx], vss[idx], 'VB=%s V(VS)' % labels[idx], idx, color_idx=0)\n",
    "for idx in range(len(labels)):\n",
    "    draw_plot(times[idx], vos[idx], 'VB=%s V(VO)' % labels[idx], idx, color_idx=1)\n",
    "plt.show()"
   ]
  },
  {
   "cell_type": "code",
   "execution_count": null,
   "metadata": {},
   "outputs": [],
   "source": [
    "idx = 0\n",
    "\n",
    "plt.xlabel('TIME_ms')\n",
    "plt.ylabel('V_mV')\n",
    "plt.axhline(0, color='black')\n",
    "plt.axvline(0, color='black')\n",
    "plt.xlim(0.9, 2.1)\n",
    "plt.ylim(-6000, 6000)\n",
    "draw_plot(times[idx], vss[idx], 'VB=%s V(VS)' % labels[idx], 0)\n",
    "draw_plot(times[idx], vos[idx], 'VB=%s V(VO)' % labels[idx], 1)\n",
    "plt.show()"
   ]
  },
  {
   "cell_type": "code",
   "execution_count": null,
   "metadata": {},
   "outputs": [],
   "source": [
    "idx = 4\n",
    "\n",
    "plt.xlabel('TIME_ms')\n",
    "plt.ylabel('V_mV')\n",
    "plt.axhline(0, color='black')\n",
    "plt.axvline(0, color='black')\n",
    "plt.xlim(0.9, 2.1)\n",
    "plt.ylim(-6000, 6000)\n",
    "draw_plot(times[idx], vss[idx], 'VB=%s V(VS)' % labels[idx], 0)\n",
    "draw_plot(times[idx], vos[idx], 'VB=%s V(VO)' % labels[idx], 1)\n",
    "plt.show()"
   ]
  },
  {
   "cell_type": "code",
   "execution_count": null,
   "metadata": {},
   "outputs": [],
   "source": [
    "idx = 1\n",
    "\n",
    "plt.xlabel('TIME_ms')\n",
    "plt.ylabel('V_mV')\n",
    "plt.axhline(0, color='black')\n",
    "plt.axvline(0, color='black')\n",
    "plt.xlim(0.9, 2.1)\n",
    "plt.ylim(-6000, 6000)\n",
    "draw_plot(times[idx], vss[idx], 'VB=%s V(VS)' % labels[idx], 0)\n",
    "draw_plot(times[idx], vos[idx], 'VB=%s V(VO)' % labels[idx], 1)\n",
    "vdiff = vos[idx] - vss[idx]\n",
    "draw_plot(times[idx], vdiff, 'VB=%s V(VDIFF)' % labels[idx], 2)\n",
    "plt.show()\n",
    "\n",
    "print_value('Miniimum value of V(VDIFF) (mV)', vdiff.min())"
   ]
  },
  {
   "cell_type": "markdown",
   "metadata": {},
   "source": [
    "### 4. 출력 전압의 리미팅 레벨을 구한다."
   ]
  },
  {
   "cell_type": "code",
   "execution_count": null,
   "metadata": {},
   "outputs": [],
   "source": [
    "V_OUT_limit_mV = []\n",
    "\n",
    "for idx in range(len(labels)):\n",
    "    V_OUT_limit_mV.append(vos[idx].min())\n",
    "\n",
    "print(\"VB = \", end='')\n",
    "print(labels)\n",
    "print_array(\"V_OUT_limit_mV\", V_OUT_limit_mV)"
   ]
  },
  {
   "cell_type": "markdown",
   "metadata": {},
   "source": [
    "### 5. 입력 전압을 x축, 출력 전압 y축으로 하는 입출력 전달 특성 그래프를 그린다."
   ]
  },
  {
   "cell_type": "code",
   "execution_count": null,
   "metadata": {},
   "outputs": [],
   "source": [
    "plt.xlabel('VS_mV')\n",
    "plt.ylabel('VO_mV')\n",
    "plt.axhline(0, color='black')\n",
    "plt.axvline(0, color='black')\n",
    "plt.xlim(-5500, 5500)\n",
    "plt.ylim(-5500, 5500)\n",
    "for idx in range(len(labels)):\n",
    "    draw_plot(vss[idx], vos[idx], 'VB=%s' % labels[idx], idx, scatter=True)\n",
    "plt.show()"
   ]
  }
 ],
 "metadata": {
  "kernelspec": {
   "display_name": "Python 3.10.6 64-bit",
   "language": "python",
   "name": "python3"
  },
  "language_info": {
   "codemirror_mode": {
    "name": "ipython",
    "version": 3
   },
   "file_extension": ".py",
   "mimetype": "text/x-python",
   "name": "python",
   "nbconvert_exporter": "python",
   "pygments_lexer": "ipython3",
   "version": "3.10.12"
  },
  "orig_nbformat": 4,
  "vscode": {
   "interpreter": {
    "hash": "45d5ea1a628b116fc37336f3e2703270bd779ac9277507a8bf46eb41278a50a9"
   }
  }
 },
 "nbformat": 4,
 "nbformat_minor": 2
}
