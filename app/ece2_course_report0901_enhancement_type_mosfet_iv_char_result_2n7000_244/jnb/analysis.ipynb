{
 "cells": [
  {
   "cell_type": "markdown",
   "metadata": {},
   "source": [
    "# 실험 09-01 증가형 MOSFET의 전압-전류 특성 실험"
   ]
  },
  {
   "cell_type": "markdown",
   "metadata": {},
   "source": [
    "## 공통 코드"
   ]
  },
  {
   "cell_type": "code",
   "execution_count": null,
   "metadata": {},
   "outputs": [],
   "source": [
    "import matplotlib.pyplot as plt\n",
    "import numpy as np\n",
    "import pandas as pd\n",
    "import re\n",
    "import io\n",
    "from scipy.signal import savgol_filter # 사비츠키-골레이(Savitzky-Golay) 필터\n",
    "from numpy import nan, inf\n",
    "\n",
    "# %matplotlib tk\n",
    "# %matplotlib inline\n",
    "\n",
    "def tangent_line(f, x):\n",
    "    h = 1e-4\n",
    "    d = (f(x+h) - f(x-h)) / (2*h)\n",
    "    return lambda t: d*t - d*x + f(x)\n",
    "\n",
    "def derivative(f, x):\n",
    "    h = 1e-4\n",
    "    d = (f(x+h) - f(x-h)) / (2*h)\n",
    "    return d\n",
    "\n",
    "def get_simulation_result(file_name, start=0, end=-1):\n",
    "    if end == -1:\n",
    "        end = None\n",
    "    else:\n",
    "        end += 1\n",
    "    \n",
    "    with open(file_name, encoding='cp1252') as data_file:\n",
    "        lines = data_file.read()\n",
    "        occurrences = lines.count('Step Information:')\n",
    "        data_file.seek(0)\n",
    "\n",
    "        line = data_file.readline()\n",
    "        labels = re.split(', | ,|\\t', line)\n",
    "        labels = [s.strip().upper() for s in labels]\n",
    "\n",
    "        data = {}\n",
    "\n",
    "        if (occurrences == 0):\n",
    "            for label in labels:\n",
    "                data[label] = []\n",
    "            \n",
    "            for line in data_file:\n",
    "                values = re.split(', | ,|\\t', line)\n",
    "                for i in range(len(values)):\n",
    "                    value = float(values[i]) * 1000\n",
    "                    data[labels[i]].append(value)\n",
    "\n",
    "        else:\n",
    "            labels_all =[]\n",
    "            \n",
    "            lines = data_file.readline() # skip first line starting with 'Step Information:'\n",
    "\n",
    "            for idx in range(occurrences):\n",
    "                labels_new = []\n",
    "                for label in labels:\n",
    "                    labels_new.append('(%s)@%d' % (label, idx+1))\n",
    "                labels_all += labels_new\n",
    "\n",
    "                for label_new in labels_new:\n",
    "                    data[label_new] = []\n",
    "\n",
    "                for line in data_file:\n",
    "                    if (line.startswith('Step Information:')):\n",
    "                        break\n",
    "                    values = re.split(', | ,|\\t', line)\n",
    "                    for i in range(len(values)):\n",
    "                        value = float(values[i]) * 1000\n",
    "                        data[labels_new[i]].append(value)\n",
    "\n",
    "            labels = labels_all\n",
    "\n",
    "        for label in labels:\n",
    "            data[label] = np.array(data[label][start:end])\n",
    "\n",
    "    # print(\"labels = \", end='')\n",
    "    # print(list(data.keys()))\n",
    "    for label in list(data.keys()):\n",
    "        print(\"data['%s'] : sample number = %d\" % (label, len(data[label])))\n",
    "\n",
    "    return data\n",
    "\n",
    "def get_oscilloscpoe_result_tektronix(file_name, start=0, end=-1):\n",
    "    if end == -1:\n",
    "        end = None\n",
    "    else:\n",
    "        end += 1\n",
    "\n",
    "    df = pd.read_csv(file_name, header=None, encoding='cp1252',low_memory=False)\n",
    "\n",
    "    label_ri = df.loc[df.iloc[:,0] == 'Source', 1].index\n",
    "    ci = 0\n",
    "    data = {}\n",
    "    data['TIME'] = df.iloc[start:end, 3].to_numpy().astype(float)\n",
    "    data['TIME'] -= data['TIME'][0]\n",
    "    for idx in range(df.shape[1]//6):\n",
    "        label = df.iloc[label_ri, ci+1].item()\n",
    "        data[label] = df.iloc[start:end,ci+4].to_numpy().astype(float)\n",
    "        ci += 6\n",
    "\n",
    "    # print(\"labels = \", end='')\n",
    "    # print(list(data.keys()))\n",
    "    for label in list(data.keys()):\n",
    "        print(\"data['%s'] : sample number = %d\" % (label, len(data[label])))\n",
    "\n",
    "    return data\n",
    "\n",
    "def print_array(label, values):\n",
    "    print('%s = [' % label, end='')\n",
    "    for idx, vd in enumerate(values):\n",
    "        print('{:11.3f}'.format(vd), end='')\n",
    "        if (idx+1 != len(values)):\n",
    "            print(', ', end='')\n",
    "    print(']')\n",
    "\n",
    "def print_value(label, value):\n",
    "    print('%s = ' % label, end='')\n",
    "    print('{:11.3f}'.format(value))\n",
    "\n",
    "def print_value_to_string(label, value):\n",
    "    output = io.StringIO()\n",
    "    print('%s = ' % label, end='', file=output)\n",
    "    print('{:11.3f}'.format(value), file=output)\n",
    "    captured = output.getvalue()\n",
    "    return captured\n",
    "\n",
    "def draw_plot(xs, ys, label, style_idx, color_idx=-1, marker_num=16, scatter=False, scatter_s=2):\n",
    "    linestyle  = ['-',          '-',            '-',            '-',            '-', \n",
    "                  '-',          '-',            '-',            '-',            '-', \n",
    "                  '-',          '-',            '-',            '-',            '-', \n",
    "                  '-',          '-',            '-',            '-',            '-', \n",
    "                  '-',          '-',            '-',            '-',            '-']\n",
    "    colors     = ['blue',       'green',        'red',          'orange',       'purple',\n",
    "                  'cyan',       'darkseagreen', 'brown',        'goldenrod',    'darkviolet',\n",
    "                  'steelblue',  'limegreen',    'tomato',       'tan',          'deeppink',\n",
    "                  'navy',       'lightgreen',   'indianred',    'khaki',        'rebeccapurple',\n",
    "                  'slategray',  'forestgreen',  'orangered',    'wheat',        'orchid']\n",
    "    markers    = ['o',          'v',            '<',            's',            'p',\n",
    "                  'h',          '*',            'X',            'x',            '^',\n",
    "                  '>',          'P',            'D',            'H',            'd',\n",
    "                  '|',          '-',            '4'             '5',            '6',\n",
    "                  '7',          '8',            '9 ',           '10',           '+']\n",
    "\n",
    "    if color_idx < 0:\n",
    "        color_idx = style_idx\n",
    "\n",
    "    if isinstance(xs, list):\n",
    "        xs = np.array(xs)\n",
    "    if isinstance(ys, list):\n",
    "        ys = np.array(ys)\n",
    "\n",
    "    if (marker_num == 0):\n",
    "        selected_markevery = None\n",
    "        selected_marker = None\n",
    "    elif not isinstance(xs, np.ndarray):\n",
    "        selected_markevery = None\n",
    "        selected_marker = markers[style_idx]\n",
    "    elif (marker_num > 0):\n",
    "        markeverys = []\n",
    "        if xs[0] > xs[-1]:\n",
    "            first_idx = -1\n",
    "        else:\n",
    "            first_idx = 0\n",
    "        x_step = (xs.max() - xs.min()) / marker_num\n",
    "        for idx in range(len(markers)):\n",
    "            x_start = xs.min() + ((x_step / (len(markers) + 1)) * idx)\n",
    "            marker_list = []\n",
    "            for j in range(marker_num):\n",
    "                tmp_array = np.where(xs > (x_start + (x_step * j)))\n",
    "                if (len(tmp_array[0]) > 0):\n",
    "                    marker_list.append(tmp_array[0][first_idx])\n",
    "            markeverys.append(marker_list)\n",
    "\n",
    "        selected_markevery = markeverys[style_idx]\n",
    "        selected_marker = markers[style_idx]\n",
    "    else:\n",
    "        selected_markevery = None\n",
    "        selected_marker = markers[style_idx]\n",
    "\n",
    "    if (scatter):\n",
    "        plt.scatter(xs, ys, color=colors[color_idx], marker=selected_marker, s=scatter_s, label=label)\n",
    "    else:\n",
    "        plt.plot(xs, ys, ls=linestyle[style_idx], color=colors[color_idx], marker=selected_marker, markevery=selected_markevery, label=label)\n",
    "    if (label != None):\n",
    "        plt.legend(bbox_to_anchor=(1.05, 1), loc='upper left', borderaxespad=0.)\n",
    "\n",
    "def set_plot_size(xrate, yrate):\n",
    "    if (len(set_plot_size.g_plt_figsize) == 0):\n",
    "        set_plot_size.g_plt_figsize = plt.rcParams[\"figure.figsize\"]\n",
    "    size = []\n",
    "    size.append(set_plot_size.g_plt_figsize[0] * xrate)\n",
    "    size.append(set_plot_size.g_plt_figsize[1] * yrate)\n",
    "    plt.figure(figsize=size)\n",
    "\n",
    "set_plot_size.g_plt_figsize = []"
   ]
  },
  {
   "cell_type": "markdown",
   "metadata": {},
   "source": [
    "*******************************************************************************\n",
    "## 실험 1-1 결과 분석 (실험 과정 5)\n",
    "\n",
    "### 회로도\n",
    "\n",
    "![Markdown-mark](../experiment/circuit_01_01_01.png)\n",
    "![Markdown-mark](../experiment/circuit_01_01_02.png)"
   ]
  },
  {
   "cell_type": "markdown",
   "metadata": {},
   "source": [
    "### 1. 실험 결과를 가져온다."
   ]
  },
  {
   "cell_type": "code",
   "execution_count": null,
   "metadata": {},
   "outputs": [],
   "source": [
    "data_l = []\n",
    "\n",
    "data_l.append(get_oscilloscpoe_result_tektronix('../experiment/m_01_01_01.csv'))\n",
    "data_l.append(get_oscilloscpoe_result_tektronix('../experiment/m_01_01_02.csv'))\n",
    "data_l.append(get_oscilloscpoe_result_tektronix('../experiment/m_01_01_03.csv'))\n",
    "data_l.append(get_oscilloscpoe_result_tektronix('../experiment/m_01_01_04.csv'))\n",
    "data_l.append(get_oscilloscpoe_result_tektronix('../experiment/m_01_01_05.csv'))\n",
    "data_l.append(get_oscilloscpoe_result_tektronix('../experiment/m_01_01_06.csv'))\n",
    "data_l.append(get_oscilloscpoe_result_tektronix('../experiment/m_01_01_07.csv'))"
   ]
  },
  {
   "cell_type": "markdown",
   "metadata": {},
   "source": [
    "### 2. 실험 결과에서 $V_{DS}$, $V_{S}$를 가져온다."
   ]
  },
  {
   "cell_type": "code",
   "execution_count": null,
   "metadata": {},
   "outputs": [],
   "source": [
    "V_G_V_a = np.array([0.5, 1.0, 1.2, 1.4, 1.6, 1.8, 2.0])\n",
    "R_S_kOhm = 0.100\n",
    "\n",
    "TIME_ms_a_l = []\n",
    "V_D_V_a_l = []\n",
    "V_S_V_a_l = []\n",
    "V_DS_V_a_l = []\n",
    "I_D_mA_a_l = []\n",
    "\n",
    "for idx in range(len(V_G_V_a)):\n",
    "    TIME_ms_a_l.append(data_l[idx]['TIME'] * 1000)\n",
    "    V_D_V_a_l.append(data_l[idx]['Sample CH1'])\n",
    "    V_S_V_a_l.append(data_l[idx]['Sample CH2'])\n",
    "    V_D_V_a_l[-1] = savgol_filter(V_D_V_a_l[-1], 100, 2)\n",
    "    V_S_V_a_l[-1] = savgol_filter(V_S_V_a_l[-1], 100, 2)\n",
    "    V_DS_V_a_l.append(V_D_V_a_l[-1] - V_S_V_a_l[-1])\n",
    "    I_D_mA_a_l.append(V_S_V_a_l[-1] / R_S_kOhm)"
   ]
  },
  {
   "cell_type": "markdown",
   "metadata": {},
   "source": [
    "### 3. $V_{DS}$를 x축, $V_{S}$를 y축으로 하는 그래프를 그린다."
   ]
  },
  {
   "cell_type": "code",
   "execution_count": null,
   "metadata": {},
   "outputs": [],
   "source": [
    "plt.xlabel('V_DS_V')\n",
    "plt.ylabel('V_S_V')\n",
    "plt.axhline(0, color='black')\n",
    "plt.axvline(0, color='black')\n",
    "plt.xlim(-0.55, 5.5)\n",
    "plt.ylim(-0.06, 0.6)\n",
    "for idx in range(len(V_G_V_a)):\n",
    "    draw_plot(V_DS_V_a_l[idx], V_S_V_a_l[idx], 'V_G_V=%3.1f)' % V_G_V_a[idx], idx)\n",
    "plt.show()"
   ]
  },
  {
   "cell_type": "code",
   "execution_count": null,
   "metadata": {},
   "outputs": [],
   "source": [
    "plt.xlabel('V_DS_V')\n",
    "plt.ylabel('I_D_mA')\n",
    "plt.axhline(0, color='black')\n",
    "plt.axvline(0, color='black')\n",
    "plt.xlim(-0.55, 5.5)\n",
    "plt.ylim(-0.6, 6)\n",
    "for idx in range(len(V_G_V_a)):\n",
    "    draw_plot(V_DS_V_a_l[idx], I_D_mA_a_l[idx], 'V_G_V=%3.1f)' % V_G_V_a[idx], idx)\n",
    "plt.show()"
   ]
  },
  {
   "cell_type": "markdown",
   "metadata": {},
   "source": [
    "*******************************************************************************\n",
    "## 실험 1-2 결과 분석 (실험 과정 6)\n",
    "\n",
    "### 회로도\n",
    "\n",
    "![Markdown-mark](../experiment/circuit_01_02_01.png)\n",
    "![Markdown-mark](../experiment/circuit_01_02_02.png)"
   ]
  },
  {
   "cell_type": "markdown",
   "metadata": {},
   "source": [
    "### 1. 실험 결과를 가져온다."
   ]
  },
  {
   "cell_type": "code",
   "execution_count": null,
   "metadata": {},
   "outputs": [],
   "source": [
    "I_D_mA_a_l = []\n",
    "\n",
    "V_GG_V_a = np.array([0.5, 1.0, 1.2, 1.4, 1.6, 1.8, 2.0])\n",
    "\n",
    "V_DS_V_a = np.array(       [   0.1,       0.4,        0.8,         2.0,        4.0,       5.0])\n",
    "I_D_mA_a_l.append(np.array([     ?,         ?,          ?,           ?,          ?,         ?])) # V_GG_V = 0.5\n",
    "I_D_mA_a_l.append(np.array([     ?,         ?,          ?,           ?,          ?,         ?])) # V_GG_V = 1.0\n",
    "I_D_mA_a_l.append(np.array([     ?,         ?,          ?,           ?,          ?,         ?])) # V_GG_V = 1.2\n",
    "I_D_mA_a_l.append(np.array([     ?,         ?,          ?,           ?,          ?,         ?])) # V_GG_V = 1.4\n",
    "I_D_mA_a_l.append(np.array([     ?,         ?,          ?,           ?,          ?,         ?])) # V_GG_V = 1.6\n",
    "I_D_mA_a_l.append(np.array([     ?,         ?,          ?,           ?,          ?,         ?])) # V_GG_V = 1.8\n",
    "I_D_mA_a_l.append(np.array([     ?,         ?,          ?,           ?,          ?,         ?])) # V_GG_V = 2.0\n",
    "\n",
    "print_array('                      V_DS_V', V_DS_V_a)\n",
    "for idx in range(len(V_GG_V_a)):\n",
    "    print_array('V_GG_V = {:11.3f}: I_D_mA'.format(V_GG_V_a[idx]), I_D_mA_a_l[idx])"
   ]
  },
  {
   "cell_type": "markdown",
   "metadata": {},
   "source": [
    "### 2. $V_{DS}$을 x축, $I_{D}$를 y축으로 하는 그래프를 그린다."
   ]
  },
  {
   "cell_type": "code",
   "execution_count": null,
   "metadata": {},
   "outputs": [],
   "source": [
    "plt.xlabel('V_DS_V')\n",
    "plt.ylabel('I_D_mA')\n",
    "plt.axhline(0, color='black')\n",
    "plt.axvline(0, color='black')\n",
    "plt.xlim(-0.55, 5.5)\n",
    "plt.ylim(-5.5, 55)\n",
    "for idx in range(len(V_GG_V_a)):\n",
    "    draw_plot(V_DS_V_a, I_D_mA_a_l[idx], '(V_GG_V={:3.1f})'.format(V_GG_V_a[idx]), idx)\n",
    "plt.show()"
   ]
  },
  {
   "cell_type": "markdown",
   "metadata": {},
   "source": [
    "*******************************************************************************\n",
    "## 실험 2-1 결과 분석 (실험 과정 5)\n",
    "\n",
    "### 회로도\n",
    "\n",
    "![Markdown-mark](../experiment/circuit_01_02_01.png)\n",
    "![Markdown-mark](../experiment/circuit_01_02_02.png)"
   ]
  },
  {
   "cell_type": "markdown",
   "metadata": {},
   "source": [
    "### 1. 실험 결과를 가져온다."
   ]
  },
  {
   "cell_type": "code",
   "execution_count": null,
   "metadata": {},
   "outputs": [],
   "source": [
    "V_DS_V = 4.\n",
    "\n",
    "V_GG_V_a = np.array([     ?,    ?,    ?,   ?,   ?,  ?,  ?,  ?])\n",
    "I_D_mA_a = np.array([     ?,    ?,    ?,   ?,   ?,  ?,  ?,  ?])\n",
    "\n",
    "print_array('V_GG_V', V_GG_V_a)\n",
    "print_array('I_D_mA'.format(V_DS_V), I_D_mA_a)"
   ]
  },
  {
   "cell_type": "markdown",
   "metadata": {},
   "source": [
    "### 2. $V_{GG}$을 x축, $I_{D}$를 y축으로 하는 그래프를 그린다."
   ]
  },
  {
   "cell_type": "code",
   "execution_count": null,
   "metadata": {},
   "outputs": [],
   "source": [
    "plt.xlabel('V_GS_V')\n",
    "plt.ylabel('I_D_mA')\n",
    "plt.axhline(0, color='black')\n",
    "plt.axvline(0, color='black')\n",
    "plt.xlim(-0.25, 2.5)\n",
    "plt.ylim(-9, 90)\n",
    "draw_plot(V_GG_V_a, I_D_mA_a, 'V_DS_V=%4.3f' % V_DS_V, 0, marker_num=-1)\n",
    "# plt.xlim(-0.5, 4.0)\n",
    "# plt.ylim(-50, 220)\n",
    "plt.show()"
   ]
  },
  {
   "cell_type": "markdown",
   "metadata": {},
   "source": [
    "### 3. 문턱 전압 $V_{Tn}$을 구한다. (Second-Derivative (SD) method 사용)"
   ]
  },
  {
   "cell_type": "code",
   "execution_count": null,
   "metadata": {},
   "outputs": [],
   "source": [
    "fx = lambda x: np.interp(x, V_GG_V_a, I_D_mA_a)\n",
    "\n",
    "x = np.arange(V_GG_V_a[0], V_GG_V_a[-1], 0.01)\n",
    "y = fx(x)\n",
    "y = savgol_filter(y, 100, 2)\n",
    "\n",
    "g = derivative(fx, x)\n",
    "g = savgol_filter(g, 100, 2)\n",
    "\n",
    "f2x = lambda x2: np.interp(x2, x, g)\n",
    "g2 = derivative(f2x, x)\n",
    "g2 = savgol_filter(g2, 100, 2)\n",
    "\n",
    "g2_max = g2.max()\n",
    "x_g2_max = x[g2.argmax()]\n",
    "\n",
    "V_Tn_V = x_g2_max\n",
    "\n",
    "plt.xlabel('V_GS_V')\n",
    "plt.axhline(0, color='black')\n",
    "plt.axvline(0, color='black')\n",
    "plt.xlim(-0.25, 2.5)\n",
    "plt.ylim(-27, 270)\n",
    "draw_plot(x, y, 'I_D_mA (V_DS_V=%4.3f)' % V_DS_V, 0, marker_num=0)\n",
    "draw_plot(x, g, 'gm', 1, marker_num=0)\n",
    "draw_plot(x, g2, 'gm2', 2, marker_num=0)\n",
    "plt.scatter(x_g2_max, g2_max, color='r', zorder=10)\n",
    "plt.show()\n",
    "\n",
    "print_value(\"V_Tn_V\", V_Tn_V)"
   ]
  }
 ],
 "metadata": {
  "kernelspec": {
   "display_name": "Python 3.10.6 64-bit",
   "language": "python",
   "name": "python3"
  },
  "language_info": {
   "codemirror_mode": {
    "name": "ipython",
    "version": 3
   },
   "file_extension": ".py",
   "mimetype": "text/x-python",
   "name": "python",
   "nbconvert_exporter": "python",
   "pygments_lexer": "ipython3",
   "version": "3.10.13"
  },
  "orig_nbformat": 4,
  "vscode": {
   "interpreter": {
    "hash": "45d5ea1a628b116fc37336f3e2703270bd779ac9277507a8bf46eb41278a50a9"
   }
  }
 },
 "nbformat": 4,
 "nbformat_minor": 2
}
