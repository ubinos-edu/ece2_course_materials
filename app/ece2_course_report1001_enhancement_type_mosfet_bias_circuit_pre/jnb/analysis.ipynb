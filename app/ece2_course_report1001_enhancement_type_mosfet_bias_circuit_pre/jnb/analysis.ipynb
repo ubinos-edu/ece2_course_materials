{
 "cells": [
  {
   "cell_type": "markdown",
   "metadata": {},
   "source": [
    "# 실험 10-01 증가형 MOSFET의 바이어스 회로"
   ]
  },
  {
   "cell_type": "markdown",
   "metadata": {},
   "source": [
    "## 공통 코드"
   ]
  },
  {
   "cell_type": "code",
   "execution_count": null,
   "metadata": {},
   "outputs": [],
   "source": [
    "import matplotlib.pyplot as plt\n",
    "import numpy as np\n",
    "import pandas as pd\n",
    "import re\n",
    "from scipy.signal import savgol_filter # 사비츠키-골레이(Savitzky-Golay) 필터\n",
    "from numpy import nan, inf\n",
    "\n",
    "# %matplotlib tk\n",
    "# %matplotlib inline\n",
    "\n",
    "def tangent_line(f, x):\n",
    "    h = 1e-4\n",
    "    d = (f(x+h) - f(x-h)) / (2*h)\n",
    "    return lambda t: d*t - d*x + f(x)\n",
    "\n",
    "def derivative(f, x):\n",
    "    h = 1e-4\n",
    "    d = (f(x+h) - f(x-h)) / (2*h)\n",
    "    return d\n",
    "\n",
    "def get_simulation_result(file_name, start=0, end=-1):\n",
    "    if end == -1:\n",
    "        end = None\n",
    "    else:\n",
    "        end += 1\n",
    "    \n",
    "    with open(file_name, encoding='cp1252') as data_file:\n",
    "        lines = data_file.read()\n",
    "        occurrences = lines.count('Step Information:')\n",
    "        data_file.seek(0)\n",
    "\n",
    "        line = data_file.readline()\n",
    "        labels = re.split(', | ,|\\t', line)\n",
    "        labels = [s.strip().upper() for s in labels]\n",
    "\n",
    "        data = {}\n",
    "\n",
    "        if (occurrences == 0):\n",
    "            for label in labels:\n",
    "                data[label] = []\n",
    "            \n",
    "            for line in data_file:\n",
    "                values = re.split(', | ,|\\t', line)\n",
    "                for i in range(len(values)):\n",
    "                    value = float(values[i]) * 1000\n",
    "                    data[labels[i]].append(value)\n",
    "\n",
    "        else:\n",
    "            labels_all =[]\n",
    "            \n",
    "            lines = data_file.readline() # skip first line starting with 'Step Information:'\n",
    "\n",
    "            for idx in range(occurrences):\n",
    "                labels_new = []\n",
    "                for label in labels:\n",
    "                    labels_new.append('(%s)@%d' % (label, idx+1))\n",
    "                labels_all += labels_new\n",
    "\n",
    "                for label_new in labels_new:\n",
    "                    data[label_new] = []\n",
    "\n",
    "                for line in data_file:\n",
    "                    if (line.startswith('Step Information:')):\n",
    "                        break\n",
    "                    values = re.split(', | ,|\\t', line)\n",
    "                    for i in range(len(values)):\n",
    "                        value = float(values[i]) * 1000\n",
    "                        data[labels_new[i]].append(value)\n",
    "\n",
    "            labels = labels_all\n",
    "\n",
    "        for label in labels:\n",
    "            data[label] = np.array(data[label][start:end])\n",
    "\n",
    "    # print(\"labels = \", end='')\n",
    "    # print(list(data.keys()))\n",
    "    for label in list(data.keys()):\n",
    "        print(\"data['%s'] : sample number = %d\" % (label, len(data[label])))\n",
    "\n",
    "    return data\n",
    "\n",
    "def get_oscilloscpoe_result_tektronix(file_name, start=0, end=-1):\n",
    "    if end == -1:\n",
    "        end = None\n",
    "    else:\n",
    "        end += 1\n",
    "\n",
    "    df = pd.read_csv(file_name, header=None, encoding='cp1252',low_memory=False)\n",
    "\n",
    "    label_ri = df.loc[df.iloc[:,0] == 'Source', 1].index\n",
    "    ci = 0\n",
    "    data = {}\n",
    "    data['TIME'] = df.iloc[start:end, 3].to_numpy().astype(float)\n",
    "    data['TIME'] -= data['TIME'][0]\n",
    "    for idx in range(df.shape[1]//6):\n",
    "        label = df.iloc[label_ri, ci+1].item()\n",
    "        data[label] = df.iloc[start:end,ci+4].to_numpy().astype(float)\n",
    "        ci += 6\n",
    "\n",
    "    # print(\"labels = \", end='')\n",
    "    # print(list(data.keys()))\n",
    "    for label in list(data.keys()):\n",
    "        print(\"data['%s'] : sample number = %d\" % (label, len(data[label])))\n",
    "\n",
    "    return data\n",
    "\n",
    "def print_array(label, values):\n",
    "    print('%s = [' % label, end='')\n",
    "    for idx, vd in enumerate(values):\n",
    "        print('{:11.3f}'.format(vd), end='')\n",
    "        if (idx+1 != len(values)):\n",
    "            print(', ', end='')\n",
    "    print(']')\n",
    "\n",
    "def print_value(label, value):\n",
    "    print('%s = ' % label, end='')\n",
    "    print('{:11.3f}'.format(value))\n",
    "\n",
    "def draw_plot(xs, ys, label, style_idx, marker_num=16, scatter=False, scatter_s=2):\n",
    "    linestyle  = ['-',          '-',            '-',            '-',            '-', \n",
    "                  '-',          '-',            '-',            '-',            '-', \n",
    "                  '-',          '-',            '-',            '-',            '-', \n",
    "                  '-',          '-',            '-',            '-',            '-', \n",
    "                  '-',          '-',            '-',            '-',            '-']\n",
    "    colors     = ['blue',       'green',        'red',          'orange',       'purple',\n",
    "                  'cyan',       'darkseagreen', 'brown',        'goldenrod',    'darkviolet',\n",
    "                  'steelblue',  'limegreen',    'tomato',       'tan',          'deeppink',\n",
    "                  'navy',       'lightgreen',   'indianred',    'khaki',        'rebeccapurple',\n",
    "                  'slategray',  'forestgreen',  'orangered',    'wheat',        'orchid']\n",
    "    markers    = ['o',          'v',            '<',            's',            'p',\n",
    "                  'h',          '*',            'X',            'x',            '^',\n",
    "                  '>',          'P',            'D',            'H',            'd',\n",
    "                  '|',          '-',            '4'             '5',            '6',\n",
    "                  '7',          '8',            '9 ',           '10',           '+']\n",
    "\n",
    "    if isinstance(xs, list):\n",
    "        xs = np.array(xs)\n",
    "    if isinstance(ys, list):\n",
    "        ys = np.array(ys)\n",
    "\n",
    "    if (marker_num == 0):\n",
    "        selected_markevery = None\n",
    "        selected_marker = None\n",
    "    elif not isinstance(xs, np.ndarray):\n",
    "        selected_markevery = None\n",
    "        selected_marker = markers[style_idx]\n",
    "    elif (marker_num > 0):\n",
    "        markeverys = []\n",
    "        if xs[0] > xs[-1]:\n",
    "            first_idx = -1\n",
    "        else:\n",
    "            first_idx = 0\n",
    "        x_step = (xs.max() - xs.min()) / marker_num\n",
    "        for idx in range(len(markers)):\n",
    "            x_start = xs.min() + ((x_step / (len(markers) + 1)) * idx)\n",
    "            marker_list = []\n",
    "            for j in range(marker_num):\n",
    "                tmp_array = np.where(xs > (x_start + (x_step * j)))\n",
    "                if (len(tmp_array[0]) > 0):\n",
    "                    marker_list.append(tmp_array[0][first_idx])\n",
    "            markeverys.append(marker_list)\n",
    "\n",
    "        selected_markevery = markeverys[style_idx]\n",
    "        selected_marker = markers[style_idx]\n",
    "    else:\n",
    "        selected_markevery = None\n",
    "        selected_marker = markers[style_idx]\n",
    "\n",
    "    if (scatter):\n",
    "        plt.scatter(xs, ys, color=colors[style_idx], marker=selected_marker, s=scatter_s, label=label)\n",
    "    else:\n",
    "        plt.plot(xs, ys, ls=linestyle[style_idx], color=colors[style_idx], marker=selected_marker, markevery=selected_markevery, label=label)\n",
    "    if (label != None):\n",
    "        plt.legend(bbox_to_anchor=(1.05, 1), loc='upper left', borderaxespad=0.)\n",
    "\n",
    "def set_plot_size(xrate, yrate):\n",
    "    if (len(set_plot_size.g_plt_figsize) == 0):\n",
    "        set_plot_size.g_plt_figsize = plt.rcParams[\"figure.figsize\"]\n",
    "    size = []\n",
    "    size.append(set_plot_size.g_plt_figsize[0] * xrate)\n",
    "    size.append(set_plot_size.g_plt_figsize[1] * yrate)\n",
    "    plt.figure(figsize=size)\n",
    "\n",
    "set_plot_size.g_plt_figsize = []"
   ]
  },
  {
   "cell_type": "markdown",
   "metadata": {},
   "source": [
    "## LTspice 명령"
   ]
  },
  {
   "cell_type": "markdown",
   "metadata": {},
   "source": [
    "* 컴포넌트 추가 명령\n",
    "    + Voltage source: Component -> voltage (V)\n",
    "    + Resister: Component -> res (R)\n",
    "    + Diode: diode (D)\n",
    "    + Zener diode: Component -> zenor\n",
    "    + Bipolar NPN transistor: Component -> npn\n",
    "    + Bipolar PNP transistor: Component -> pnp\n",
    "    + N-Channel MOSFET transistor: Component -> nmos\n",
    "    + Ground: ground (G)\n",
    "\n",
    "&nbsp;\n",
    "\n",
    "* SPICE 시뮬레이션 설정 명령\n",
    "    * DC Sweep analysis\n",
    "        + Compute the DC operating point over swept independent source(s).\n",
    "        + Syntax: .dc \\<source1\\> \\<start1\\> \\<stop1\\> [\\<increment1\\>] [\\<source2\\> ...]\n",
    "            + source: source name\n",
    "            + start: start value\n",
    "            + stop: stop value\n",
    "            + increment: increment value\n",
    "    * Transient analysis\n",
    "        + Performa time-domain analysis\n",
    "        + Syntax: .tran \\<Tprint\\> \\<Tstop\\> [\\<Tstart\\> [\\<Tmaxstep\\>]]\n",
    "            - Tprint: printing increment (Use 0 in LTspice)\n",
    "            - Tstop: stop time\n",
    "            - Tstart: time to start saving waveform data\n",
    "            - Tmaxstep: maximum timestep size\n",
    "    * Parametric analysis (list)\n",
    "        + Performs a parametric sweep for all of the analysis\n",
    "        + Syntax: .step param \\<name\\> list \\<value1\\> [\\<value2\\> [\\<value3\\> [...]]]\n",
    "            - name: name of parameter to step\n",
    "    + DC Bias Point  analysis\n",
    "        + Performa DC bias point analysis\n",
    "        + Syntax: .op\n",
    "\n",
    "&nbsp;\n",
    "\n",
    "* 기타 명령\n",
    "    + 회전 (Control + R)\n",
    "    + Wire (F3)\n",
    "    + Move (F7)\n",
    "    + Drag (F8)\n",
    "    + Delete (F5)\n",
    "    + Duplicate (F6)\n"
   ]
  },
  {
   "cell_type": "markdown",
   "metadata": {},
   "source": [
    "*******************************************************************************\n",
    "## 시뮬레이션 1-1 결과 분석\n",
    "\n",
    "## 회로도\n",
    "\n",
    "![Markdown-mark](../ltspice/simulation_01_01.png)"
   ]
  },
  {
   "cell_type": "markdown",
   "metadata": {},
   "source": [
    "### 1. 시뮬레이션 결과 파일을 읽는다."
   ]
  },
  {
   "cell_type": "code",
   "execution_count": null,
   "metadata": {},
   "outputs": [],
   "source": [
    "data = get_simulation_result('../ltspice/simulation_01_01.txt')"
   ]
  },
  {
   "cell_type": "markdown",
   "metadata": {},
   "source": [
    "### 2. 시뮬레이션 결과에서 $V_{GSQ}$, $I_{DQ}$, $V_{DSQ}$를 가져온다."
   ]
  },
  {
   "cell_type": "code",
   "execution_count": null,
   "metadata": {},
   "outputs": [],
   "source": [
    "V_DD_V      = 15.\n",
    "R_D_kOhm_a  = data['RDVAR'] / 1000000.\n",
    "V_GSQ_V_a   = data['V(VG)'] / 1000.\n",
    "I_DQ_mA_a   = data['ID(M1)']\n",
    "V_DSQ_V_a   = data['V(VD)'] / 1000.\n",
    "\n",
    "print_array('R_D_kOhm             ', R_D_kOhm_a)\n",
    "print_array('V_GSQ_V              ', V_GSQ_V_a)\n",
    "print_array('I_DQ_mA              ', I_DQ_mA_a)\n",
    "print_array('V_DSQ_V              ', V_DSQ_V_a)\n",
    "\n",
    "print('')\n",
    "V_Tn_V = 1.730\n",
    "V_GS_m_Tn_V = V_GSQ_V_a - V_Tn_V\n",
    "V_DS_m_GS_m_Tn_V = V_DSQ_V_a - V_GS_m_Tn_V\n",
    "print_array('V_GS -  V_Tn         ', V_GS_m_Tn_V)\n",
    "print_array('V_DS - (V_GS - V_Tn) ', V_DS_m_GS_m_Tn_V)"
   ]
  },
  {
   "cell_type": "markdown",
   "metadata": {},
   "source": [
    "### 3. $V_{DSQ}$ - $I_{DQ}$ 그래프를 그린다."
   ]
  },
  {
   "cell_type": "code",
   "execution_count": null,
   "metadata": {},
   "outputs": [],
   "source": [
    "plt.xlabel('V_DSQ_V')\n",
    "plt.ylabel('I_DQ_mA')\n",
    "plt.axhline(0, color='black')\n",
    "plt.axvline(0, color='black')\n",
    "plt.xlim([-0.5, 16])\n",
    "plt.ylim([-1, 210])\n",
    "for idx in range(len(R_D_kOhm_a)):\n",
    "    draw_plot(V_DSQ_V_a[idx], I_DQ_mA_a[idx], '(R_D_kOhm=%1.3f)' % R_D_kOhm_a[idx], idx, scatter=True, scatter_s=20)\n",
    "plt.show()"
   ]
  },
  {
   "cell_type": "markdown",
   "metadata": {},
   "source": [
    "### 4. 부하선을 그린다."
   ]
  },
  {
   "cell_type": "code",
   "execution_count": null,
   "metadata": {},
   "outputs": [],
   "source": [
    "plt.xlabel('V_DSQ_V')\n",
    "plt.ylabel('I_DQ_mA')\n",
    "plt.axhline(0, color='black')\n",
    "plt.axvline(0, color='black')\n",
    "plt.xlim([-0.5, 16])\n",
    "plt.ylim([-1, 210])\n",
    "for idx in range(len(R_D_kOhm_a)):\n",
    "    draw_plot([0, V_DD_V], [V_DD_V/R_D_kOhm_a[idx], 0], None, idx, marker_num = 0)\n",
    "    draw_plot(V_DSQ_V_a[idx], I_DQ_mA_a[idx], '(R_D_kOhm=%1.3f)' % R_D_kOhm_a[idx], idx, scatter=True, scatter_s=20)\n",
    "plt.show()"
   ]
  },
  {
   "cell_type": "markdown",
   "metadata": {},
   "source": [
    "*******************************************************************************\n",
    "## 시뮬레이션 1-2 결과 분석\n",
    "\n",
    "## 회로도\n",
    "\n",
    "![Markdown-mark](../ltspice/simulation_01_02.png)"
   ]
  },
  {
   "cell_type": "markdown",
   "metadata": {},
   "source": [
    "### 1. 시뮬레이션 결과 파일을 읽는다."
   ]
  },
  {
   "cell_type": "code",
   "execution_count": null,
   "metadata": {},
   "outputs": [],
   "source": [
    "data = get_simulation_result('../ltspice/simulation_01_02.txt')"
   ]
  },
  {
   "cell_type": "markdown",
   "metadata": {},
   "source": [
    "### 2. 시뮬레이션 결과에서 $I_{DQ}$, $V_{DSQ}$를 가져온다."
   ]
  },
  {
   "cell_type": "code",
   "execution_count": null,
   "metadata": {},
   "outputs": [],
   "source": [
    "I_DQ_mA_a_dc_sweep = data['ID(M1)']\n",
    "V_DSQ_V_a_dc_sweep = data['V(VD)'] / 1000.\n",
    "\n",
    "V_GSQ_V = 2.5"
   ]
  },
  {
   "cell_type": "markdown",
   "metadata": {},
   "source": [
    "### 3. $V_{DSQ}$ - $I_{DQ}$ 그래프를 그린다."
   ]
  },
  {
   "cell_type": "code",
   "execution_count": null,
   "metadata": {},
   "outputs": [],
   "source": [
    "plt.xlabel('V_DSQ_V')\n",
    "plt.ylabel('I_DQ_mA')\n",
    "plt.axhline(0, color='black')\n",
    "plt.axvline(0, color='black')\n",
    "plt.xlim([-0.5, 16])\n",
    "plt.ylim([-1, 210])\n",
    "draw_plot(V_DSQ_V_a_dc_sweep, I_DQ_mA_a_dc_sweep, '(V_GSQ_V=%1.3f)' % V_GSQ_V, 10, marker_num=0)\n",
    "plt.show()"
   ]
  },
  {
   "cell_type": "markdown",
   "metadata": {},
   "source": [
    "### 4. 시뮬레이션 1-1의 결과와 비교한다."
   ]
  },
  {
   "cell_type": "code",
   "execution_count": null,
   "metadata": {},
   "outputs": [],
   "source": [
    "plt.xlabel('V_DSQ_V')\n",
    "plt.ylabel('I_DQ_mA')\n",
    "plt.axhline(0, color='black')\n",
    "plt.axvline(0, color='black')\n",
    "plt.xlim([-0.5, 16])\n",
    "plt.ylim([-1, 210])\n",
    "for idx in range(len(R_D_kOhm_a)):\n",
    "    draw_plot([0, V_DD_V], [V_DD_V/R_D_kOhm_a[idx], 0], None, idx, marker_num = 0)\n",
    "    draw_plot(V_DSQ_V_a[idx], I_DQ_mA_a[idx], '(R_D_kOhm=%1.3f)' % R_D_kOhm_a[idx], idx, scatter=True, scatter_s=20)\n",
    "draw_plot(V_DSQ_V_a_dc_sweep, I_DQ_mA_a_dc_sweep, '(V_GSQ_V=%1.3f)' % V_GSQ_V, 10, marker_num=0)\n",
    "plt.show()"
   ]
  },
  {
   "cell_type": "markdown",
   "metadata": {},
   "source": [
    "*******************************************************************************\n",
    "## 시뮬레이션 2-1 결과 분석\n",
    "\n",
    "## 회로도\n",
    "\n",
    "![Markdown-mark](../ltspice/simulation_02_01.png)"
   ]
  },
  {
   "cell_type": "markdown",
   "metadata": {},
   "source": [
    "### 1. 시뮬레이션 결과 파일을 읽는다."
   ]
  },
  {
   "cell_type": "code",
   "execution_count": null,
   "metadata": {},
   "outputs": [],
   "source": [
    "data = get_simulation_result('../ltspice/simulation_02_01.txt')"
   ]
  },
  {
   "cell_type": "markdown",
   "metadata": {},
   "source": [
    "### 2. 시뮬레이션 결과에서 $V_{GSQ}$, $I_{DQ}$, $V_{DSQ}$를 가져온다."
   ]
  },
  {
   "cell_type": "code",
   "execution_count": null,
   "metadata": {},
   "outputs": [],
   "source": [
    "V_DD_V      = 15.\n",
    "R_D_kOhm    = 0.100\n",
    "R_S_kOhm_a  = data['RSVAR'] / 1000000.\n",
    "V_GSQ_V_a   = (data['V(VG)'] - data['V(VS)']) / 1000.\n",
    "I_DQ_mA_a   = data['ID(M1)']\n",
    "V_DSQ_V_a   = (data['V(VD)'] - data['V(VS)']) / 1000.\n",
    "\n",
    "print_array('R_S_kOhm             ', R_S_kOhm_a)\n",
    "print_array('V_GSQ_V              ', V_GSQ_V_a)\n",
    "print_array('I_DQ_mA              ', I_DQ_mA_a)\n",
    "print_array('V_DSQ_V              ', V_DSQ_V_a)\n",
    "\n",
    "print('')\n",
    "V_Tn_V = 1.730\n",
    "V_GS_m_Tn_V = V_GSQ_V_a - V_Tn_V\n",
    "V_DS_m_GS_m_Tn_V = V_DSQ_V_a - V_GS_m_Tn_V\n",
    "print_array('V_GS - V_Tn          ', V_GS_m_Tn_V)\n",
    "print_array('V_DS - (V_GS - V_Tn) ', V_DS_m_GS_m_Tn_V)"
   ]
  },
  {
   "cell_type": "markdown",
   "metadata": {},
   "source": [
    "### 3. $V_{DSQ}$ - $I_{DQ}$ 그래프를 그린다."
   ]
  },
  {
   "cell_type": "code",
   "execution_count": null,
   "metadata": {},
   "outputs": [],
   "source": [
    "plt.xlabel('V_DSQ_V')\n",
    "plt.ylabel('I_DQ_mA')\n",
    "plt.axhline(0, color='black')\n",
    "plt.axvline(0, color='black')\n",
    "plt.xlim([-0.5, 16])\n",
    "plt.ylim([-1, 210])\n",
    "for idx in range(len(R_D_kOhm_a)):\n",
    "    draw_plot(V_DSQ_V_a[idx], I_DQ_mA_a[idx], '(R_S_kOhm=%1.3f)' % R_S_kOhm_a[idx], idx, scatter=True, scatter_s=20)\n",
    "plt.show()"
   ]
  },
  {
   "cell_type": "markdown",
   "metadata": {},
   "source": [
    "### 4. 부하선을 그린다."
   ]
  },
  {
   "cell_type": "code",
   "execution_count": null,
   "metadata": {},
   "outputs": [],
   "source": [
    "plt.xlabel('V_DSQ_V')\n",
    "plt.ylabel('I_DQ_mA')\n",
    "plt.axhline(0, color='black')\n",
    "plt.axvline(0, color='black')\n",
    "plt.xlim([-0.5, 16])\n",
    "plt.ylim([-1, 210])\n",
    "for idx in range(len(R_S_kOhm_a)):\n",
    "    draw_plot([0, V_DD_V], [V_DD_V/(R_D_kOhm + R_S_kOhm_a[idx]), 0], None, idx, marker_num = 0)\n",
    "    draw_plot(V_DSQ_V_a[idx], I_DQ_mA_a[idx], '(R_S_kOhm=%1.3f)' % R_S_kOhm_a[idx], idx, scatter=True, scatter_s=20)\n",
    "plt.show()"
   ]
  },
  {
   "cell_type": "markdown",
   "metadata": {},
   "source": [
    "*******************************************************************************\n",
    "## 시뮬레이션 2-2 결과 분석\n",
    "\n",
    "## 회로도\n",
    "\n",
    "![Markdown-mark](../ltspice/simulation_02_02.png)"
   ]
  },
  {
   "cell_type": "markdown",
   "metadata": {},
   "source": [
    "### 1. 시뮬레이션 결과 파일을 읽는다."
   ]
  },
  {
   "cell_type": "code",
   "execution_count": null,
   "metadata": {},
   "outputs": [],
   "source": [
    "data = get_simulation_result('../ltspice/simulation_02_02.txt')"
   ]
  },
  {
   "cell_type": "markdown",
   "metadata": {},
   "source": [
    "### 2. 시뮬레이션 결과에서 $I_{DQ}$, $V_{DSQ}$를 가져온다."
   ]
  },
  {
   "cell_type": "code",
   "execution_count": null,
   "metadata": {},
   "outputs": [],
   "source": [
    "V_GSQ_V_a_dc_sweep = np.array([      3.057,       2.754,       2.562,       2.391,       2.292,       2.180])\n",
    "V_DSQ_V_a_dc_sweep = []\n",
    "I_DQ_mA_a_dc_sweep = []\n",
    "\n",
    "for idx in range(len(V_GSQ_V_a_dc_sweep)):\n",
    "    V_DSQ_V_a_dc_sweep.append(data['(V(VD))@%d' % (idx+1)] / 1000.)\n",
    "    I_DQ_mA_a_dc_sweep.append(data['(ID(M1))@%d' % (idx+1)])"
   ]
  },
  {
   "cell_type": "markdown",
   "metadata": {},
   "source": [
    "### 3. $V_{DSQ}$ - $I_{DQ}$ 그래프를 그린다."
   ]
  },
  {
   "cell_type": "code",
   "execution_count": null,
   "metadata": {},
   "outputs": [],
   "source": [
    "plt.xlabel('V_DSQ_V')\n",
    "plt.ylabel('I_DQ_mA')\n",
    "plt.axhline(0, color='black')\n",
    "plt.axvline(0, color='black')\n",
    "plt.xlim([-0.5, 16])\n",
    "plt.ylim([-1, 210])\n",
    "for idx in range(len(V_GSQ_V_a_dc_sweep)):\n",
    "    draw_plot(V_DSQ_V_a_dc_sweep[idx], I_DQ_mA_a_dc_sweep[idx], '(V_GSQ_v=%1.3f)' % V_GSQ_V_a_dc_sweep[idx], idx, marker_num=0)\n",
    "plt.show()"
   ]
  },
  {
   "cell_type": "markdown",
   "metadata": {},
   "source": [
    "### 4. 시뮬레이션 2-1의 결과와 비교한다."
   ]
  },
  {
   "cell_type": "code",
   "execution_count": null,
   "metadata": {},
   "outputs": [],
   "source": [
    "plt.xlabel('V_DSQ_V')\n",
    "plt.ylabel('I_DQ_mA')\n",
    "plt.axhline(0, color='black')\n",
    "plt.axvline(0, color='black')\n",
    "plt.xlim([-0.5, 16])\n",
    "plt.ylim([-1, 210])\n",
    "for idx in range(len(R_S_kOhm_a)):\n",
    "    draw_plot([0, V_DD_V], [V_DD_V/(R_D_kOhm + R_S_kOhm_a[idx]), 0], None, idx, marker_num = 0)\n",
    "    draw_plot(V_DSQ_V_a[idx], I_DQ_mA_a[idx], '(R_S_kOhm=%1.3f)' % R_S_kOhm_a[idx], idx, scatter=True, scatter_s=20)\n",
    "for idx in range(len(V_GSQ_V_a_dc_sweep)):\n",
    "    draw_plot(V_DSQ_V_a_dc_sweep[idx], I_DQ_mA_a_dc_sweep[idx], '(V_GSQ_v=%1.3f)' % V_GSQ_V_a_dc_sweep[idx], idx, marker_num=0)\n",
    "plt.show()"
   ]
  }
 ],
 "metadata": {
  "kernelspec": {
   "display_name": "Python 3.10.6 64-bit",
   "language": "python",
   "name": "python3"
  },
  "language_info": {
   "codemirror_mode": {
    "name": "ipython",
    "version": 3
   },
   "file_extension": ".py",
   "mimetype": "text/x-python",
   "name": "python",
   "nbconvert_exporter": "python",
   "pygments_lexer": "ipython3",
   "version": "3.10.6"
  },
  "orig_nbformat": 4,
  "vscode": {
   "interpreter": {
    "hash": "45d5ea1a628b116fc37336f3e2703270bd779ac9277507a8bf46eb41278a50a9"
   }
  }
 },
 "nbformat": 4,
 "nbformat_minor": 2
}
